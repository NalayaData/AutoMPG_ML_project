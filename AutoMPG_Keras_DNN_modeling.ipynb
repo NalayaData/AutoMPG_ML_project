{
  "nbformat": 4,
  "nbformat_minor": 0,
  "metadata": {
    "colab": {
      "provenance": []
    },
    "kernelspec": {
      "name": "python3",
      "display_name": "Python 3"
    },
    "language_info": {
      "name": "python"
    }
  },
  "cells": [
    {
      "cell_type": "markdown",
      "source": [
        "## Work Description\n",
        "\n",
        "We recall that in our previous notebook AutoMPG_EDA, we introduced the dataset AutoMPG, described its content and analysed the different relationships between our target variable 'MPG' and the other discret and continuous variables present in the dataset. Then, we proceed to construct, assess, and refine various regression models using the scikit-learn package in our notebook, \"AutoMPG_Comparing_ML_Models\". The current notebook is dedicated to another type of solution to solve Auto MPG prediction problem. In the era of deep learning, we explore the potential of neural networks for regression tasks. Utilizing the Keras Sequential API, our \"AutoMPG_Keras_DNN_Model\" notebook details the creation, evaluation, and enhancement of a basic deep learning regression model tailored to our dataset. We will address issues such as overfitting and employ various techniques to improve model performance, including cross-validation, early stopping, and hyperparameter tuning using Keras Tuner. Ultimately, we will compare the performance of our best-performing DNN model with the best-performing machine learning model identified in our previous experiments.\n",
        "\n",
        "### Work Outline\n",
        "1. Data preparation for the training\n",
        "2. Creating the Keras DNN baseline model and evaluate it\n",
        "3. Improving the model performances using the Early stopping technique\n",
        "4. Hyperparameters Tuning using Keras Tuner\n",
        "5. Evaluation and comparaison\n",
        "6. Saving the final model\n",
        "\n",
        "### Dataset description\n",
        "**AUTOMPG**: *Mileage per gallon performances of various cars*\n",
        "\n",
        "The data is technical spec of cars. The dataset is downloaded from UCI Machine Learning Repository.\n",
        "\n",
        "**Source**\n",
        " Origin: This dataset was taken from the StatLib library which is maintained at Carnegie Mellon University. The dataset was used in the 1983 American Statistical Association Exposition.\n",
        "\n",
        "**Attribute Information**\n",
        "\n",
        "    * mpg: continuous\n",
        "    * cylinders: multi-valued discrete\n",
        "    * displacement: continuous\n",
        "    * horsepower: continuous\n",
        "    * weight: continuous\n",
        "    * acceleration: continuous\n",
        "    * model year: multi-valued discrete\n",
        "    * origin: multi-valued discrete\n",
        "    * car name: string (unique for each instance)\n",
        "\n",
        "\n",
        "    "
      ],
      "metadata": {
        "id": "J7fWhbfk82CJ"
      }
    },
    {
      "cell_type": "markdown",
      "source": [
        "**Use these command to install Tensorflow and Keras Tuner if they are not already installed**"
      ],
      "metadata": {
        "id": "BYIXz4m1xtEw"
      }
    },
    {
      "cell_type": "code",
      "execution_count": null,
      "metadata": {
        "id": "dtI608rTBsEd"
      },
      "outputs": [],
      "source": [
        "!pip install tensorflow"
      ]
    },
    {
      "cell_type": "code",
      "source": [
        "!pip install keras_tuner"
      ],
      "metadata": {
        "colab": {
          "base_uri": "https://localhost:8080/"
        },
        "id": "GlYQx4KXtVfU",
        "outputId": "795f1a71-9174-4d2c-bf2d-84d3d28850d9"
      },
      "execution_count": null,
      "outputs": [
        {
          "output_type": "stream",
          "name": "stdout",
          "text": [
            "Collecting keras_tuner\n",
            "  Downloading keras_tuner-1.4.7-py3-none-any.whl (129 kB)\n",
            "\u001b[?25l     \u001b[90m━━━━━━━━━━━━━━━━━━━━━━━━━━━━━━━━━━━━━━━━\u001b[0m \u001b[32m0.0/129.1 kB\u001b[0m \u001b[31m?\u001b[0m eta \u001b[36m-:--:--\u001b[0m\r\u001b[2K     \u001b[90m━━━━━━━━━━━━━━━━━━━━━━━━━━━━━━━━━━━━━━━━\u001b[0m \u001b[32m129.1/129.1 kB\u001b[0m \u001b[31m4.1 MB/s\u001b[0m eta \u001b[36m0:00:00\u001b[0m\n",
            "\u001b[?25hRequirement already satisfied: keras in /usr/local/lib/python3.10/dist-packages (from keras_tuner) (2.15.0)\n",
            "Requirement already satisfied: packaging in /usr/local/lib/python3.10/dist-packages (from keras_tuner) (24.0)\n",
            "Requirement already satisfied: requests in /usr/local/lib/python3.10/dist-packages (from keras_tuner) (2.31.0)\n",
            "Collecting kt-legacy (from keras_tuner)\n",
            "  Downloading kt_legacy-1.0.5-py3-none-any.whl (9.6 kB)\n",
            "Requirement already satisfied: charset-normalizer<4,>=2 in /usr/local/lib/python3.10/dist-packages (from requests->keras_tuner) (3.3.2)\n",
            "Requirement already satisfied: idna<4,>=2.5 in /usr/local/lib/python3.10/dist-packages (from requests->keras_tuner) (3.7)\n",
            "Requirement already satisfied: urllib3<3,>=1.21.1 in /usr/local/lib/python3.10/dist-packages (from requests->keras_tuner) (2.0.7)\n",
            "Requirement already satisfied: certifi>=2017.4.17 in /usr/local/lib/python3.10/dist-packages (from requests->keras_tuner) (2024.2.2)\n",
            "Installing collected packages: kt-legacy, keras_tuner\n",
            "Successfully installed keras_tuner-1.4.7 kt-legacy-1.0.5\n"
          ]
        }
      ]
    },
    {
      "cell_type": "markdown",
      "source": [
        "**Importing the python libs and packages**"
      ],
      "metadata": {
        "id": "l_Yn3jMKx4S7"
      }
    },
    {
      "cell_type": "code",
      "source": [
        "from __future__ import absolute_import, print_function, division\n",
        "import warnings\n",
        "warnings.filterwarnings('ignore')\n",
        "\n",
        "import numpy as np\n",
        "import tensorflow as tf\n",
        "import seaborn as sns\n",
        "import matplotlib.pyplot as plt\n",
        "import pandas as pd\n",
        "import pathlib\n",
        "from tensorflow import keras\n",
        "from keras import layers\n",
        "from sklearn.model_selection import train_test_split, KFold\n",
        "from sklearn.preprocessing import StandardScaler, LabelEncoder, OneHotEncoder\n",
        "from sklearn.pipeline import Pipeline\n",
        "from sklearn.linear_model import LinearRegression\n",
        "from sklearn.metrics import mean_absolute_percentage_error, r2_score, mean_absolute_error, mean_squared_error\n",
        "from sklearn.ensemble import GradientBoostingRegressor\n",
        "from sklearn.utils import shuffle\n",
        "import keras_tuner as kt\n",
        "import random\n",
        "\n",
        "print(tf.__version__)\n",
        "\n",
        "#set random seeds\n",
        "seed = 42\n",
        "np.random.seed(seed)\n",
        "tf.random.set_seed(seed)\n",
        "random.seed(seed)\n"
      ],
      "metadata": {
        "colab": {
          "base_uri": "https://localhost:8080/"
        },
        "id": "-zxdouFsJCMx",
        "outputId": "bd60227b-4d06-440b-e40f-de68ead677a0"
      },
      "execution_count": null,
      "outputs": [
        {
          "output_type": "stream",
          "name": "stdout",
          "text": [
            "2.15.0\n"
          ]
        }
      ]
    },
    {
      "cell_type": "markdown",
      "source": [
        "# Task 1 : Data preparation for the training"
      ],
      "metadata": {
        "id": "gRxYX7DGKPsB"
      }
    },
    {
      "cell_type": "markdown",
      "source": [
        "### 1.1 Loading the data"
      ],
      "metadata": {
        "id": "TZU8123eYz7f"
      }
    },
    {
      "cell_type": "code",
      "source": [
        "dataset_path= 'http://archive.ics.uci.edu/ml/machine-learning-databases/auto-mpg/auto-mpg.data'\n",
        "\n",
        "column_names = ['MPG', 'Cylinders', 'Displacement', 'Horsepower', 'Weight',\n",
        "                'Acceleration', 'Model Year', 'Origin']\n"
      ],
      "metadata": {
        "id": "702NDMVwtE2p"
      },
      "execution_count": null,
      "outputs": []
    },
    {
      "cell_type": "code",
      "source": [
        "dataset_raw= pd.read_csv(dataset_path, names=column_names, na_values='?', comment= \"\\t\", sep=\" \", skipinitialspace=True )"
      ],
      "metadata": {
        "id": "zcbEX-PVtMjn"
      },
      "execution_count": null,
      "outputs": []
    },
    {
      "cell_type": "code",
      "source": [
        "dataset_raw.head()"
      ],
      "metadata": {
        "colab": {
          "base_uri": "https://localhost:8080/",
          "height": 206
        },
        "id": "ENL3nPgqt9SS",
        "outputId": "a3e2b7d9-2f25-40f1-a9ef-16f2be1d2efc"
      },
      "execution_count": null,
      "outputs": [
        {
          "output_type": "execute_result",
          "data": {
            "text/plain": [
              "    MPG  Cylinders  Displacement  Horsepower  Weight  Acceleration  \\\n",
              "0  18.0          8         307.0       130.0  3504.0          12.0   \n",
              "1  15.0          8         350.0       165.0  3693.0          11.5   \n",
              "2  18.0          8         318.0       150.0  3436.0          11.0   \n",
              "3  16.0          8         304.0       150.0  3433.0          12.0   \n",
              "4  17.0          8         302.0       140.0  3449.0          10.5   \n",
              "\n",
              "   Model Year  Origin  \n",
              "0          70       1  \n",
              "1          70       1  \n",
              "2          70       1  \n",
              "3          70       1  \n",
              "4          70       1  "
            ],
            "text/html": [
              "\n",
              "  <div id=\"df-27ba7e10-26af-4425-9f78-e4a69e4f8b57\" class=\"colab-df-container\">\n",
              "    <div>\n",
              "<style scoped>\n",
              "    .dataframe tbody tr th:only-of-type {\n",
              "        vertical-align: middle;\n",
              "    }\n",
              "\n",
              "    .dataframe tbody tr th {\n",
              "        vertical-align: top;\n",
              "    }\n",
              "\n",
              "    .dataframe thead th {\n",
              "        text-align: right;\n",
              "    }\n",
              "</style>\n",
              "<table border=\"1\" class=\"dataframe\">\n",
              "  <thead>\n",
              "    <tr style=\"text-align: right;\">\n",
              "      <th></th>\n",
              "      <th>MPG</th>\n",
              "      <th>Cylinders</th>\n",
              "      <th>Displacement</th>\n",
              "      <th>Horsepower</th>\n",
              "      <th>Weight</th>\n",
              "      <th>Acceleration</th>\n",
              "      <th>Model Year</th>\n",
              "      <th>Origin</th>\n",
              "    </tr>\n",
              "  </thead>\n",
              "  <tbody>\n",
              "    <tr>\n",
              "      <th>0</th>\n",
              "      <td>18.0</td>\n",
              "      <td>8</td>\n",
              "      <td>307.0</td>\n",
              "      <td>130.0</td>\n",
              "      <td>3504.0</td>\n",
              "      <td>12.0</td>\n",
              "      <td>70</td>\n",
              "      <td>1</td>\n",
              "    </tr>\n",
              "    <tr>\n",
              "      <th>1</th>\n",
              "      <td>15.0</td>\n",
              "      <td>8</td>\n",
              "      <td>350.0</td>\n",
              "      <td>165.0</td>\n",
              "      <td>3693.0</td>\n",
              "      <td>11.5</td>\n",
              "      <td>70</td>\n",
              "      <td>1</td>\n",
              "    </tr>\n",
              "    <tr>\n",
              "      <th>2</th>\n",
              "      <td>18.0</td>\n",
              "      <td>8</td>\n",
              "      <td>318.0</td>\n",
              "      <td>150.0</td>\n",
              "      <td>3436.0</td>\n",
              "      <td>11.0</td>\n",
              "      <td>70</td>\n",
              "      <td>1</td>\n",
              "    </tr>\n",
              "    <tr>\n",
              "      <th>3</th>\n",
              "      <td>16.0</td>\n",
              "      <td>8</td>\n",
              "      <td>304.0</td>\n",
              "      <td>150.0</td>\n",
              "      <td>3433.0</td>\n",
              "      <td>12.0</td>\n",
              "      <td>70</td>\n",
              "      <td>1</td>\n",
              "    </tr>\n",
              "    <tr>\n",
              "      <th>4</th>\n",
              "      <td>17.0</td>\n",
              "      <td>8</td>\n",
              "      <td>302.0</td>\n",
              "      <td>140.0</td>\n",
              "      <td>3449.0</td>\n",
              "      <td>10.5</td>\n",
              "      <td>70</td>\n",
              "      <td>1</td>\n",
              "    </tr>\n",
              "  </tbody>\n",
              "</table>\n",
              "</div>\n",
              "    <div class=\"colab-df-buttons\">\n",
              "\n",
              "  <div class=\"colab-df-container\">\n",
              "    <button class=\"colab-df-convert\" onclick=\"convertToInteractive('df-27ba7e10-26af-4425-9f78-e4a69e4f8b57')\"\n",
              "            title=\"Convert this dataframe to an interactive table.\"\n",
              "            style=\"display:none;\">\n",
              "\n",
              "  <svg xmlns=\"http://www.w3.org/2000/svg\" height=\"24px\" viewBox=\"0 -960 960 960\">\n",
              "    <path d=\"M120-120v-720h720v720H120Zm60-500h600v-160H180v160Zm220 220h160v-160H400v160Zm0 220h160v-160H400v160ZM180-400h160v-160H180v160Zm440 0h160v-160H620v160ZM180-180h160v-160H180v160Zm440 0h160v-160H620v160Z\"/>\n",
              "  </svg>\n",
              "    </button>\n",
              "\n",
              "  <style>\n",
              "    .colab-df-container {\n",
              "      display:flex;\n",
              "      gap: 12px;\n",
              "    }\n",
              "\n",
              "    .colab-df-convert {\n",
              "      background-color: #E8F0FE;\n",
              "      border: none;\n",
              "      border-radius: 50%;\n",
              "      cursor: pointer;\n",
              "      display: none;\n",
              "      fill: #1967D2;\n",
              "      height: 32px;\n",
              "      padding: 0 0 0 0;\n",
              "      width: 32px;\n",
              "    }\n",
              "\n",
              "    .colab-df-convert:hover {\n",
              "      background-color: #E2EBFA;\n",
              "      box-shadow: 0px 1px 2px rgba(60, 64, 67, 0.3), 0px 1px 3px 1px rgba(60, 64, 67, 0.15);\n",
              "      fill: #174EA6;\n",
              "    }\n",
              "\n",
              "    .colab-df-buttons div {\n",
              "      margin-bottom: 4px;\n",
              "    }\n",
              "\n",
              "    [theme=dark] .colab-df-convert {\n",
              "      background-color: #3B4455;\n",
              "      fill: #D2E3FC;\n",
              "    }\n",
              "\n",
              "    [theme=dark] .colab-df-convert:hover {\n",
              "      background-color: #434B5C;\n",
              "      box-shadow: 0px 1px 3px 1px rgba(0, 0, 0, 0.15);\n",
              "      filter: drop-shadow(0px 1px 2px rgba(0, 0, 0, 0.3));\n",
              "      fill: #FFFFFF;\n",
              "    }\n",
              "  </style>\n",
              "\n",
              "    <script>\n",
              "      const buttonEl =\n",
              "        document.querySelector('#df-27ba7e10-26af-4425-9f78-e4a69e4f8b57 button.colab-df-convert');\n",
              "      buttonEl.style.display =\n",
              "        google.colab.kernel.accessAllowed ? 'block' : 'none';\n",
              "\n",
              "      async function convertToInteractive(key) {\n",
              "        const element = document.querySelector('#df-27ba7e10-26af-4425-9f78-e4a69e4f8b57');\n",
              "        const dataTable =\n",
              "          await google.colab.kernel.invokeFunction('convertToInteractive',\n",
              "                                                    [key], {});\n",
              "        if (!dataTable) return;\n",
              "\n",
              "        const docLinkHtml = 'Like what you see? Visit the ' +\n",
              "          '<a target=\"_blank\" href=https://colab.research.google.com/notebooks/data_table.ipynb>data table notebook</a>'\n",
              "          + ' to learn more about interactive tables.';\n",
              "        element.innerHTML = '';\n",
              "        dataTable['output_type'] = 'display_data';\n",
              "        await google.colab.output.renderOutput(dataTable, element);\n",
              "        const docLink = document.createElement('div');\n",
              "        docLink.innerHTML = docLinkHtml;\n",
              "        element.appendChild(docLink);\n",
              "      }\n",
              "    </script>\n",
              "  </div>\n",
              "\n",
              "\n",
              "<div id=\"df-1599b3c8-49e4-46bb-9fd0-61313912056b\">\n",
              "  <button class=\"colab-df-quickchart\" onclick=\"quickchart('df-1599b3c8-49e4-46bb-9fd0-61313912056b')\"\n",
              "            title=\"Suggest charts\"\n",
              "            style=\"display:none;\">\n",
              "\n",
              "<svg xmlns=\"http://www.w3.org/2000/svg\" height=\"24px\"viewBox=\"0 0 24 24\"\n",
              "     width=\"24px\">\n",
              "    <g>\n",
              "        <path d=\"M19 3H5c-1.1 0-2 .9-2 2v14c0 1.1.9 2 2 2h14c1.1 0 2-.9 2-2V5c0-1.1-.9-2-2-2zM9 17H7v-7h2v7zm4 0h-2V7h2v10zm4 0h-2v-4h2v4z\"/>\n",
              "    </g>\n",
              "</svg>\n",
              "  </button>\n",
              "\n",
              "<style>\n",
              "  .colab-df-quickchart {\n",
              "      --bg-color: #E8F0FE;\n",
              "      --fill-color: #1967D2;\n",
              "      --hover-bg-color: #E2EBFA;\n",
              "      --hover-fill-color: #174EA6;\n",
              "      --disabled-fill-color: #AAA;\n",
              "      --disabled-bg-color: #DDD;\n",
              "  }\n",
              "\n",
              "  [theme=dark] .colab-df-quickchart {\n",
              "      --bg-color: #3B4455;\n",
              "      --fill-color: #D2E3FC;\n",
              "      --hover-bg-color: #434B5C;\n",
              "      --hover-fill-color: #FFFFFF;\n",
              "      --disabled-bg-color: #3B4455;\n",
              "      --disabled-fill-color: #666;\n",
              "  }\n",
              "\n",
              "  .colab-df-quickchart {\n",
              "    background-color: var(--bg-color);\n",
              "    border: none;\n",
              "    border-radius: 50%;\n",
              "    cursor: pointer;\n",
              "    display: none;\n",
              "    fill: var(--fill-color);\n",
              "    height: 32px;\n",
              "    padding: 0;\n",
              "    width: 32px;\n",
              "  }\n",
              "\n",
              "  .colab-df-quickchart:hover {\n",
              "    background-color: var(--hover-bg-color);\n",
              "    box-shadow: 0 1px 2px rgba(60, 64, 67, 0.3), 0 1px 3px 1px rgba(60, 64, 67, 0.15);\n",
              "    fill: var(--button-hover-fill-color);\n",
              "  }\n",
              "\n",
              "  .colab-df-quickchart-complete:disabled,\n",
              "  .colab-df-quickchart-complete:disabled:hover {\n",
              "    background-color: var(--disabled-bg-color);\n",
              "    fill: var(--disabled-fill-color);\n",
              "    box-shadow: none;\n",
              "  }\n",
              "\n",
              "  .colab-df-spinner {\n",
              "    border: 2px solid var(--fill-color);\n",
              "    border-color: transparent;\n",
              "    border-bottom-color: var(--fill-color);\n",
              "    animation:\n",
              "      spin 1s steps(1) infinite;\n",
              "  }\n",
              "\n",
              "  @keyframes spin {\n",
              "    0% {\n",
              "      border-color: transparent;\n",
              "      border-bottom-color: var(--fill-color);\n",
              "      border-left-color: var(--fill-color);\n",
              "    }\n",
              "    20% {\n",
              "      border-color: transparent;\n",
              "      border-left-color: var(--fill-color);\n",
              "      border-top-color: var(--fill-color);\n",
              "    }\n",
              "    30% {\n",
              "      border-color: transparent;\n",
              "      border-left-color: var(--fill-color);\n",
              "      border-top-color: var(--fill-color);\n",
              "      border-right-color: var(--fill-color);\n",
              "    }\n",
              "    40% {\n",
              "      border-color: transparent;\n",
              "      border-right-color: var(--fill-color);\n",
              "      border-top-color: var(--fill-color);\n",
              "    }\n",
              "    60% {\n",
              "      border-color: transparent;\n",
              "      border-right-color: var(--fill-color);\n",
              "    }\n",
              "    80% {\n",
              "      border-color: transparent;\n",
              "      border-right-color: var(--fill-color);\n",
              "      border-bottom-color: var(--fill-color);\n",
              "    }\n",
              "    90% {\n",
              "      border-color: transparent;\n",
              "      border-bottom-color: var(--fill-color);\n",
              "    }\n",
              "  }\n",
              "</style>\n",
              "\n",
              "  <script>\n",
              "    async function quickchart(key) {\n",
              "      const quickchartButtonEl =\n",
              "        document.querySelector('#' + key + ' button');\n",
              "      quickchartButtonEl.disabled = true;  // To prevent multiple clicks.\n",
              "      quickchartButtonEl.classList.add('colab-df-spinner');\n",
              "      try {\n",
              "        const charts = await google.colab.kernel.invokeFunction(\n",
              "            'suggestCharts', [key], {});\n",
              "      } catch (error) {\n",
              "        console.error('Error during call to suggestCharts:', error);\n",
              "      }\n",
              "      quickchartButtonEl.classList.remove('colab-df-spinner');\n",
              "      quickchartButtonEl.classList.add('colab-df-quickchart-complete');\n",
              "    }\n",
              "    (() => {\n",
              "      let quickchartButtonEl =\n",
              "        document.querySelector('#df-1599b3c8-49e4-46bb-9fd0-61313912056b button');\n",
              "      quickchartButtonEl.style.display =\n",
              "        google.colab.kernel.accessAllowed ? 'block' : 'none';\n",
              "    })();\n",
              "  </script>\n",
              "</div>\n",
              "\n",
              "    </div>\n",
              "  </div>\n"
            ],
            "application/vnd.google.colaboratory.intrinsic+json": {
              "type": "dataframe",
              "variable_name": "dataset_raw",
              "summary": "{\n  \"name\": \"dataset_raw\",\n  \"rows\": 398,\n  \"fields\": [\n    {\n      \"column\": \"MPG\",\n      \"properties\": {\n        \"dtype\": \"number\",\n        \"std\": 7.815984312565782,\n        \"min\": 9.0,\n        \"max\": 46.6,\n        \"num_unique_values\": 129,\n        \"samples\": [\n          17.7,\n          30.5,\n          30.0\n        ],\n        \"semantic_type\": \"\",\n        \"description\": \"\"\n      }\n    },\n    {\n      \"column\": \"Cylinders\",\n      \"properties\": {\n        \"dtype\": \"number\",\n        \"std\": 1,\n        \"min\": 3,\n        \"max\": 8,\n        \"num_unique_values\": 5,\n        \"samples\": [\n          4,\n          5,\n          6\n        ],\n        \"semantic_type\": \"\",\n        \"description\": \"\"\n      }\n    },\n    {\n      \"column\": \"Displacement\",\n      \"properties\": {\n        \"dtype\": \"number\",\n        \"std\": 104.26983817119591,\n        \"min\": 68.0,\n        \"max\": 455.0,\n        \"num_unique_values\": 82,\n        \"samples\": [\n          122.0,\n          307.0,\n          360.0\n        ],\n        \"semantic_type\": \"\",\n        \"description\": \"\"\n      }\n    },\n    {\n      \"column\": \"Horsepower\",\n      \"properties\": {\n        \"dtype\": \"number\",\n        \"std\": 38.49115993282849,\n        \"min\": 46.0,\n        \"max\": 230.0,\n        \"num_unique_values\": 93,\n        \"samples\": [\n          92.0,\n          100.0,\n          52.0\n        ],\n        \"semantic_type\": \"\",\n        \"description\": \"\"\n      }\n    },\n    {\n      \"column\": \"Weight\",\n      \"properties\": {\n        \"dtype\": \"number\",\n        \"std\": 846.8417741973268,\n        \"min\": 1613.0,\n        \"max\": 5140.0,\n        \"num_unique_values\": 351,\n        \"samples\": [\n          3730.0,\n          1995.0,\n          2215.0\n        ],\n        \"semantic_type\": \"\",\n        \"description\": \"\"\n      }\n    },\n    {\n      \"column\": \"Acceleration\",\n      \"properties\": {\n        \"dtype\": \"number\",\n        \"std\": 2.757688929812676,\n        \"min\": 8.0,\n        \"max\": 24.8,\n        \"num_unique_values\": 95,\n        \"samples\": [\n          14.7,\n          18.0,\n          14.3\n        ],\n        \"semantic_type\": \"\",\n        \"description\": \"\"\n      }\n    },\n    {\n      \"column\": \"Model Year\",\n      \"properties\": {\n        \"dtype\": \"number\",\n        \"std\": 3,\n        \"min\": 70,\n        \"max\": 82,\n        \"num_unique_values\": 13,\n        \"samples\": [\n          81,\n          79,\n          70\n        ],\n        \"semantic_type\": \"\",\n        \"description\": \"\"\n      }\n    },\n    {\n      \"column\": \"Origin\",\n      \"properties\": {\n        \"dtype\": \"number\",\n        \"std\": 0,\n        \"min\": 1,\n        \"max\": 3,\n        \"num_unique_values\": 3,\n        \"samples\": [\n          1,\n          3,\n          2\n        ],\n        \"semantic_type\": \"\",\n        \"description\": \"\"\n      }\n    }\n  ]\n}"
            }
          },
          "metadata": {},
          "execution_count": 6
        }
      ]
    },
    {
      "cell_type": "code",
      "source": [
        "dataset_raw.shape"
      ],
      "metadata": {
        "colab": {
          "base_uri": "https://localhost:8080/"
        },
        "id": "RAyQ3Xy7t_xa",
        "outputId": "71d8e75e-750b-49af-f5de-a76c919f72b7"
      },
      "execution_count": null,
      "outputs": [
        {
          "output_type": "execute_result",
          "data": {
            "text/plain": [
              "(398, 8)"
            ]
          },
          "metadata": {},
          "execution_count": 7
        }
      ]
    },
    {
      "cell_type": "markdown",
      "source": [
        "\n",
        "### 1.2 Describing the data"
      ],
      "metadata": {
        "id": "qKio8lcav7aD"
      }
    },
    {
      "cell_type": "code",
      "source": [
        "dataset_raw.info()"
      ],
      "metadata": {
        "colab": {
          "base_uri": "https://localhost:8080/"
        },
        "id": "ZuIS3J6UI_JB",
        "outputId": "6aba9e04-89c6-4840-b671-0ee8922a6e7d"
      },
      "execution_count": null,
      "outputs": [
        {
          "output_type": "stream",
          "name": "stdout",
          "text": [
            "<class 'pandas.core.frame.DataFrame'>\n",
            "RangeIndex: 398 entries, 0 to 397\n",
            "Data columns (total 8 columns):\n",
            " #   Column        Non-Null Count  Dtype  \n",
            "---  ------        --------------  -----  \n",
            " 0   MPG           398 non-null    float64\n",
            " 1   Cylinders     398 non-null    int64  \n",
            " 2   Displacement  398 non-null    float64\n",
            " 3   Horsepower    392 non-null    float64\n",
            " 4   Weight        398 non-null    float64\n",
            " 5   Acceleration  398 non-null    float64\n",
            " 6   Model Year    398 non-null    int64  \n",
            " 7   Origin        398 non-null    int64  \n",
            "dtypes: float64(5), int64(3)\n",
            "memory usage: 25.0 KB\n"
          ]
        }
      ]
    },
    {
      "cell_type": "code",
      "source": [
        "dataset_raw.describe()"
      ],
      "metadata": {
        "colab": {
          "base_uri": "https://localhost:8080/",
          "height": 300
        },
        "id": "ppTB3TMPIc3-",
        "outputId": "2c5accd0-8a97-443a-d3a3-928331b18558"
      },
      "execution_count": null,
      "outputs": [
        {
          "output_type": "execute_result",
          "data": {
            "text/plain": [
              "              MPG   Cylinders  Displacement  Horsepower       Weight  \\\n",
              "count  398.000000  398.000000    398.000000  392.000000   398.000000   \n",
              "mean    23.514573    5.454774    193.425879  104.469388  2970.424623   \n",
              "std      7.815984    1.701004    104.269838   38.491160   846.841774   \n",
              "min      9.000000    3.000000     68.000000   46.000000  1613.000000   \n",
              "25%     17.500000    4.000000    104.250000   75.000000  2223.750000   \n",
              "50%     23.000000    4.000000    148.500000   93.500000  2803.500000   \n",
              "75%     29.000000    8.000000    262.000000  126.000000  3608.000000   \n",
              "max     46.600000    8.000000    455.000000  230.000000  5140.000000   \n",
              "\n",
              "       Acceleration  Model Year      Origin  \n",
              "count    398.000000  398.000000  398.000000  \n",
              "mean      15.568090   76.010050    1.572864  \n",
              "std        2.757689    3.697627    0.802055  \n",
              "min        8.000000   70.000000    1.000000  \n",
              "25%       13.825000   73.000000    1.000000  \n",
              "50%       15.500000   76.000000    1.000000  \n",
              "75%       17.175000   79.000000    2.000000  \n",
              "max       24.800000   82.000000    3.000000  "
            ],
            "text/html": [
              "\n",
              "  <div id=\"df-ed081a33-534d-4bca-ba22-2ff343fbef30\" class=\"colab-df-container\">\n",
              "    <div>\n",
              "<style scoped>\n",
              "    .dataframe tbody tr th:only-of-type {\n",
              "        vertical-align: middle;\n",
              "    }\n",
              "\n",
              "    .dataframe tbody tr th {\n",
              "        vertical-align: top;\n",
              "    }\n",
              "\n",
              "    .dataframe thead th {\n",
              "        text-align: right;\n",
              "    }\n",
              "</style>\n",
              "<table border=\"1\" class=\"dataframe\">\n",
              "  <thead>\n",
              "    <tr style=\"text-align: right;\">\n",
              "      <th></th>\n",
              "      <th>MPG</th>\n",
              "      <th>Cylinders</th>\n",
              "      <th>Displacement</th>\n",
              "      <th>Horsepower</th>\n",
              "      <th>Weight</th>\n",
              "      <th>Acceleration</th>\n",
              "      <th>Model Year</th>\n",
              "      <th>Origin</th>\n",
              "    </tr>\n",
              "  </thead>\n",
              "  <tbody>\n",
              "    <tr>\n",
              "      <th>count</th>\n",
              "      <td>398.000000</td>\n",
              "      <td>398.000000</td>\n",
              "      <td>398.000000</td>\n",
              "      <td>392.000000</td>\n",
              "      <td>398.000000</td>\n",
              "      <td>398.000000</td>\n",
              "      <td>398.000000</td>\n",
              "      <td>398.000000</td>\n",
              "    </tr>\n",
              "    <tr>\n",
              "      <th>mean</th>\n",
              "      <td>23.514573</td>\n",
              "      <td>5.454774</td>\n",
              "      <td>193.425879</td>\n",
              "      <td>104.469388</td>\n",
              "      <td>2970.424623</td>\n",
              "      <td>15.568090</td>\n",
              "      <td>76.010050</td>\n",
              "      <td>1.572864</td>\n",
              "    </tr>\n",
              "    <tr>\n",
              "      <th>std</th>\n",
              "      <td>7.815984</td>\n",
              "      <td>1.701004</td>\n",
              "      <td>104.269838</td>\n",
              "      <td>38.491160</td>\n",
              "      <td>846.841774</td>\n",
              "      <td>2.757689</td>\n",
              "      <td>3.697627</td>\n",
              "      <td>0.802055</td>\n",
              "    </tr>\n",
              "    <tr>\n",
              "      <th>min</th>\n",
              "      <td>9.000000</td>\n",
              "      <td>3.000000</td>\n",
              "      <td>68.000000</td>\n",
              "      <td>46.000000</td>\n",
              "      <td>1613.000000</td>\n",
              "      <td>8.000000</td>\n",
              "      <td>70.000000</td>\n",
              "      <td>1.000000</td>\n",
              "    </tr>\n",
              "    <tr>\n",
              "      <th>25%</th>\n",
              "      <td>17.500000</td>\n",
              "      <td>4.000000</td>\n",
              "      <td>104.250000</td>\n",
              "      <td>75.000000</td>\n",
              "      <td>2223.750000</td>\n",
              "      <td>13.825000</td>\n",
              "      <td>73.000000</td>\n",
              "      <td>1.000000</td>\n",
              "    </tr>\n",
              "    <tr>\n",
              "      <th>50%</th>\n",
              "      <td>23.000000</td>\n",
              "      <td>4.000000</td>\n",
              "      <td>148.500000</td>\n",
              "      <td>93.500000</td>\n",
              "      <td>2803.500000</td>\n",
              "      <td>15.500000</td>\n",
              "      <td>76.000000</td>\n",
              "      <td>1.000000</td>\n",
              "    </tr>\n",
              "    <tr>\n",
              "      <th>75%</th>\n",
              "      <td>29.000000</td>\n",
              "      <td>8.000000</td>\n",
              "      <td>262.000000</td>\n",
              "      <td>126.000000</td>\n",
              "      <td>3608.000000</td>\n",
              "      <td>17.175000</td>\n",
              "      <td>79.000000</td>\n",
              "      <td>2.000000</td>\n",
              "    </tr>\n",
              "    <tr>\n",
              "      <th>max</th>\n",
              "      <td>46.600000</td>\n",
              "      <td>8.000000</td>\n",
              "      <td>455.000000</td>\n",
              "      <td>230.000000</td>\n",
              "      <td>5140.000000</td>\n",
              "      <td>24.800000</td>\n",
              "      <td>82.000000</td>\n",
              "      <td>3.000000</td>\n",
              "    </tr>\n",
              "  </tbody>\n",
              "</table>\n",
              "</div>\n",
              "    <div class=\"colab-df-buttons\">\n",
              "\n",
              "  <div class=\"colab-df-container\">\n",
              "    <button class=\"colab-df-convert\" onclick=\"convertToInteractive('df-ed081a33-534d-4bca-ba22-2ff343fbef30')\"\n",
              "            title=\"Convert this dataframe to an interactive table.\"\n",
              "            style=\"display:none;\">\n",
              "\n",
              "  <svg xmlns=\"http://www.w3.org/2000/svg\" height=\"24px\" viewBox=\"0 -960 960 960\">\n",
              "    <path d=\"M120-120v-720h720v720H120Zm60-500h600v-160H180v160Zm220 220h160v-160H400v160Zm0 220h160v-160H400v160ZM180-400h160v-160H180v160Zm440 0h160v-160H620v160ZM180-180h160v-160H180v160Zm440 0h160v-160H620v160Z\"/>\n",
              "  </svg>\n",
              "    </button>\n",
              "\n",
              "  <style>\n",
              "    .colab-df-container {\n",
              "      display:flex;\n",
              "      gap: 12px;\n",
              "    }\n",
              "\n",
              "    .colab-df-convert {\n",
              "      background-color: #E8F0FE;\n",
              "      border: none;\n",
              "      border-radius: 50%;\n",
              "      cursor: pointer;\n",
              "      display: none;\n",
              "      fill: #1967D2;\n",
              "      height: 32px;\n",
              "      padding: 0 0 0 0;\n",
              "      width: 32px;\n",
              "    }\n",
              "\n",
              "    .colab-df-convert:hover {\n",
              "      background-color: #E2EBFA;\n",
              "      box-shadow: 0px 1px 2px rgba(60, 64, 67, 0.3), 0px 1px 3px 1px rgba(60, 64, 67, 0.15);\n",
              "      fill: #174EA6;\n",
              "    }\n",
              "\n",
              "    .colab-df-buttons div {\n",
              "      margin-bottom: 4px;\n",
              "    }\n",
              "\n",
              "    [theme=dark] .colab-df-convert {\n",
              "      background-color: #3B4455;\n",
              "      fill: #D2E3FC;\n",
              "    }\n",
              "\n",
              "    [theme=dark] .colab-df-convert:hover {\n",
              "      background-color: #434B5C;\n",
              "      box-shadow: 0px 1px 3px 1px rgba(0, 0, 0, 0.15);\n",
              "      filter: drop-shadow(0px 1px 2px rgba(0, 0, 0, 0.3));\n",
              "      fill: #FFFFFF;\n",
              "    }\n",
              "  </style>\n",
              "\n",
              "    <script>\n",
              "      const buttonEl =\n",
              "        document.querySelector('#df-ed081a33-534d-4bca-ba22-2ff343fbef30 button.colab-df-convert');\n",
              "      buttonEl.style.display =\n",
              "        google.colab.kernel.accessAllowed ? 'block' : 'none';\n",
              "\n",
              "      async function convertToInteractive(key) {\n",
              "        const element = document.querySelector('#df-ed081a33-534d-4bca-ba22-2ff343fbef30');\n",
              "        const dataTable =\n",
              "          await google.colab.kernel.invokeFunction('convertToInteractive',\n",
              "                                                    [key], {});\n",
              "        if (!dataTable) return;\n",
              "\n",
              "        const docLinkHtml = 'Like what you see? Visit the ' +\n",
              "          '<a target=\"_blank\" href=https://colab.research.google.com/notebooks/data_table.ipynb>data table notebook</a>'\n",
              "          + ' to learn more about interactive tables.';\n",
              "        element.innerHTML = '';\n",
              "        dataTable['output_type'] = 'display_data';\n",
              "        await google.colab.output.renderOutput(dataTable, element);\n",
              "        const docLink = document.createElement('div');\n",
              "        docLink.innerHTML = docLinkHtml;\n",
              "        element.appendChild(docLink);\n",
              "      }\n",
              "    </script>\n",
              "  </div>\n",
              "\n",
              "\n",
              "<div id=\"df-5d60b4a7-edb7-4454-b9e8-3863d16fadca\">\n",
              "  <button class=\"colab-df-quickchart\" onclick=\"quickchart('df-5d60b4a7-edb7-4454-b9e8-3863d16fadca')\"\n",
              "            title=\"Suggest charts\"\n",
              "            style=\"display:none;\">\n",
              "\n",
              "<svg xmlns=\"http://www.w3.org/2000/svg\" height=\"24px\"viewBox=\"0 0 24 24\"\n",
              "     width=\"24px\">\n",
              "    <g>\n",
              "        <path d=\"M19 3H5c-1.1 0-2 .9-2 2v14c0 1.1.9 2 2 2h14c1.1 0 2-.9 2-2V5c0-1.1-.9-2-2-2zM9 17H7v-7h2v7zm4 0h-2V7h2v10zm4 0h-2v-4h2v4z\"/>\n",
              "    </g>\n",
              "</svg>\n",
              "  </button>\n",
              "\n",
              "<style>\n",
              "  .colab-df-quickchart {\n",
              "      --bg-color: #E8F0FE;\n",
              "      --fill-color: #1967D2;\n",
              "      --hover-bg-color: #E2EBFA;\n",
              "      --hover-fill-color: #174EA6;\n",
              "      --disabled-fill-color: #AAA;\n",
              "      --disabled-bg-color: #DDD;\n",
              "  }\n",
              "\n",
              "  [theme=dark] .colab-df-quickchart {\n",
              "      --bg-color: #3B4455;\n",
              "      --fill-color: #D2E3FC;\n",
              "      --hover-bg-color: #434B5C;\n",
              "      --hover-fill-color: #FFFFFF;\n",
              "      --disabled-bg-color: #3B4455;\n",
              "      --disabled-fill-color: #666;\n",
              "  }\n",
              "\n",
              "  .colab-df-quickchart {\n",
              "    background-color: var(--bg-color);\n",
              "    border: none;\n",
              "    border-radius: 50%;\n",
              "    cursor: pointer;\n",
              "    display: none;\n",
              "    fill: var(--fill-color);\n",
              "    height: 32px;\n",
              "    padding: 0;\n",
              "    width: 32px;\n",
              "  }\n",
              "\n",
              "  .colab-df-quickchart:hover {\n",
              "    background-color: var(--hover-bg-color);\n",
              "    box-shadow: 0 1px 2px rgba(60, 64, 67, 0.3), 0 1px 3px 1px rgba(60, 64, 67, 0.15);\n",
              "    fill: var(--button-hover-fill-color);\n",
              "  }\n",
              "\n",
              "  .colab-df-quickchart-complete:disabled,\n",
              "  .colab-df-quickchart-complete:disabled:hover {\n",
              "    background-color: var(--disabled-bg-color);\n",
              "    fill: var(--disabled-fill-color);\n",
              "    box-shadow: none;\n",
              "  }\n",
              "\n",
              "  .colab-df-spinner {\n",
              "    border: 2px solid var(--fill-color);\n",
              "    border-color: transparent;\n",
              "    border-bottom-color: var(--fill-color);\n",
              "    animation:\n",
              "      spin 1s steps(1) infinite;\n",
              "  }\n",
              "\n",
              "  @keyframes spin {\n",
              "    0% {\n",
              "      border-color: transparent;\n",
              "      border-bottom-color: var(--fill-color);\n",
              "      border-left-color: var(--fill-color);\n",
              "    }\n",
              "    20% {\n",
              "      border-color: transparent;\n",
              "      border-left-color: var(--fill-color);\n",
              "      border-top-color: var(--fill-color);\n",
              "    }\n",
              "    30% {\n",
              "      border-color: transparent;\n",
              "      border-left-color: var(--fill-color);\n",
              "      border-top-color: var(--fill-color);\n",
              "      border-right-color: var(--fill-color);\n",
              "    }\n",
              "    40% {\n",
              "      border-color: transparent;\n",
              "      border-right-color: var(--fill-color);\n",
              "      border-top-color: var(--fill-color);\n",
              "    }\n",
              "    60% {\n",
              "      border-color: transparent;\n",
              "      border-right-color: var(--fill-color);\n",
              "    }\n",
              "    80% {\n",
              "      border-color: transparent;\n",
              "      border-right-color: var(--fill-color);\n",
              "      border-bottom-color: var(--fill-color);\n",
              "    }\n",
              "    90% {\n",
              "      border-color: transparent;\n",
              "      border-bottom-color: var(--fill-color);\n",
              "    }\n",
              "  }\n",
              "</style>\n",
              "\n",
              "  <script>\n",
              "    async function quickchart(key) {\n",
              "      const quickchartButtonEl =\n",
              "        document.querySelector('#' + key + ' button');\n",
              "      quickchartButtonEl.disabled = true;  // To prevent multiple clicks.\n",
              "      quickchartButtonEl.classList.add('colab-df-spinner');\n",
              "      try {\n",
              "        const charts = await google.colab.kernel.invokeFunction(\n",
              "            'suggestCharts', [key], {});\n",
              "      } catch (error) {\n",
              "        console.error('Error during call to suggestCharts:', error);\n",
              "      }\n",
              "      quickchartButtonEl.classList.remove('colab-df-spinner');\n",
              "      quickchartButtonEl.classList.add('colab-df-quickchart-complete');\n",
              "    }\n",
              "    (() => {\n",
              "      let quickchartButtonEl =\n",
              "        document.querySelector('#df-5d60b4a7-edb7-4454-b9e8-3863d16fadca button');\n",
              "      quickchartButtonEl.style.display =\n",
              "        google.colab.kernel.accessAllowed ? 'block' : 'none';\n",
              "    })();\n",
              "  </script>\n",
              "</div>\n",
              "\n",
              "    </div>\n",
              "  </div>\n"
            ],
            "application/vnd.google.colaboratory.intrinsic+json": {
              "type": "dataframe",
              "summary": "{\n  \"name\": \"dataset_raw\",\n  \"rows\": 8,\n  \"fields\": [\n    {\n      \"column\": \"MPG\",\n      \"properties\": {\n        \"dtype\": \"number\",\n        \"std\": 133.37523833494922,\n        \"min\": 7.815984312565782,\n        \"max\": 398.0,\n        \"num_unique_values\": 8,\n        \"samples\": [\n          23.514572864321607,\n          23.0,\n          398.0\n        ],\n        \"semantic_type\": \"\",\n        \"description\": \"\"\n      }\n    },\n    {\n      \"column\": \"Cylinders\",\n      \"properties\": {\n        \"dtype\": \"number\",\n        \"std\": 139.0071020301553,\n        \"min\": 1.7010042445332119,\n        \"max\": 398.0,\n        \"num_unique_values\": 6,\n        \"samples\": [\n          398.0,\n          5.454773869346734,\n          8.0\n        ],\n        \"semantic_type\": \"\",\n        \"description\": \"\"\n      }\n    },\n    {\n      \"column\": \"Displacement\",\n      \"properties\": {\n        \"dtype\": \"number\",\n        \"std\": 143.57617465667641,\n        \"min\": 68.0,\n        \"max\": 455.0,\n        \"num_unique_values\": 8,\n        \"samples\": [\n          193.42587939698493,\n          148.5,\n          398.0\n        ],\n        \"semantic_type\": \"\",\n        \"description\": \"\"\n      }\n    },\n    {\n      \"column\": \"Horsepower\",\n      \"properties\": {\n        \"dtype\": \"number\",\n        \"std\": 118.66115898346135,\n        \"min\": 38.49115993282849,\n        \"max\": 392.0,\n        \"num_unique_values\": 8,\n        \"samples\": [\n          104.46938775510205,\n          93.5,\n          392.0\n        ],\n        \"semantic_type\": \"\",\n        \"description\": \"\"\n      }\n    },\n    {\n      \"column\": \"Weight\",\n      \"properties\": {\n        \"dtype\": \"number\",\n        \"std\": 1535.5522437115258,\n        \"min\": 398.0,\n        \"max\": 5140.0,\n        \"num_unique_values\": 8,\n        \"samples\": [\n          2970.424623115578,\n          2803.5,\n          398.0\n        ],\n        \"semantic_type\": \"\",\n        \"description\": \"\"\n      }\n    },\n    {\n      \"column\": \"Acceleration\",\n      \"properties\": {\n        \"dtype\": \"number\",\n        \"std\": 135.93788360342714,\n        \"min\": 2.757688929812676,\n        \"max\": 398.0,\n        \"num_unique_values\": 8,\n        \"samples\": [\n          15.568090452261307,\n          15.5,\n          398.0\n        ],\n        \"semantic_type\": \"\",\n        \"description\": \"\"\n      }\n    },\n    {\n      \"column\": \"Model Year\",\n      \"properties\": {\n        \"dtype\": \"number\",\n        \"std\": 120.2422511942329,\n        \"min\": 3.697626646732623,\n        \"max\": 398.0,\n        \"num_unique_values\": 8,\n        \"samples\": [\n          76.01005025125629,\n          76.0,\n          398.0\n        ],\n        \"semantic_type\": \"\",\n        \"description\": \"\"\n      }\n    },\n    {\n      \"column\": \"Origin\",\n      \"properties\": {\n        \"dtype\": \"number\",\n        \"std\": 140.19214256834297,\n        \"min\": 0.8020548777266148,\n        \"max\": 398.0,\n        \"num_unique_values\": 6,\n        \"samples\": [\n          398.0,\n          1.5728643216080402,\n          3.0\n        ],\n        \"semantic_type\": \"\",\n        \"description\": \"\"\n      }\n    }\n  ]\n}"
            }
          },
          "metadata": {},
          "execution_count": 9
        }
      ]
    },
    {
      "cell_type": "markdown",
      "source": [
        "### 1.3 Cleaning the data"
      ],
      "metadata": {
        "id": "JtDbduTmI5q3"
      }
    },
    {
      "cell_type": "code",
      "source": [
        "dataset= dataset_raw.copy()"
      ],
      "metadata": {
        "id": "zvpzNMYRuDUG"
      },
      "execution_count": null,
      "outputs": []
    },
    {
      "cell_type": "code",
      "source": [
        "dataset.isna().sum()"
      ],
      "metadata": {
        "colab": {
          "base_uri": "https://localhost:8080/"
        },
        "id": "rx2x43lYuQb-",
        "outputId": "7f233154-e4bd-4fbd-ca75-b7ba5bd457b4"
      },
      "execution_count": null,
      "outputs": [
        {
          "output_type": "execute_result",
          "data": {
            "text/plain": [
              "MPG             0\n",
              "Cylinders       0\n",
              "Displacement    0\n",
              "Horsepower      6\n",
              "Weight          0\n",
              "Acceleration    0\n",
              "Model Year      0\n",
              "Origin          0\n",
              "dtype: int64"
            ]
          },
          "metadata": {},
          "execution_count": 11
        }
      ]
    },
    {
      "cell_type": "code",
      "source": [
        "#Dropping the examples which don't have 'Horspower' values\n",
        "dataset = dataset.dropna()"
      ],
      "metadata": {
        "id": "MaZg_5wiIW1d"
      },
      "execution_count": null,
      "outputs": []
    },
    {
      "cell_type": "markdown",
      "source": [
        "### 1.3 Encoding the '*origin*'\n",
        "\n",
        "Encoding the 'Origin' and adding the columns which corresponds to the 3 distinct origins: USA, EUROPE and Japan"
      ],
      "metadata": {
        "id": "IbPUdZa2J9_X"
      }
    },
    {
      "cell_type": "code",
      "source": [
        "origin = dataset.pop('Origin')"
      ],
      "metadata": {
        "id": "kr-FOak4J4p2"
      },
      "execution_count": null,
      "outputs": []
    },
    {
      "cell_type": "code",
      "source": [
        "dataset['USA'] = (origin==1) * 1\n",
        "dataset['Europe']= (origin==2) * 1\n",
        "dataset['Japan']= (origin==3) * 1\n",
        "dataset.head()"
      ],
      "metadata": {
        "colab": {
          "base_uri": "https://localhost:8080/",
          "height": 206
        },
        "id": "ofTqF9IhJbf3",
        "outputId": "d11634b3-9f98-47fe-99fe-6d9e22d90d7b"
      },
      "execution_count": null,
      "outputs": [
        {
          "output_type": "execute_result",
          "data": {
            "text/plain": [
              "    MPG  Cylinders  Displacement  Horsepower  Weight  Acceleration  \\\n",
              "0  18.0          8         307.0       130.0  3504.0          12.0   \n",
              "1  15.0          8         350.0       165.0  3693.0          11.5   \n",
              "2  18.0          8         318.0       150.0  3436.0          11.0   \n",
              "3  16.0          8         304.0       150.0  3433.0          12.0   \n",
              "4  17.0          8         302.0       140.0  3449.0          10.5   \n",
              "\n",
              "   Model Year  USA  Europe  Japan  \n",
              "0          70    1       0      0  \n",
              "1          70    1       0      0  \n",
              "2          70    1       0      0  \n",
              "3          70    1       0      0  \n",
              "4          70    1       0      0  "
            ],
            "text/html": [
              "\n",
              "  <div id=\"df-d65fc2d4-082b-4959-bed7-3592f2b44894\" class=\"colab-df-container\">\n",
              "    <div>\n",
              "<style scoped>\n",
              "    .dataframe tbody tr th:only-of-type {\n",
              "        vertical-align: middle;\n",
              "    }\n",
              "\n",
              "    .dataframe tbody tr th {\n",
              "        vertical-align: top;\n",
              "    }\n",
              "\n",
              "    .dataframe thead th {\n",
              "        text-align: right;\n",
              "    }\n",
              "</style>\n",
              "<table border=\"1\" class=\"dataframe\">\n",
              "  <thead>\n",
              "    <tr style=\"text-align: right;\">\n",
              "      <th></th>\n",
              "      <th>MPG</th>\n",
              "      <th>Cylinders</th>\n",
              "      <th>Displacement</th>\n",
              "      <th>Horsepower</th>\n",
              "      <th>Weight</th>\n",
              "      <th>Acceleration</th>\n",
              "      <th>Model Year</th>\n",
              "      <th>USA</th>\n",
              "      <th>Europe</th>\n",
              "      <th>Japan</th>\n",
              "    </tr>\n",
              "  </thead>\n",
              "  <tbody>\n",
              "    <tr>\n",
              "      <th>0</th>\n",
              "      <td>18.0</td>\n",
              "      <td>8</td>\n",
              "      <td>307.0</td>\n",
              "      <td>130.0</td>\n",
              "      <td>3504.0</td>\n",
              "      <td>12.0</td>\n",
              "      <td>70</td>\n",
              "      <td>1</td>\n",
              "      <td>0</td>\n",
              "      <td>0</td>\n",
              "    </tr>\n",
              "    <tr>\n",
              "      <th>1</th>\n",
              "      <td>15.0</td>\n",
              "      <td>8</td>\n",
              "      <td>350.0</td>\n",
              "      <td>165.0</td>\n",
              "      <td>3693.0</td>\n",
              "      <td>11.5</td>\n",
              "      <td>70</td>\n",
              "      <td>1</td>\n",
              "      <td>0</td>\n",
              "      <td>0</td>\n",
              "    </tr>\n",
              "    <tr>\n",
              "      <th>2</th>\n",
              "      <td>18.0</td>\n",
              "      <td>8</td>\n",
              "      <td>318.0</td>\n",
              "      <td>150.0</td>\n",
              "      <td>3436.0</td>\n",
              "      <td>11.0</td>\n",
              "      <td>70</td>\n",
              "      <td>1</td>\n",
              "      <td>0</td>\n",
              "      <td>0</td>\n",
              "    </tr>\n",
              "    <tr>\n",
              "      <th>3</th>\n",
              "      <td>16.0</td>\n",
              "      <td>8</td>\n",
              "      <td>304.0</td>\n",
              "      <td>150.0</td>\n",
              "      <td>3433.0</td>\n",
              "      <td>12.0</td>\n",
              "      <td>70</td>\n",
              "      <td>1</td>\n",
              "      <td>0</td>\n",
              "      <td>0</td>\n",
              "    </tr>\n",
              "    <tr>\n",
              "      <th>4</th>\n",
              "      <td>17.0</td>\n",
              "      <td>8</td>\n",
              "      <td>302.0</td>\n",
              "      <td>140.0</td>\n",
              "      <td>3449.0</td>\n",
              "      <td>10.5</td>\n",
              "      <td>70</td>\n",
              "      <td>1</td>\n",
              "      <td>0</td>\n",
              "      <td>0</td>\n",
              "    </tr>\n",
              "  </tbody>\n",
              "</table>\n",
              "</div>\n",
              "    <div class=\"colab-df-buttons\">\n",
              "\n",
              "  <div class=\"colab-df-container\">\n",
              "    <button class=\"colab-df-convert\" onclick=\"convertToInteractive('df-d65fc2d4-082b-4959-bed7-3592f2b44894')\"\n",
              "            title=\"Convert this dataframe to an interactive table.\"\n",
              "            style=\"display:none;\">\n",
              "\n",
              "  <svg xmlns=\"http://www.w3.org/2000/svg\" height=\"24px\" viewBox=\"0 -960 960 960\">\n",
              "    <path d=\"M120-120v-720h720v720H120Zm60-500h600v-160H180v160Zm220 220h160v-160H400v160Zm0 220h160v-160H400v160ZM180-400h160v-160H180v160Zm440 0h160v-160H620v160ZM180-180h160v-160H180v160Zm440 0h160v-160H620v160Z\"/>\n",
              "  </svg>\n",
              "    </button>\n",
              "\n",
              "  <style>\n",
              "    .colab-df-container {\n",
              "      display:flex;\n",
              "      gap: 12px;\n",
              "    }\n",
              "\n",
              "    .colab-df-convert {\n",
              "      background-color: #E8F0FE;\n",
              "      border: none;\n",
              "      border-radius: 50%;\n",
              "      cursor: pointer;\n",
              "      display: none;\n",
              "      fill: #1967D2;\n",
              "      height: 32px;\n",
              "      padding: 0 0 0 0;\n",
              "      width: 32px;\n",
              "    }\n",
              "\n",
              "    .colab-df-convert:hover {\n",
              "      background-color: #E2EBFA;\n",
              "      box-shadow: 0px 1px 2px rgba(60, 64, 67, 0.3), 0px 1px 3px 1px rgba(60, 64, 67, 0.15);\n",
              "      fill: #174EA6;\n",
              "    }\n",
              "\n",
              "    .colab-df-buttons div {\n",
              "      margin-bottom: 4px;\n",
              "    }\n",
              "\n",
              "    [theme=dark] .colab-df-convert {\n",
              "      background-color: #3B4455;\n",
              "      fill: #D2E3FC;\n",
              "    }\n",
              "\n",
              "    [theme=dark] .colab-df-convert:hover {\n",
              "      background-color: #434B5C;\n",
              "      box-shadow: 0px 1px 3px 1px rgba(0, 0, 0, 0.15);\n",
              "      filter: drop-shadow(0px 1px 2px rgba(0, 0, 0, 0.3));\n",
              "      fill: #FFFFFF;\n",
              "    }\n",
              "  </style>\n",
              "\n",
              "    <script>\n",
              "      const buttonEl =\n",
              "        document.querySelector('#df-d65fc2d4-082b-4959-bed7-3592f2b44894 button.colab-df-convert');\n",
              "      buttonEl.style.display =\n",
              "        google.colab.kernel.accessAllowed ? 'block' : 'none';\n",
              "\n",
              "      async function convertToInteractive(key) {\n",
              "        const element = document.querySelector('#df-d65fc2d4-082b-4959-bed7-3592f2b44894');\n",
              "        const dataTable =\n",
              "          await google.colab.kernel.invokeFunction('convertToInteractive',\n",
              "                                                    [key], {});\n",
              "        if (!dataTable) return;\n",
              "\n",
              "        const docLinkHtml = 'Like what you see? Visit the ' +\n",
              "          '<a target=\"_blank\" href=https://colab.research.google.com/notebooks/data_table.ipynb>data table notebook</a>'\n",
              "          + ' to learn more about interactive tables.';\n",
              "        element.innerHTML = '';\n",
              "        dataTable['output_type'] = 'display_data';\n",
              "        await google.colab.output.renderOutput(dataTable, element);\n",
              "        const docLink = document.createElement('div');\n",
              "        docLink.innerHTML = docLinkHtml;\n",
              "        element.appendChild(docLink);\n",
              "      }\n",
              "    </script>\n",
              "  </div>\n",
              "\n",
              "\n",
              "<div id=\"df-58f92ec0-fbaa-4e1e-93ef-0da16227d93b\">\n",
              "  <button class=\"colab-df-quickchart\" onclick=\"quickchart('df-58f92ec0-fbaa-4e1e-93ef-0da16227d93b')\"\n",
              "            title=\"Suggest charts\"\n",
              "            style=\"display:none;\">\n",
              "\n",
              "<svg xmlns=\"http://www.w3.org/2000/svg\" height=\"24px\"viewBox=\"0 0 24 24\"\n",
              "     width=\"24px\">\n",
              "    <g>\n",
              "        <path d=\"M19 3H5c-1.1 0-2 .9-2 2v14c0 1.1.9 2 2 2h14c1.1 0 2-.9 2-2V5c0-1.1-.9-2-2-2zM9 17H7v-7h2v7zm4 0h-2V7h2v10zm4 0h-2v-4h2v4z\"/>\n",
              "    </g>\n",
              "</svg>\n",
              "  </button>\n",
              "\n",
              "<style>\n",
              "  .colab-df-quickchart {\n",
              "      --bg-color: #E8F0FE;\n",
              "      --fill-color: #1967D2;\n",
              "      --hover-bg-color: #E2EBFA;\n",
              "      --hover-fill-color: #174EA6;\n",
              "      --disabled-fill-color: #AAA;\n",
              "      --disabled-bg-color: #DDD;\n",
              "  }\n",
              "\n",
              "  [theme=dark] .colab-df-quickchart {\n",
              "      --bg-color: #3B4455;\n",
              "      --fill-color: #D2E3FC;\n",
              "      --hover-bg-color: #434B5C;\n",
              "      --hover-fill-color: #FFFFFF;\n",
              "      --disabled-bg-color: #3B4455;\n",
              "      --disabled-fill-color: #666;\n",
              "  }\n",
              "\n",
              "  .colab-df-quickchart {\n",
              "    background-color: var(--bg-color);\n",
              "    border: none;\n",
              "    border-radius: 50%;\n",
              "    cursor: pointer;\n",
              "    display: none;\n",
              "    fill: var(--fill-color);\n",
              "    height: 32px;\n",
              "    padding: 0;\n",
              "    width: 32px;\n",
              "  }\n",
              "\n",
              "  .colab-df-quickchart:hover {\n",
              "    background-color: var(--hover-bg-color);\n",
              "    box-shadow: 0 1px 2px rgba(60, 64, 67, 0.3), 0 1px 3px 1px rgba(60, 64, 67, 0.15);\n",
              "    fill: var(--button-hover-fill-color);\n",
              "  }\n",
              "\n",
              "  .colab-df-quickchart-complete:disabled,\n",
              "  .colab-df-quickchart-complete:disabled:hover {\n",
              "    background-color: var(--disabled-bg-color);\n",
              "    fill: var(--disabled-fill-color);\n",
              "    box-shadow: none;\n",
              "  }\n",
              "\n",
              "  .colab-df-spinner {\n",
              "    border: 2px solid var(--fill-color);\n",
              "    border-color: transparent;\n",
              "    border-bottom-color: var(--fill-color);\n",
              "    animation:\n",
              "      spin 1s steps(1) infinite;\n",
              "  }\n",
              "\n",
              "  @keyframes spin {\n",
              "    0% {\n",
              "      border-color: transparent;\n",
              "      border-bottom-color: var(--fill-color);\n",
              "      border-left-color: var(--fill-color);\n",
              "    }\n",
              "    20% {\n",
              "      border-color: transparent;\n",
              "      border-left-color: var(--fill-color);\n",
              "      border-top-color: var(--fill-color);\n",
              "    }\n",
              "    30% {\n",
              "      border-color: transparent;\n",
              "      border-left-color: var(--fill-color);\n",
              "      border-top-color: var(--fill-color);\n",
              "      border-right-color: var(--fill-color);\n",
              "    }\n",
              "    40% {\n",
              "      border-color: transparent;\n",
              "      border-right-color: var(--fill-color);\n",
              "      border-top-color: var(--fill-color);\n",
              "    }\n",
              "    60% {\n",
              "      border-color: transparent;\n",
              "      border-right-color: var(--fill-color);\n",
              "    }\n",
              "    80% {\n",
              "      border-color: transparent;\n",
              "      border-right-color: var(--fill-color);\n",
              "      border-bottom-color: var(--fill-color);\n",
              "    }\n",
              "    90% {\n",
              "      border-color: transparent;\n",
              "      border-bottom-color: var(--fill-color);\n",
              "    }\n",
              "  }\n",
              "</style>\n",
              "\n",
              "  <script>\n",
              "    async function quickchart(key) {\n",
              "      const quickchartButtonEl =\n",
              "        document.querySelector('#' + key + ' button');\n",
              "      quickchartButtonEl.disabled = true;  // To prevent multiple clicks.\n",
              "      quickchartButtonEl.classList.add('colab-df-spinner');\n",
              "      try {\n",
              "        const charts = await google.colab.kernel.invokeFunction(\n",
              "            'suggestCharts', [key], {});\n",
              "      } catch (error) {\n",
              "        console.error('Error during call to suggestCharts:', error);\n",
              "      }\n",
              "      quickchartButtonEl.classList.remove('colab-df-spinner');\n",
              "      quickchartButtonEl.classList.add('colab-df-quickchart-complete');\n",
              "    }\n",
              "    (() => {\n",
              "      let quickchartButtonEl =\n",
              "        document.querySelector('#df-58f92ec0-fbaa-4e1e-93ef-0da16227d93b button');\n",
              "      quickchartButtonEl.style.display =\n",
              "        google.colab.kernel.accessAllowed ? 'block' : 'none';\n",
              "    })();\n",
              "  </script>\n",
              "</div>\n",
              "\n",
              "    </div>\n",
              "  </div>\n"
            ],
            "application/vnd.google.colaboratory.intrinsic+json": {
              "type": "dataframe",
              "variable_name": "dataset",
              "summary": "{\n  \"name\": \"dataset\",\n  \"rows\": 392,\n  \"fields\": [\n    {\n      \"column\": \"MPG\",\n      \"properties\": {\n        \"dtype\": \"number\",\n        \"std\": 7.8050074865717995,\n        \"min\": 9.0,\n        \"max\": 46.6,\n        \"num_unique_values\": 127,\n        \"samples\": [\n          17.5,\n          35.1,\n          28.8\n        ],\n        \"semantic_type\": \"\",\n        \"description\": \"\"\n      }\n    },\n    {\n      \"column\": \"Cylinders\",\n      \"properties\": {\n        \"dtype\": \"number\",\n        \"std\": 1,\n        \"min\": 3,\n        \"max\": 8,\n        \"num_unique_values\": 5,\n        \"samples\": [\n          4,\n          5,\n          6\n        ],\n        \"semantic_type\": \"\",\n        \"description\": \"\"\n      }\n    },\n    {\n      \"column\": \"Displacement\",\n      \"properties\": {\n        \"dtype\": \"number\",\n        \"std\": 104.64400390890466,\n        \"min\": 68.0,\n        \"max\": 455.0,\n        \"num_unique_values\": 81,\n        \"samples\": [\n          116.0,\n          307.0,\n          360.0\n        ],\n        \"semantic_type\": \"\",\n        \"description\": \"\"\n      }\n    },\n    {\n      \"column\": \"Horsepower\",\n      \"properties\": {\n        \"dtype\": \"number\",\n        \"std\": 38.49115993282849,\n        \"min\": 46.0,\n        \"max\": 230.0,\n        \"num_unique_values\": 93,\n        \"samples\": [\n          92.0,\n          100.0,\n          52.0\n        ],\n        \"semantic_type\": \"\",\n        \"description\": \"\"\n      }\n    },\n    {\n      \"column\": \"Weight\",\n      \"properties\": {\n        \"dtype\": \"number\",\n        \"std\": 849.4025600429492,\n        \"min\": 1613.0,\n        \"max\": 5140.0,\n        \"num_unique_values\": 346,\n        \"samples\": [\n          2472.0,\n          3221.0,\n          2700.0\n        ],\n        \"semantic_type\": \"\",\n        \"description\": \"\"\n      }\n    },\n    {\n      \"column\": \"Acceleration\",\n      \"properties\": {\n        \"dtype\": \"number\",\n        \"std\": 2.758864119188082,\n        \"min\": 8.0,\n        \"max\": 24.8,\n        \"num_unique_values\": 95,\n        \"samples\": [\n          14.7,\n          18.0,\n          14.3\n        ],\n        \"semantic_type\": \"\",\n        \"description\": \"\"\n      }\n    },\n    {\n      \"column\": \"Model Year\",\n      \"properties\": {\n        \"dtype\": \"number\",\n        \"std\": 3,\n        \"min\": 70,\n        \"max\": 82,\n        \"num_unique_values\": 13,\n        \"samples\": [\n          81,\n          79,\n          70\n        ],\n        \"semantic_type\": \"\",\n        \"description\": \"\"\n      }\n    },\n    {\n      \"column\": \"USA\",\n      \"properties\": {\n        \"dtype\": \"number\",\n        \"std\": 0,\n        \"min\": 0,\n        \"max\": 1,\n        \"num_unique_values\": 2,\n        \"samples\": [\n          0,\n          1\n        ],\n        \"semantic_type\": \"\",\n        \"description\": \"\"\n      }\n    },\n    {\n      \"column\": \"Europe\",\n      \"properties\": {\n        \"dtype\": \"number\",\n        \"std\": 0,\n        \"min\": 0,\n        \"max\": 1,\n        \"num_unique_values\": 2,\n        \"samples\": [\n          1,\n          0\n        ],\n        \"semantic_type\": \"\",\n        \"description\": \"\"\n      }\n    },\n    {\n      \"column\": \"Japan\",\n      \"properties\": {\n        \"dtype\": \"number\",\n        \"std\": 0,\n        \"min\": 0,\n        \"max\": 1,\n        \"num_unique_values\": 2,\n        \"samples\": [\n          1,\n          0\n        ],\n        \"semantic_type\": \"\",\n        \"description\": \"\"\n      }\n    }\n  ]\n}"
            }
          },
          "metadata": {},
          "execution_count": 14
        }
      ]
    },
    {
      "cell_type": "code",
      "source": [
        "dataset.tail()"
      ],
      "metadata": {
        "colab": {
          "base_uri": "https://localhost:8080/",
          "height": 206
        },
        "id": "HJlR4SXQRnll",
        "outputId": "fd8e2bd9-4d66-40d0-dcce-02ba00d10af6"
      },
      "execution_count": null,
      "outputs": [
        {
          "output_type": "execute_result",
          "data": {
            "text/plain": [
              "      MPG  Cylinders  Displacement  Horsepower  Weight  Acceleration  \\\n",
              "393  27.0          4         140.0        86.0  2790.0          15.6   \n",
              "394  44.0          4          97.0        52.0  2130.0          24.6   \n",
              "395  32.0          4         135.0        84.0  2295.0          11.6   \n",
              "396  28.0          4         120.0        79.0  2625.0          18.6   \n",
              "397  31.0          4         119.0        82.0  2720.0          19.4   \n",
              "\n",
              "     Model Year  USA  Europe  Japan  \n",
              "393          82    1       0      0  \n",
              "394          82    0       1      0  \n",
              "395          82    1       0      0  \n",
              "396          82    1       0      0  \n",
              "397          82    1       0      0  "
            ],
            "text/html": [
              "\n",
              "  <div id=\"df-03739ce4-dc36-462a-8f55-008de0072b74\" class=\"colab-df-container\">\n",
              "    <div>\n",
              "<style scoped>\n",
              "    .dataframe tbody tr th:only-of-type {\n",
              "        vertical-align: middle;\n",
              "    }\n",
              "\n",
              "    .dataframe tbody tr th {\n",
              "        vertical-align: top;\n",
              "    }\n",
              "\n",
              "    .dataframe thead th {\n",
              "        text-align: right;\n",
              "    }\n",
              "</style>\n",
              "<table border=\"1\" class=\"dataframe\">\n",
              "  <thead>\n",
              "    <tr style=\"text-align: right;\">\n",
              "      <th></th>\n",
              "      <th>MPG</th>\n",
              "      <th>Cylinders</th>\n",
              "      <th>Displacement</th>\n",
              "      <th>Horsepower</th>\n",
              "      <th>Weight</th>\n",
              "      <th>Acceleration</th>\n",
              "      <th>Model Year</th>\n",
              "      <th>USA</th>\n",
              "      <th>Europe</th>\n",
              "      <th>Japan</th>\n",
              "    </tr>\n",
              "  </thead>\n",
              "  <tbody>\n",
              "    <tr>\n",
              "      <th>393</th>\n",
              "      <td>27.0</td>\n",
              "      <td>4</td>\n",
              "      <td>140.0</td>\n",
              "      <td>86.0</td>\n",
              "      <td>2790.0</td>\n",
              "      <td>15.6</td>\n",
              "      <td>82</td>\n",
              "      <td>1</td>\n",
              "      <td>0</td>\n",
              "      <td>0</td>\n",
              "    </tr>\n",
              "    <tr>\n",
              "      <th>394</th>\n",
              "      <td>44.0</td>\n",
              "      <td>4</td>\n",
              "      <td>97.0</td>\n",
              "      <td>52.0</td>\n",
              "      <td>2130.0</td>\n",
              "      <td>24.6</td>\n",
              "      <td>82</td>\n",
              "      <td>0</td>\n",
              "      <td>1</td>\n",
              "      <td>0</td>\n",
              "    </tr>\n",
              "    <tr>\n",
              "      <th>395</th>\n",
              "      <td>32.0</td>\n",
              "      <td>4</td>\n",
              "      <td>135.0</td>\n",
              "      <td>84.0</td>\n",
              "      <td>2295.0</td>\n",
              "      <td>11.6</td>\n",
              "      <td>82</td>\n",
              "      <td>1</td>\n",
              "      <td>0</td>\n",
              "      <td>0</td>\n",
              "    </tr>\n",
              "    <tr>\n",
              "      <th>396</th>\n",
              "      <td>28.0</td>\n",
              "      <td>4</td>\n",
              "      <td>120.0</td>\n",
              "      <td>79.0</td>\n",
              "      <td>2625.0</td>\n",
              "      <td>18.6</td>\n",
              "      <td>82</td>\n",
              "      <td>1</td>\n",
              "      <td>0</td>\n",
              "      <td>0</td>\n",
              "    </tr>\n",
              "    <tr>\n",
              "      <th>397</th>\n",
              "      <td>31.0</td>\n",
              "      <td>4</td>\n",
              "      <td>119.0</td>\n",
              "      <td>82.0</td>\n",
              "      <td>2720.0</td>\n",
              "      <td>19.4</td>\n",
              "      <td>82</td>\n",
              "      <td>1</td>\n",
              "      <td>0</td>\n",
              "      <td>0</td>\n",
              "    </tr>\n",
              "  </tbody>\n",
              "</table>\n",
              "</div>\n",
              "    <div class=\"colab-df-buttons\">\n",
              "\n",
              "  <div class=\"colab-df-container\">\n",
              "    <button class=\"colab-df-convert\" onclick=\"convertToInteractive('df-03739ce4-dc36-462a-8f55-008de0072b74')\"\n",
              "            title=\"Convert this dataframe to an interactive table.\"\n",
              "            style=\"display:none;\">\n",
              "\n",
              "  <svg xmlns=\"http://www.w3.org/2000/svg\" height=\"24px\" viewBox=\"0 -960 960 960\">\n",
              "    <path d=\"M120-120v-720h720v720H120Zm60-500h600v-160H180v160Zm220 220h160v-160H400v160Zm0 220h160v-160H400v160ZM180-400h160v-160H180v160Zm440 0h160v-160H620v160ZM180-180h160v-160H180v160Zm440 0h160v-160H620v160Z\"/>\n",
              "  </svg>\n",
              "    </button>\n",
              "\n",
              "  <style>\n",
              "    .colab-df-container {\n",
              "      display:flex;\n",
              "      gap: 12px;\n",
              "    }\n",
              "\n",
              "    .colab-df-convert {\n",
              "      background-color: #E8F0FE;\n",
              "      border: none;\n",
              "      border-radius: 50%;\n",
              "      cursor: pointer;\n",
              "      display: none;\n",
              "      fill: #1967D2;\n",
              "      height: 32px;\n",
              "      padding: 0 0 0 0;\n",
              "      width: 32px;\n",
              "    }\n",
              "\n",
              "    .colab-df-convert:hover {\n",
              "      background-color: #E2EBFA;\n",
              "      box-shadow: 0px 1px 2px rgba(60, 64, 67, 0.3), 0px 1px 3px 1px rgba(60, 64, 67, 0.15);\n",
              "      fill: #174EA6;\n",
              "    }\n",
              "\n",
              "    .colab-df-buttons div {\n",
              "      margin-bottom: 4px;\n",
              "    }\n",
              "\n",
              "    [theme=dark] .colab-df-convert {\n",
              "      background-color: #3B4455;\n",
              "      fill: #D2E3FC;\n",
              "    }\n",
              "\n",
              "    [theme=dark] .colab-df-convert:hover {\n",
              "      background-color: #434B5C;\n",
              "      box-shadow: 0px 1px 3px 1px rgba(0, 0, 0, 0.15);\n",
              "      filter: drop-shadow(0px 1px 2px rgba(0, 0, 0, 0.3));\n",
              "      fill: #FFFFFF;\n",
              "    }\n",
              "  </style>\n",
              "\n",
              "    <script>\n",
              "      const buttonEl =\n",
              "        document.querySelector('#df-03739ce4-dc36-462a-8f55-008de0072b74 button.colab-df-convert');\n",
              "      buttonEl.style.display =\n",
              "        google.colab.kernel.accessAllowed ? 'block' : 'none';\n",
              "\n",
              "      async function convertToInteractive(key) {\n",
              "        const element = document.querySelector('#df-03739ce4-dc36-462a-8f55-008de0072b74');\n",
              "        const dataTable =\n",
              "          await google.colab.kernel.invokeFunction('convertToInteractive',\n",
              "                                                    [key], {});\n",
              "        if (!dataTable) return;\n",
              "\n",
              "        const docLinkHtml = 'Like what you see? Visit the ' +\n",
              "          '<a target=\"_blank\" href=https://colab.research.google.com/notebooks/data_table.ipynb>data table notebook</a>'\n",
              "          + ' to learn more about interactive tables.';\n",
              "        element.innerHTML = '';\n",
              "        dataTable['output_type'] = 'display_data';\n",
              "        await google.colab.output.renderOutput(dataTable, element);\n",
              "        const docLink = document.createElement('div');\n",
              "        docLink.innerHTML = docLinkHtml;\n",
              "        element.appendChild(docLink);\n",
              "      }\n",
              "    </script>\n",
              "  </div>\n",
              "\n",
              "\n",
              "<div id=\"df-00c66c16-de9d-4d98-b231-8526facdfbaf\">\n",
              "  <button class=\"colab-df-quickchart\" onclick=\"quickchart('df-00c66c16-de9d-4d98-b231-8526facdfbaf')\"\n",
              "            title=\"Suggest charts\"\n",
              "            style=\"display:none;\">\n",
              "\n",
              "<svg xmlns=\"http://www.w3.org/2000/svg\" height=\"24px\"viewBox=\"0 0 24 24\"\n",
              "     width=\"24px\">\n",
              "    <g>\n",
              "        <path d=\"M19 3H5c-1.1 0-2 .9-2 2v14c0 1.1.9 2 2 2h14c1.1 0 2-.9 2-2V5c0-1.1-.9-2-2-2zM9 17H7v-7h2v7zm4 0h-2V7h2v10zm4 0h-2v-4h2v4z\"/>\n",
              "    </g>\n",
              "</svg>\n",
              "  </button>\n",
              "\n",
              "<style>\n",
              "  .colab-df-quickchart {\n",
              "      --bg-color: #E8F0FE;\n",
              "      --fill-color: #1967D2;\n",
              "      --hover-bg-color: #E2EBFA;\n",
              "      --hover-fill-color: #174EA6;\n",
              "      --disabled-fill-color: #AAA;\n",
              "      --disabled-bg-color: #DDD;\n",
              "  }\n",
              "\n",
              "  [theme=dark] .colab-df-quickchart {\n",
              "      --bg-color: #3B4455;\n",
              "      --fill-color: #D2E3FC;\n",
              "      --hover-bg-color: #434B5C;\n",
              "      --hover-fill-color: #FFFFFF;\n",
              "      --disabled-bg-color: #3B4455;\n",
              "      --disabled-fill-color: #666;\n",
              "  }\n",
              "\n",
              "  .colab-df-quickchart {\n",
              "    background-color: var(--bg-color);\n",
              "    border: none;\n",
              "    border-radius: 50%;\n",
              "    cursor: pointer;\n",
              "    display: none;\n",
              "    fill: var(--fill-color);\n",
              "    height: 32px;\n",
              "    padding: 0;\n",
              "    width: 32px;\n",
              "  }\n",
              "\n",
              "  .colab-df-quickchart:hover {\n",
              "    background-color: var(--hover-bg-color);\n",
              "    box-shadow: 0 1px 2px rgba(60, 64, 67, 0.3), 0 1px 3px 1px rgba(60, 64, 67, 0.15);\n",
              "    fill: var(--button-hover-fill-color);\n",
              "  }\n",
              "\n",
              "  .colab-df-quickchart-complete:disabled,\n",
              "  .colab-df-quickchart-complete:disabled:hover {\n",
              "    background-color: var(--disabled-bg-color);\n",
              "    fill: var(--disabled-fill-color);\n",
              "    box-shadow: none;\n",
              "  }\n",
              "\n",
              "  .colab-df-spinner {\n",
              "    border: 2px solid var(--fill-color);\n",
              "    border-color: transparent;\n",
              "    border-bottom-color: var(--fill-color);\n",
              "    animation:\n",
              "      spin 1s steps(1) infinite;\n",
              "  }\n",
              "\n",
              "  @keyframes spin {\n",
              "    0% {\n",
              "      border-color: transparent;\n",
              "      border-bottom-color: var(--fill-color);\n",
              "      border-left-color: var(--fill-color);\n",
              "    }\n",
              "    20% {\n",
              "      border-color: transparent;\n",
              "      border-left-color: var(--fill-color);\n",
              "      border-top-color: var(--fill-color);\n",
              "    }\n",
              "    30% {\n",
              "      border-color: transparent;\n",
              "      border-left-color: var(--fill-color);\n",
              "      border-top-color: var(--fill-color);\n",
              "      border-right-color: var(--fill-color);\n",
              "    }\n",
              "    40% {\n",
              "      border-color: transparent;\n",
              "      border-right-color: var(--fill-color);\n",
              "      border-top-color: var(--fill-color);\n",
              "    }\n",
              "    60% {\n",
              "      border-color: transparent;\n",
              "      border-right-color: var(--fill-color);\n",
              "    }\n",
              "    80% {\n",
              "      border-color: transparent;\n",
              "      border-right-color: var(--fill-color);\n",
              "      border-bottom-color: var(--fill-color);\n",
              "    }\n",
              "    90% {\n",
              "      border-color: transparent;\n",
              "      border-bottom-color: var(--fill-color);\n",
              "    }\n",
              "  }\n",
              "</style>\n",
              "\n",
              "  <script>\n",
              "    async function quickchart(key) {\n",
              "      const quickchartButtonEl =\n",
              "        document.querySelector('#' + key + ' button');\n",
              "      quickchartButtonEl.disabled = true;  // To prevent multiple clicks.\n",
              "      quickchartButtonEl.classList.add('colab-df-spinner');\n",
              "      try {\n",
              "        const charts = await google.colab.kernel.invokeFunction(\n",
              "            'suggestCharts', [key], {});\n",
              "      } catch (error) {\n",
              "        console.error('Error during call to suggestCharts:', error);\n",
              "      }\n",
              "      quickchartButtonEl.classList.remove('colab-df-spinner');\n",
              "      quickchartButtonEl.classList.add('colab-df-quickchart-complete');\n",
              "    }\n",
              "    (() => {\n",
              "      let quickchartButtonEl =\n",
              "        document.querySelector('#df-00c66c16-de9d-4d98-b231-8526facdfbaf button');\n",
              "      quickchartButtonEl.style.display =\n",
              "        google.colab.kernel.accessAllowed ? 'block' : 'none';\n",
              "    })();\n",
              "  </script>\n",
              "</div>\n",
              "\n",
              "    </div>\n",
              "  </div>\n"
            ],
            "application/vnd.google.colaboratory.intrinsic+json": {
              "type": "dataframe",
              "summary": "{\n  \"name\": \"dataset\",\n  \"rows\": 5,\n  \"fields\": [\n    {\n      \"column\": \"MPG\",\n      \"properties\": {\n        \"dtype\": \"number\",\n        \"std\": 6.8044103344816005,\n        \"min\": 27.0,\n        \"max\": 44.0,\n        \"num_unique_values\": 5,\n        \"samples\": [\n          44.0,\n          31.0,\n          32.0\n        ],\n        \"semantic_type\": \"\",\n        \"description\": \"\"\n      }\n    },\n    {\n      \"column\": \"Cylinders\",\n      \"properties\": {\n        \"dtype\": \"number\",\n        \"std\": 0,\n        \"min\": 4,\n        \"max\": 4,\n        \"num_unique_values\": 1,\n        \"samples\": [\n          4\n        ],\n        \"semantic_type\": \"\",\n        \"description\": \"\"\n      }\n    },\n    {\n      \"column\": \"Displacement\",\n      \"properties\": {\n        \"dtype\": \"number\",\n        \"std\": 16.813684902483452,\n        \"min\": 97.0,\n        \"max\": 140.0,\n        \"num_unique_values\": 5,\n        \"samples\": [\n          97.0\n        ],\n        \"semantic_type\": \"\",\n        \"description\": \"\"\n      }\n    },\n    {\n      \"column\": \"Horsepower\",\n      \"properties\": {\n        \"dtype\": \"number\",\n        \"std\": 13.992855319769443,\n        \"min\": 52.0,\n        \"max\": 86.0,\n        \"num_unique_values\": 5,\n        \"samples\": [\n          52.0\n        ],\n        \"semantic_type\": \"\",\n        \"description\": \"\"\n      }\n    },\n    {\n      \"column\": \"Weight\",\n      \"properties\": {\n        \"dtype\": \"number\",\n        \"std\": 285.62650437240586,\n        \"min\": 2130.0,\n        \"max\": 2790.0,\n        \"num_unique_values\": 5,\n        \"samples\": [\n          2130.0\n        ],\n        \"semantic_type\": \"\",\n        \"description\": \"\"\n      }\n    },\n    {\n      \"column\": \"Acceleration\",\n      \"properties\": {\n        \"dtype\": \"number\",\n        \"std\": 4.81123684721507,\n        \"min\": 11.6,\n        \"max\": 24.6,\n        \"num_unique_values\": 5,\n        \"samples\": [\n          24.6\n        ],\n        \"semantic_type\": \"\",\n        \"description\": \"\"\n      }\n    },\n    {\n      \"column\": \"Model Year\",\n      \"properties\": {\n        \"dtype\": \"number\",\n        \"std\": 0,\n        \"min\": 82,\n        \"max\": 82,\n        \"num_unique_values\": 1,\n        \"samples\": [\n          82\n        ],\n        \"semantic_type\": \"\",\n        \"description\": \"\"\n      }\n    },\n    {\n      \"column\": \"USA\",\n      \"properties\": {\n        \"dtype\": \"number\",\n        \"std\": 0,\n        \"min\": 0,\n        \"max\": 1,\n        \"num_unique_values\": 2,\n        \"samples\": [\n          0\n        ],\n        \"semantic_type\": \"\",\n        \"description\": \"\"\n      }\n    },\n    {\n      \"column\": \"Europe\",\n      \"properties\": {\n        \"dtype\": \"number\",\n        \"std\": 0,\n        \"min\": 0,\n        \"max\": 1,\n        \"num_unique_values\": 2,\n        \"samples\": [\n          1\n        ],\n        \"semantic_type\": \"\",\n        \"description\": \"\"\n      }\n    },\n    {\n      \"column\": \"Japan\",\n      \"properties\": {\n        \"dtype\": \"number\",\n        \"std\": 0,\n        \"min\": 0,\n        \"max\": 0,\n        \"num_unique_values\": 1,\n        \"samples\": [\n          0\n        ],\n        \"semantic_type\": \"\",\n        \"description\": \"\"\n      }\n    }\n  ]\n}"
            }
          },
          "metadata": {},
          "execution_count": 15
        }
      ]
    },
    {
      "cell_type": "markdown",
      "source": [
        "### 1.4 Splitting the data into Training and Testing sets\n",
        "\n"
      ],
      "metadata": {
        "id": "zo12fgSVfq5w"
      }
    },
    {
      "cell_type": "code",
      "source": [
        "print(\"Initial dataset shape : \",dataset.shape)\n",
        "#The target value to be predicted\n",
        "Y=dataset.pop('MPG')\n",
        "#The predictors\n",
        "X=dataset\n",
        "#Shuffeling the data\n",
        "X, Y = shuffle(X, Y, random_state=42)\n"
      ],
      "metadata": {
        "colab": {
          "base_uri": "https://localhost:8080/"
        },
        "id": "aJd6s28FfpaS",
        "outputId": "0d2fef78-6dfc-4495-ea04-3a8fa00d4512"
      },
      "execution_count": null,
      "outputs": [
        {
          "output_type": "stream",
          "name": "stdout",
          "text": [
            "Initial dataset shape :  (392, 10)\n"
          ]
        }
      ]
    },
    {
      "cell_type": "code",
      "source": [
        "#Shuffling the data\n",
        "#Splitting the data into training and testing data\n",
        "X_train, X_test, Y_train, Y_test= train_test_split(X, Y, test_size=0.2, random_state=42)\n",
        "print(X_train.shape)\n",
        "print(Y_train.shape)\n",
        "print(X_test.shape)\n",
        "print(Y_test.shape)"
      ],
      "metadata": {
        "colab": {
          "base_uri": "https://localhost:8080/"
        },
        "id": "AZ9binXBRsU0",
        "outputId": "38e977be-7256-4ab4-84e8-a4885a065c63"
      },
      "execution_count": null,
      "outputs": [
        {
          "output_type": "stream",
          "name": "stdout",
          "text": [
            "(313, 9)\n",
            "(313,)\n",
            "(79, 9)\n",
            "(79,)\n"
          ]
        }
      ]
    },
    {
      "cell_type": "markdown",
      "source": [
        "### 1.5 Scaling the data\n"
      ],
      "metadata": {
        "id": "tcDhGRpHBeun"
      }
    },
    {
      "cell_type": "markdown",
      "source": [
        "It is good practice to scale features that use different scales and ranges.One reason this is important is because the features are multiplied by the model weights. So, the scale of the outputs and the scale of the gradients are affected by the scale of the inputs. Although a model might converge without feature scaling, scaling makes training much more stable."
      ],
      "metadata": {
        "id": "zVsW6o6ZJy4o"
      }
    },
    {
      "cell_type": "code",
      "source": [
        "X_train.describe().transpose()[['mean', 'std']]"
      ],
      "metadata": {
        "colab": {
          "base_uri": "https://localhost:8080/",
          "height": 332
        },
        "id": "3vPdUmZvAfwX",
        "outputId": "f207e88a-8a2a-4e7c-dfb8-8f69f404cf24"
      },
      "execution_count": null,
      "outputs": [
        {
          "output_type": "execute_result",
          "data": {
            "text/plain": [
              "                     mean         std\n",
              "Cylinders        5.472843    1.692763\n",
              "Displacement   194.413738  104.242055\n",
              "Horsepower     104.169329   38.818200\n",
              "Weight        2983.785942  860.088320\n",
              "Acceleration    15.607029    2.792564\n",
              "Model Year      76.057508    3.641360\n",
              "USA              0.626198    0.484587\n",
              "Europe           0.169329    0.375643\n",
              "Japan            0.204473    0.403962"
            ],
            "text/html": [
              "\n",
              "  <div id=\"df-927a6069-a95e-4300-aafa-7d9d320cd6cb\" class=\"colab-df-container\">\n",
              "    <div>\n",
              "<style scoped>\n",
              "    .dataframe tbody tr th:only-of-type {\n",
              "        vertical-align: middle;\n",
              "    }\n",
              "\n",
              "    .dataframe tbody tr th {\n",
              "        vertical-align: top;\n",
              "    }\n",
              "\n",
              "    .dataframe thead th {\n",
              "        text-align: right;\n",
              "    }\n",
              "</style>\n",
              "<table border=\"1\" class=\"dataframe\">\n",
              "  <thead>\n",
              "    <tr style=\"text-align: right;\">\n",
              "      <th></th>\n",
              "      <th>mean</th>\n",
              "      <th>std</th>\n",
              "    </tr>\n",
              "  </thead>\n",
              "  <tbody>\n",
              "    <tr>\n",
              "      <th>Cylinders</th>\n",
              "      <td>5.472843</td>\n",
              "      <td>1.692763</td>\n",
              "    </tr>\n",
              "    <tr>\n",
              "      <th>Displacement</th>\n",
              "      <td>194.413738</td>\n",
              "      <td>104.242055</td>\n",
              "    </tr>\n",
              "    <tr>\n",
              "      <th>Horsepower</th>\n",
              "      <td>104.169329</td>\n",
              "      <td>38.818200</td>\n",
              "    </tr>\n",
              "    <tr>\n",
              "      <th>Weight</th>\n",
              "      <td>2983.785942</td>\n",
              "      <td>860.088320</td>\n",
              "    </tr>\n",
              "    <tr>\n",
              "      <th>Acceleration</th>\n",
              "      <td>15.607029</td>\n",
              "      <td>2.792564</td>\n",
              "    </tr>\n",
              "    <tr>\n",
              "      <th>Model Year</th>\n",
              "      <td>76.057508</td>\n",
              "      <td>3.641360</td>\n",
              "    </tr>\n",
              "    <tr>\n",
              "      <th>USA</th>\n",
              "      <td>0.626198</td>\n",
              "      <td>0.484587</td>\n",
              "    </tr>\n",
              "    <tr>\n",
              "      <th>Europe</th>\n",
              "      <td>0.169329</td>\n",
              "      <td>0.375643</td>\n",
              "    </tr>\n",
              "    <tr>\n",
              "      <th>Japan</th>\n",
              "      <td>0.204473</td>\n",
              "      <td>0.403962</td>\n",
              "    </tr>\n",
              "  </tbody>\n",
              "</table>\n",
              "</div>\n",
              "    <div class=\"colab-df-buttons\">\n",
              "\n",
              "  <div class=\"colab-df-container\">\n",
              "    <button class=\"colab-df-convert\" onclick=\"convertToInteractive('df-927a6069-a95e-4300-aafa-7d9d320cd6cb')\"\n",
              "            title=\"Convert this dataframe to an interactive table.\"\n",
              "            style=\"display:none;\">\n",
              "\n",
              "  <svg xmlns=\"http://www.w3.org/2000/svg\" height=\"24px\" viewBox=\"0 -960 960 960\">\n",
              "    <path d=\"M120-120v-720h720v720H120Zm60-500h600v-160H180v160Zm220 220h160v-160H400v160Zm0 220h160v-160H400v160ZM180-400h160v-160H180v160Zm440 0h160v-160H620v160ZM180-180h160v-160H180v160Zm440 0h160v-160H620v160Z\"/>\n",
              "  </svg>\n",
              "    </button>\n",
              "\n",
              "  <style>\n",
              "    .colab-df-container {\n",
              "      display:flex;\n",
              "      gap: 12px;\n",
              "    }\n",
              "\n",
              "    .colab-df-convert {\n",
              "      background-color: #E8F0FE;\n",
              "      border: none;\n",
              "      border-radius: 50%;\n",
              "      cursor: pointer;\n",
              "      display: none;\n",
              "      fill: #1967D2;\n",
              "      height: 32px;\n",
              "      padding: 0 0 0 0;\n",
              "      width: 32px;\n",
              "    }\n",
              "\n",
              "    .colab-df-convert:hover {\n",
              "      background-color: #E2EBFA;\n",
              "      box-shadow: 0px 1px 2px rgba(60, 64, 67, 0.3), 0px 1px 3px 1px rgba(60, 64, 67, 0.15);\n",
              "      fill: #174EA6;\n",
              "    }\n",
              "\n",
              "    .colab-df-buttons div {\n",
              "      margin-bottom: 4px;\n",
              "    }\n",
              "\n",
              "    [theme=dark] .colab-df-convert {\n",
              "      background-color: #3B4455;\n",
              "      fill: #D2E3FC;\n",
              "    }\n",
              "\n",
              "    [theme=dark] .colab-df-convert:hover {\n",
              "      background-color: #434B5C;\n",
              "      box-shadow: 0px 1px 3px 1px rgba(0, 0, 0, 0.15);\n",
              "      filter: drop-shadow(0px 1px 2px rgba(0, 0, 0, 0.3));\n",
              "      fill: #FFFFFF;\n",
              "    }\n",
              "  </style>\n",
              "\n",
              "    <script>\n",
              "      const buttonEl =\n",
              "        document.querySelector('#df-927a6069-a95e-4300-aafa-7d9d320cd6cb button.colab-df-convert');\n",
              "      buttonEl.style.display =\n",
              "        google.colab.kernel.accessAllowed ? 'block' : 'none';\n",
              "\n",
              "      async function convertToInteractive(key) {\n",
              "        const element = document.querySelector('#df-927a6069-a95e-4300-aafa-7d9d320cd6cb');\n",
              "        const dataTable =\n",
              "          await google.colab.kernel.invokeFunction('convertToInteractive',\n",
              "                                                    [key], {});\n",
              "        if (!dataTable) return;\n",
              "\n",
              "        const docLinkHtml = 'Like what you see? Visit the ' +\n",
              "          '<a target=\"_blank\" href=https://colab.research.google.com/notebooks/data_table.ipynb>data table notebook</a>'\n",
              "          + ' to learn more about interactive tables.';\n",
              "        element.innerHTML = '';\n",
              "        dataTable['output_type'] = 'display_data';\n",
              "        await google.colab.output.renderOutput(dataTable, element);\n",
              "        const docLink = document.createElement('div');\n",
              "        docLink.innerHTML = docLinkHtml;\n",
              "        element.appendChild(docLink);\n",
              "      }\n",
              "    </script>\n",
              "  </div>\n",
              "\n",
              "\n",
              "<div id=\"df-96fe739e-29cf-4b13-a9a6-3da5222fc4b4\">\n",
              "  <button class=\"colab-df-quickchart\" onclick=\"quickchart('df-96fe739e-29cf-4b13-a9a6-3da5222fc4b4')\"\n",
              "            title=\"Suggest charts\"\n",
              "            style=\"display:none;\">\n",
              "\n",
              "<svg xmlns=\"http://www.w3.org/2000/svg\" height=\"24px\"viewBox=\"0 0 24 24\"\n",
              "     width=\"24px\">\n",
              "    <g>\n",
              "        <path d=\"M19 3H5c-1.1 0-2 .9-2 2v14c0 1.1.9 2 2 2h14c1.1 0 2-.9 2-2V5c0-1.1-.9-2-2-2zM9 17H7v-7h2v7zm4 0h-2V7h2v10zm4 0h-2v-4h2v4z\"/>\n",
              "    </g>\n",
              "</svg>\n",
              "  </button>\n",
              "\n",
              "<style>\n",
              "  .colab-df-quickchart {\n",
              "      --bg-color: #E8F0FE;\n",
              "      --fill-color: #1967D2;\n",
              "      --hover-bg-color: #E2EBFA;\n",
              "      --hover-fill-color: #174EA6;\n",
              "      --disabled-fill-color: #AAA;\n",
              "      --disabled-bg-color: #DDD;\n",
              "  }\n",
              "\n",
              "  [theme=dark] .colab-df-quickchart {\n",
              "      --bg-color: #3B4455;\n",
              "      --fill-color: #D2E3FC;\n",
              "      --hover-bg-color: #434B5C;\n",
              "      --hover-fill-color: #FFFFFF;\n",
              "      --disabled-bg-color: #3B4455;\n",
              "      --disabled-fill-color: #666;\n",
              "  }\n",
              "\n",
              "  .colab-df-quickchart {\n",
              "    background-color: var(--bg-color);\n",
              "    border: none;\n",
              "    border-radius: 50%;\n",
              "    cursor: pointer;\n",
              "    display: none;\n",
              "    fill: var(--fill-color);\n",
              "    height: 32px;\n",
              "    padding: 0;\n",
              "    width: 32px;\n",
              "  }\n",
              "\n",
              "  .colab-df-quickchart:hover {\n",
              "    background-color: var(--hover-bg-color);\n",
              "    box-shadow: 0 1px 2px rgba(60, 64, 67, 0.3), 0 1px 3px 1px rgba(60, 64, 67, 0.15);\n",
              "    fill: var(--button-hover-fill-color);\n",
              "  }\n",
              "\n",
              "  .colab-df-quickchart-complete:disabled,\n",
              "  .colab-df-quickchart-complete:disabled:hover {\n",
              "    background-color: var(--disabled-bg-color);\n",
              "    fill: var(--disabled-fill-color);\n",
              "    box-shadow: none;\n",
              "  }\n",
              "\n",
              "  .colab-df-spinner {\n",
              "    border: 2px solid var(--fill-color);\n",
              "    border-color: transparent;\n",
              "    border-bottom-color: var(--fill-color);\n",
              "    animation:\n",
              "      spin 1s steps(1) infinite;\n",
              "  }\n",
              "\n",
              "  @keyframes spin {\n",
              "    0% {\n",
              "      border-color: transparent;\n",
              "      border-bottom-color: var(--fill-color);\n",
              "      border-left-color: var(--fill-color);\n",
              "    }\n",
              "    20% {\n",
              "      border-color: transparent;\n",
              "      border-left-color: var(--fill-color);\n",
              "      border-top-color: var(--fill-color);\n",
              "    }\n",
              "    30% {\n",
              "      border-color: transparent;\n",
              "      border-left-color: var(--fill-color);\n",
              "      border-top-color: var(--fill-color);\n",
              "      border-right-color: var(--fill-color);\n",
              "    }\n",
              "    40% {\n",
              "      border-color: transparent;\n",
              "      border-right-color: var(--fill-color);\n",
              "      border-top-color: var(--fill-color);\n",
              "    }\n",
              "    60% {\n",
              "      border-color: transparent;\n",
              "      border-right-color: var(--fill-color);\n",
              "    }\n",
              "    80% {\n",
              "      border-color: transparent;\n",
              "      border-right-color: var(--fill-color);\n",
              "      border-bottom-color: var(--fill-color);\n",
              "    }\n",
              "    90% {\n",
              "      border-color: transparent;\n",
              "      border-bottom-color: var(--fill-color);\n",
              "    }\n",
              "  }\n",
              "</style>\n",
              "\n",
              "  <script>\n",
              "    async function quickchart(key) {\n",
              "      const quickchartButtonEl =\n",
              "        document.querySelector('#' + key + ' button');\n",
              "      quickchartButtonEl.disabled = true;  // To prevent multiple clicks.\n",
              "      quickchartButtonEl.classList.add('colab-df-spinner');\n",
              "      try {\n",
              "        const charts = await google.colab.kernel.invokeFunction(\n",
              "            'suggestCharts', [key], {});\n",
              "      } catch (error) {\n",
              "        console.error('Error during call to suggestCharts:', error);\n",
              "      }\n",
              "      quickchartButtonEl.classList.remove('colab-df-spinner');\n",
              "      quickchartButtonEl.classList.add('colab-df-quickchart-complete');\n",
              "    }\n",
              "    (() => {\n",
              "      let quickchartButtonEl =\n",
              "        document.querySelector('#df-96fe739e-29cf-4b13-a9a6-3da5222fc4b4 button');\n",
              "      quickchartButtonEl.style.display =\n",
              "        google.colab.kernel.accessAllowed ? 'block' : 'none';\n",
              "    })();\n",
              "  </script>\n",
              "</div>\n",
              "\n",
              "    </div>\n",
              "  </div>\n"
            ],
            "application/vnd.google.colaboratory.intrinsic+json": {
              "type": "dataframe",
              "summary": "{\n  \"name\": \"X_train\",\n  \"rows\": 9,\n  \"fields\": [\n    {\n      \"column\": \"mean\",\n      \"properties\": {\n        \"dtype\": \"number\",\n        \"std\": 980.301425486966,\n        \"min\": 0.16932907348242812,\n        \"max\": 2983.785942492013,\n        \"num_unique_values\": 9,\n        \"samples\": [\n          0.16932907348242812,\n          194.41373801916933,\n          76.05750798722045\n        ],\n        \"semantic_type\": \"\",\n        \"description\": \"\"\n      }\n    },\n    {\n      \"column\": \"std\",\n      \"properties\": {\n        \"dtype\": \"number\",\n        \"std\": 282.45232182019737,\n        \"min\": 0.37564286394840085,\n        \"max\": 860.088320334669,\n        \"num_unique_values\": 9,\n        \"samples\": [\n          0.37564286394840085,\n          104.24205483661261,\n          3.6413600130070947\n        ],\n        \"semantic_type\": \"\",\n        \"description\": \"\"\n      }\n    }\n  ]\n}"
            }
          },
          "metadata": {},
          "execution_count": 18
        }
      ]
    },
    {
      "cell_type": "markdown",
      "source": [
        "\n",
        "**Scaling the data using Keras Normalization layer**\n",
        "\n",
        "To integrate Scaling as part of the Keras model architecture, we can use the tf.keras.layers.experimental.preprocessing.Normalization layer. This approach allows us to include the scaling directly within the model, ensuring that any transformations are part of the model pipeline. Within Keras, there isn't a direct equivalent to StandardScaler from scikit-learn that explicitly states it performs Z-score normalization. However, the **Normalization layer** in Keras essentially performs the same function by normalizing the data to have 0 mean and a standard deviation of 1. In the following, we will create the  Normalization Layer for Standardization and test it :\n"
      ],
      "metadata": {
        "id": "eDC2tbHyBgzq"
      }
    },
    {
      "cell_type": "markdown",
      "source": [
        "The **tf.keras.layers.Normalization** is a clean and simple way to add feature normalization into your model."
      ],
      "metadata": {
        "id": "lMfSuPH4Bm56"
      }
    },
    {
      "cell_type": "code",
      "source": [
        "#A function to create the normalization layer\n",
        "def create_normalizer(train_data) :\n",
        "  normalizer = tf.keras.layers.Normalization(axis=-1)\n",
        "  #Then, fit the state of the preprocessing layer to the data by calling Normalization.adapt:\n",
        "  #At this step normalizer calculates the mean and variance, and store them in the layer\n",
        "  normalizer.adapt(train_data)\n",
        "  return normalizer"
      ],
      "metadata": {
        "id": "yqu3KdAnBaSx"
      },
      "execution_count": null,
      "outputs": []
    },
    {
      "cell_type": "code",
      "source": [
        "# check the mean and variance stored  in the normalizer layer:\n",
        "normalizer = create_normalizer(X_train)\n",
        "print(normalizer.mean.numpy())"
      ],
      "metadata": {
        "colab": {
          "base_uri": "https://localhost:8080/"
        },
        "id": "tGxPaTWSjRpX",
        "outputId": "3a681abb-4c1a-4114-e071-9e71f26f51b6"
      },
      "execution_count": null,
      "outputs": [
        {
          "output_type": "stream",
          "name": "stdout",
          "text": [
            "[[5.4728432e+00 1.9441376e+02 1.0416934e+02 2.9837859e+03 1.5607029e+01\n",
            "  7.6057503e+01 6.2619805e-01 1.6932909e-01 2.0447285e-01]]\n"
          ]
        }
      ]
    },
    {
      "cell_type": "code",
      "source": [
        "#When the layer is called, it returns the input data, with each feature independently normalized:\n",
        "first = np.array(X_train[:1])\n",
        "\n",
        "with np.printoptions(precision=2, suppress=True):\n",
        "  print('First example:', first)\n",
        "  print()\n",
        "  print('Normalized:', normalizer(first).numpy())\n"
      ],
      "metadata": {
        "colab": {
          "base_uri": "https://localhost:8080/"
        },
        "id": "6g8rN0BNDoDU",
        "outputId": "9ed8e823-ce81-43fc-bd0c-af7195363830"
      },
      "execution_count": null,
      "outputs": [
        {
          "output_type": "stream",
          "name": "stdout",
          "text": [
            "First example: [[   4.    90.    71.  2223.    16.5   75.     0.     1.     0. ]]\n",
            "\n",
            "Normalized: [[-0.87 -1.   -0.86 -0.89  0.32 -0.29 -1.29  2.21 -0.51]]\n"
          ]
        }
      ]
    },
    {
      "cell_type": "markdown",
      "source": [
        "# Task 3. Creating the Keras DNN Model"
      ],
      "metadata": {
        "id": "dJyAutvnEJcD"
      }
    },
    {
      "cell_type": "markdown",
      "source": [
        "### 3.1 Building the Model"
      ],
      "metadata": {
        "id": "Wk5i_DASEMNk"
      }
    },
    {
      "cell_type": "code",
      "source": [
        "#Fct to create a sequential Keras model having 3 dense layers\n",
        "def build_Compile_Model(norm_layer, learning_rate=0.001) :\n",
        "  model = tf.keras.Sequential ([\n",
        "      norm_layer,\n",
        "      tf.keras.layers.Dense(64, activation='relu'),\n",
        "      tf.keras.layers.Dense(64, activation='relu'),\n",
        "      tf.keras.layers.Dense(1) #The final Dense layer applies linear transformation per default\n",
        "  ])\n",
        "\n",
        "  #opt=tf.keras.optimizers.Adam(learning_rate=learning_rate)  # an alternative optimizer\n",
        "  opt=tf.keras.optimizers.Adam(learning_rate=learning_rate)\n",
        "  model.compile(loss='mse', optimizer=opt, metrics=['mse', 'mae'])\n",
        "  return model"
      ],
      "metadata": {
        "id": "sMWkqtWODX-H"
      },
      "execution_count": null,
      "outputs": []
    },
    {
      "cell_type": "code",
      "source": [
        "#Build the model the normalization layer\n",
        "model_base = build_Compile_Model (normalizer)\n",
        "model_base.summary()\n"
      ],
      "metadata": {
        "colab": {
          "base_uri": "https://localhost:8080/"
        },
        "id": "XxkBh-R5HsaC",
        "outputId": "8c8c2af4-c238-4908-a5e8-786978817e97"
      },
      "execution_count": null,
      "outputs": [
        {
          "output_type": "stream",
          "name": "stdout",
          "text": [
            "Model: \"sequential\"\n",
            "_________________________________________________________________\n",
            " Layer (type)                Output Shape              Param #   \n",
            "=================================================================\n",
            " normalization (Normalizati  (None, 9)                 19        \n",
            " on)                                                             \n",
            "                                                                 \n",
            " dense (Dense)               (None, 64)                640       \n",
            "                                                                 \n",
            " dense_1 (Dense)             (None, 64)                4160      \n",
            "                                                                 \n",
            " dense_2 (Dense)             (None, 1)                 65        \n",
            "                                                                 \n",
            "=================================================================\n",
            "Total params: 4884 (19.08 KB)\n",
            "Trainable params: 4865 (19.00 KB)\n",
            "Non-trainable params: 19 (80.00 Byte)\n",
            "_________________________________________________________________\n"
          ]
        }
      ]
    },
    {
      "cell_type": "markdown",
      "source": [
        "### 3.2. Inspect the model"
      ],
      "metadata": {
        "id": "ZPB4QXAfJPcT"
      }
    },
    {
      "cell_type": "code",
      "source": [
        "#We will run the untrained mode to predict 10 examples to check that there is no errors\n",
        "results= model_base.predict(X_train[:10])\n",
        "results\n"
      ],
      "metadata": {
        "colab": {
          "base_uri": "https://localhost:8080/"
        },
        "id": "Oy0Kc8ijJOY7",
        "outputId": "9bd7e537-5eaf-423a-aa3b-542d800e2a1a"
      },
      "execution_count": null,
      "outputs": [
        {
          "output_type": "stream",
          "name": "stdout",
          "text": [
            "1/1 [==============================] - 0s 169ms/step\n"
          ]
        },
        {
          "output_type": "execute_result",
          "data": {
            "text/plain": [
              "array([[ 0.09626764],\n",
              "       [-0.29456973],\n",
              "       [-0.076373  ],\n",
              "       [ 0.19647548],\n",
              "       [ 0.30227754],\n",
              "       [-0.17188522],\n",
              "       [-0.00844163],\n",
              "       [-0.14838812],\n",
              "       [-0.32717025],\n",
              "       [ 0.16076142]], dtype=float32)"
            ]
          },
          "metadata": {},
          "execution_count": 24
        }
      ]
    },
    {
      "cell_type": "markdown",
      "source": [
        "### 3.3. Training the model"
      ],
      "metadata": {
        "id": "7NW9Xx6yKpxV"
      }
    },
    {
      "cell_type": "code",
      "source": [
        "#Special class to print 'dots' while training the model\n",
        "class PrintDot(tf.keras.callbacks.Callback):\n",
        "  def on_epoch_end(self, epoch, log) :\n",
        "    if epoch %100 == 0 : print('')\n",
        "    print('.', end='')\n"
      ],
      "metadata": {
        "id": "BFo1E2LdLODq"
      },
      "execution_count": null,
      "outputs": []
    },
    {
      "cell_type": "code",
      "source": [
        "#Training the model\n",
        "%%time\n",
        "history= model_base.fit(\n",
        "    X_train,\n",
        "    Y_train,\n",
        "    validation_split=0.2,\n",
        "    verbose=0, epochs=1000,\n",
        "    callbacks=[PrintDot()]\n",
        ")"
      ],
      "metadata": {
        "colab": {
          "base_uri": "https://localhost:8080/"
        },
        "id": "1DZb8uHmKoxt",
        "outputId": "b312f401-5756-48db-f748-7d86bc3061f4"
      },
      "execution_count": null,
      "outputs": [
        {
          "output_type": "stream",
          "name": "stdout",
          "text": [
            "\n",
            "....................................................................................................\n",
            "....................................................................................................\n",
            "....................................................................................................\n",
            "....................................................................................................\n",
            "....................................................................................................\n",
            "....................................................................................................\n",
            "....................................................................................................\n",
            "....................................................................................................\n",
            "....................................................................................................\n",
            "....................................................................................................CPU times: user 46.9 s, sys: 1.91 s, total: 48.8 s\n",
            "Wall time: 53.2 s\n"
          ]
        }
      ]
    },
    {
      "cell_type": "markdown",
      "source": [
        "### 3.5 Making Predictions"
      ],
      "metadata": {
        "id": "7VU-zsIWS_Ow"
      }
    },
    {
      "cell_type": "code",
      "source": [
        "#Computing the predictions\n",
        "test_prediction = model_base.predict(X_test).flatten()"
      ],
      "metadata": {
        "colab": {
          "base_uri": "https://localhost:8080/"
        },
        "outputId": "a45d2af7-4b8a-45da-d412-3935937708e3",
        "id": "jEMFo1kuS7b_"
      },
      "execution_count": null,
      "outputs": [
        {
          "output_type": "stream",
          "name": "stdout",
          "text": [
            "3/3 [==============================] - 0s 4ms/step\n"
          ]
        }
      ]
    },
    {
      "cell_type": "code",
      "source": [
        "#Plotting the predictions of the Testing set\n",
        "a = plt.axes(aspect='equal')\n",
        "plt.scatter(Y_test, test_prediction)\n",
        "plt.xlabel('True Values [MPG]')\n",
        "plt.ylabel('Predictions [MPG]')\n",
        "lims = [0, 50]\n",
        "plt.xlim(lims)\n",
        "plt.ylim(lims)\n",
        "_ = plt.plot(lims, lims)\n"
      ],
      "metadata": {
        "colab": {
          "base_uri": "https://localhost:8080/",
          "height": 455
        },
        "outputId": "c9de59e5-6f99-4018-bcd5-1d4c8aace421",
        "id": "AT5Ppj5XS7cB"
      },
      "execution_count": null,
      "outputs": [
        {
          "output_type": "display_data",
          "data": {
            "text/plain": [
              "<Figure size 640x480 with 1 Axes>"
            ],
            "image/png": "[encoded data removed]"
          },
          "metadata": {}
        }
      ]
    },
    {
      "cell_type": "markdown",
      "source": [
        "Now, check the error distribution:"
      ],
      "metadata": {
        "id": "d14vtVXhS7cC"
      }
    },
    {
      "cell_type": "code",
      "source": [
        "error = test_prediction - Y_test\n",
        "plt.hist(error, bins=25)\n",
        "plt.xlabel('Prediction Error [MPG]')\n",
        "_ = plt.ylabel('Count')\n"
      ],
      "metadata": {
        "colab": {
          "base_uri": "https://localhost:8080/",
          "height": 449
        },
        "outputId": "68edef68-ce8f-4694-a250-726ab1af8b28",
        "id": "q33VGMZqS7cC"
      },
      "execution_count": null,
      "outputs": [
        {
          "output_type": "display_data",
          "data": {
            "text/plain": [
              "<Figure size 640x480 with 1 Axes>"
            ],
            "image/png": "[encoded data removed]"
          },
          "metadata": {}
        }
      ]
    },
    {
      "cell_type": "markdown",
      "source": [
        "### 3.4 Evaluating the model\n",
        "\n"
      ],
      "metadata": {
        "id": "LhfBw1pVSSGh"
      }
    },
    {
      "cell_type": "code",
      "source": [
        "#Evaluate the baseline model\n",
        "def evaluate_model (model, X_train, Y_train, X_test, Y_test) :\n",
        "  #Get the base evaluations\n",
        "  loss_train, mse_train, mae_train  = model.evaluate(X_train, Y_train)\n",
        "  loss_test, mse_test, mae_test = model.evaluate(X_test, Y_test)\n",
        "\n",
        "  #making predictions\n",
        "  y_pred_test = model.predict(X_test).flatten()\n",
        "  y_pred_train = model.predict(X_train).flatten()\n",
        "\n",
        "  #Compute more metrics\n",
        "  mape_train = mean_absolute_percentage_error(Y_train, y_pred_train )\n",
        "  mape_test = mean_absolute_percentage_error(Y_test, y_pred_test )\n",
        "  r2_test= r2_score(Y_test, y_pred_test)\n",
        "  r2_train= r2_score(Y_train, y_pred_train)\n",
        "\n",
        "  #Store the different evaluations\n",
        "  model_evals= {\n",
        "    'loss': loss_test,\n",
        "    'mse': mse_test,\n",
        "    'mae': mae_test,\n",
        "    'mape_train':mape_train,\n",
        "    'mape_test': mape_test,\n",
        "    'r2-train': r2_train,\n",
        "    'r2-test': r2_test\n",
        "}\n",
        "\n",
        "  return model_evals"
      ],
      "metadata": {
        "id": "sx79PdIbSh9v"
      },
      "execution_count": null,
      "outputs": []
    },
    {
      "cell_type": "code",
      "source": [
        "baseline_evaluations = evaluate_model(model_base,  X_train, Y_train, X_test, Y_test)\n",
        "baseline_evaluations['model_name'] = 'dnn_baseline'\n",
        "baseline_evaluations"
      ],
      "metadata": {
        "colab": {
          "base_uri": "https://localhost:8080/"
        },
        "id": "LPtwLet3S7CG",
        "outputId": "72faf443-6c1b-4ce2-db2d-418d39f0fe81"
      },
      "execution_count": null,
      "outputs": [
        {
          "output_type": "stream",
          "name": "stdout",
          "text": [
            "10/10 [==============================] - 0s 2ms/step - loss: 4.8611 - mse: 4.8611 - mae: 1.1792\n",
            "3/3 [==============================] - 0s 4ms/step - loss: 8.2932 - mse: 8.2932 - mae: 2.0014\n",
            "3/3 [==============================] - 0s 3ms/step\n",
            "10/10 [==============================] - 0s 2ms/step\n"
          ]
        },
        {
          "output_type": "execute_result",
          "data": {
            "text/plain": [
              "{'loss': 8.293227195739746,\n",
              " 'mse': 8.293227195739746,\n",
              " 'mae': 2.0014002323150635,\n",
              " 'mape_train': 0.047883195635895305,\n",
              " 'mape_test': 0.08883173766425059,\n",
              " 'r2-train': 0.9231445558695784,\n",
              " 'r2-test': 0.8366553259386297,\n",
              " 'model_name': 'dnn_baseline'}"
            ]
          },
          "metadata": {},
          "execution_count": 31
        }
      ]
    },
    {
      "cell_type": "markdown",
      "source": [
        "**Signs of Overfitting**\n",
        "\n",
        "  The baseline model shows signs of overfitting. It has a significantly lower training loss and MAE compared to its testing loss and MAE, and the R² score drops from 0.92 (training) to 0.85 (testing). The higher training performance and lower testing performance indicate the model fits the training data too well but doesn't generalize as effectively. Hence, we will try to inscpect the training by visualizing the model training progress  across the different epochs. Then, we will try a technique to handle the overfitting problem called the [Early stopping](https://en.wikipedia.org/wiki/Early_stopping) method and inspect its results, then we will try to fine-turne the hyperparameters of our model to find the best parameters sets that reduces the overfitting while mainting the high performances of the model."
      ],
      "metadata": {
        "id": "pfhOYxH9JkTG"
      }
    },
    {
      "cell_type": "markdown",
      "source": [
        "# Task 4. Improving the model using Early stopping"
      ],
      "metadata": {
        "id": "1zIgdO3nSz85"
      }
    },
    {
      "cell_type": "markdown",
      "source": [
        "### 4.1 Inspecting the training\n",
        "\n",
        "Visualize the model training progress using the stats stored in history"
      ],
      "metadata": {
        "id": "ovrn-WIaNBz-"
      }
    },
    {
      "cell_type": "code",
      "source": [
        "#Getting the training evals from the history object\n",
        "hist = pd.DataFrame(history.history)\n",
        "hist['epoch'] = history.epoch\n",
        "hist.tail()"
      ],
      "metadata": {
        "colab": {
          "base_uri": "https://localhost:8080/",
          "height": 206
        },
        "id": "Mk_vrE-dNAyJ",
        "outputId": "6f4d1b97-51c1-4a6d-dc06-df8e2e5d15ab"
      },
      "execution_count": null,
      "outputs": [
        {
          "output_type": "execute_result",
          "data": {
            "text/plain": [
              "         loss       mse       mae   val_loss    val_mse   val_mae  epoch\n",
              "995  1.906292  1.906292  0.855610  17.020782  17.020782  2.533658    995\n",
              "996  1.897207  1.897207  0.846625  16.976082  16.976082  2.537139    996\n",
              "997  1.870631  1.870631  0.835852  16.972471  16.972471  2.539300    997\n",
              "998  1.963629  1.963629  0.865110  16.736843  16.736843  2.545821    998\n",
              "999  1.973476  1.973476  0.879347  16.846485  16.846485  2.526801    999"
            ],
            "text/html": [
              "\n",
              "  <div id=\"df-6793ef57-c61c-45ea-ac15-f9fca2a4591b\" class=\"colab-df-container\">\n",
              "    <div>\n",
              "<style scoped>\n",
              "    .dataframe tbody tr th:only-of-type {\n",
              "        vertical-align: middle;\n",
              "    }\n",
              "\n",
              "    .dataframe tbody tr th {\n",
              "        vertical-align: top;\n",
              "    }\n",
              "\n",
              "    .dataframe thead th {\n",
              "        text-align: right;\n",
              "    }\n",
              "</style>\n",
              "<table border=\"1\" class=\"dataframe\">\n",
              "  <thead>\n",
              "    <tr style=\"text-align: right;\">\n",
              "      <th></th>\n",
              "      <th>loss</th>\n",
              "      <th>mse</th>\n",
              "      <th>mae</th>\n",
              "      <th>val_loss</th>\n",
              "      <th>val_mse</th>\n",
              "      <th>val_mae</th>\n",
              "      <th>epoch</th>\n",
              "    </tr>\n",
              "  </thead>\n",
              "  <tbody>\n",
              "    <tr>\n",
              "      <th>995</th>\n",
              "      <td>1.906292</td>\n",
              "      <td>1.906292</td>\n",
              "      <td>0.855610</td>\n",
              "      <td>17.020782</td>\n",
              "      <td>17.020782</td>\n",
              "      <td>2.533658</td>\n",
              "      <td>995</td>\n",
              "    </tr>\n",
              "    <tr>\n",
              "      <th>996</th>\n",
              "      <td>1.897207</td>\n",
              "      <td>1.897207</td>\n",
              "      <td>0.846625</td>\n",
              "      <td>16.976082</td>\n",
              "      <td>16.976082</td>\n",
              "      <td>2.537139</td>\n",
              "      <td>996</td>\n",
              "    </tr>\n",
              "    <tr>\n",
              "      <th>997</th>\n",
              "      <td>1.870631</td>\n",
              "      <td>1.870631</td>\n",
              "      <td>0.835852</td>\n",
              "      <td>16.972471</td>\n",
              "      <td>16.972471</td>\n",
              "      <td>2.539300</td>\n",
              "      <td>997</td>\n",
              "    </tr>\n",
              "    <tr>\n",
              "      <th>998</th>\n",
              "      <td>1.963629</td>\n",
              "      <td>1.963629</td>\n",
              "      <td>0.865110</td>\n",
              "      <td>16.736843</td>\n",
              "      <td>16.736843</td>\n",
              "      <td>2.545821</td>\n",
              "      <td>998</td>\n",
              "    </tr>\n",
              "    <tr>\n",
              "      <th>999</th>\n",
              "      <td>1.973476</td>\n",
              "      <td>1.973476</td>\n",
              "      <td>0.879347</td>\n",
              "      <td>16.846485</td>\n",
              "      <td>16.846485</td>\n",
              "      <td>2.526801</td>\n",
              "      <td>999</td>\n",
              "    </tr>\n",
              "  </tbody>\n",
              "</table>\n",
              "</div>\n",
              "    <div class=\"colab-df-buttons\">\n",
              "\n",
              "  <div class=\"colab-df-container\">\n",
              "    <button class=\"colab-df-convert\" onclick=\"convertToInteractive('df-6793ef57-c61c-45ea-ac15-f9fca2a4591b')\"\n",
              "            title=\"Convert this dataframe to an interactive table.\"\n",
              "            style=\"display:none;\">\n",
              "\n",
              "  <svg xmlns=\"http://www.w3.org/2000/svg\" height=\"24px\" viewBox=\"0 -960 960 960\">\n",
              "    <path d=\"M120-120v-720h720v720H120Zm60-500h600v-160H180v160Zm220 220h160v-160H400v160Zm0 220h160v-160H400v160ZM180-400h160v-160H180v160Zm440 0h160v-160H620v160ZM180-180h160v-160H180v160Zm440 0h160v-160H620v160Z\"/>\n",
              "  </svg>\n",
              "    </button>\n",
              "\n",
              "  <style>\n",
              "    .colab-df-container {\n",
              "      display:flex;\n",
              "      gap: 12px;\n",
              "    }\n",
              "\n",
              "    .colab-df-convert {\n",
              "      background-color: #E8F0FE;\n",
              "      border: none;\n",
              "      border-radius: 50%;\n",
              "      cursor: pointer;\n",
              "      display: none;\n",
              "      fill: #1967D2;\n",
              "      height: 32px;\n",
              "      padding: 0 0 0 0;\n",
              "      width: 32px;\n",
              "    }\n",
              "\n",
              "    .colab-df-convert:hover {\n",
              "      background-color: #E2EBFA;\n",
              "      box-shadow: 0px 1px 2px rgba(60, 64, 67, 0.3), 0px 1px 3px 1px rgba(60, 64, 67, 0.15);\n",
              "      fill: #174EA6;\n",
              "    }\n",
              "\n",
              "    .colab-df-buttons div {\n",
              "      margin-bottom: 4px;\n",
              "    }\n",
              "\n",
              "    [theme=dark] .colab-df-convert {\n",
              "      background-color: #3B4455;\n",
              "      fill: #D2E3FC;\n",
              "    }\n",
              "\n",
              "    [theme=dark] .colab-df-convert:hover {\n",
              "      background-color: #434B5C;\n",
              "      box-shadow: 0px 1px 3px 1px rgba(0, 0, 0, 0.15);\n",
              "      filter: drop-shadow(0px 1px 2px rgba(0, 0, 0, 0.3));\n",
              "      fill: #FFFFFF;\n",
              "    }\n",
              "  </style>\n",
              "\n",
              "    <script>\n",
              "      const buttonEl =\n",
              "        document.querySelector('#df-6793ef57-c61c-45ea-ac15-f9fca2a4591b button.colab-df-convert');\n",
              "      buttonEl.style.display =\n",
              "        google.colab.kernel.accessAllowed ? 'block' : 'none';\n",
              "\n",
              "      async function convertToInteractive(key) {\n",
              "        const element = document.querySelector('#df-6793ef57-c61c-45ea-ac15-f9fca2a4591b');\n",
              "        const dataTable =\n",
              "          await google.colab.kernel.invokeFunction('convertToInteractive',\n",
              "                                                    [key], {});\n",
              "        if (!dataTable) return;\n",
              "\n",
              "        const docLinkHtml = 'Like what you see? Visit the ' +\n",
              "          '<a target=\"_blank\" href=https://colab.research.google.com/notebooks/data_table.ipynb>data table notebook</a>'\n",
              "          + ' to learn more about interactive tables.';\n",
              "        element.innerHTML = '';\n",
              "        dataTable['output_type'] = 'display_data';\n",
              "        await google.colab.output.renderOutput(dataTable, element);\n",
              "        const docLink = document.createElement('div');\n",
              "        docLink.innerHTML = docLinkHtml;\n",
              "        element.appendChild(docLink);\n",
              "      }\n",
              "    </script>\n",
              "  </div>\n",
              "\n",
              "\n",
              "<div id=\"df-fbc8f148-82b1-421c-bc05-4fa9e3cf384d\">\n",
              "  <button class=\"colab-df-quickchart\" onclick=\"quickchart('df-fbc8f148-82b1-421c-bc05-4fa9e3cf384d')\"\n",
              "            title=\"Suggest charts\"\n",
              "            style=\"display:none;\">\n",
              "\n",
              "<svg xmlns=\"http://www.w3.org/2000/svg\" height=\"24px\"viewBox=\"0 0 24 24\"\n",
              "     width=\"24px\">\n",
              "    <g>\n",
              "        <path d=\"M19 3H5c-1.1 0-2 .9-2 2v14c0 1.1.9 2 2 2h14c1.1 0 2-.9 2-2V5c0-1.1-.9-2-2-2zM9 17H7v-7h2v7zm4 0h-2V7h2v10zm4 0h-2v-4h2v4z\"/>\n",
              "    </g>\n",
              "</svg>\n",
              "  </button>\n",
              "\n",
              "<style>\n",
              "  .colab-df-quickchart {\n",
              "      --bg-color: #E8F0FE;\n",
              "      --fill-color: #1967D2;\n",
              "      --hover-bg-color: #E2EBFA;\n",
              "      --hover-fill-color: #174EA6;\n",
              "      --disabled-fill-color: #AAA;\n",
              "      --disabled-bg-color: #DDD;\n",
              "  }\n",
              "\n",
              "  [theme=dark] .colab-df-quickchart {\n",
              "      --bg-color: #3B4455;\n",
              "      --fill-color: #D2E3FC;\n",
              "      --hover-bg-color: #434B5C;\n",
              "      --hover-fill-color: #FFFFFF;\n",
              "      --disabled-bg-color: #3B4455;\n",
              "      --disabled-fill-color: #666;\n",
              "  }\n",
              "\n",
              "  .colab-df-quickchart {\n",
              "    background-color: var(--bg-color);\n",
              "    border: none;\n",
              "    border-radius: 50%;\n",
              "    cursor: pointer;\n",
              "    display: none;\n",
              "    fill: var(--fill-color);\n",
              "    height: 32px;\n",
              "    padding: 0;\n",
              "    width: 32px;\n",
              "  }\n",
              "\n",
              "  .colab-df-quickchart:hover {\n",
              "    background-color: var(--hover-bg-color);\n",
              "    box-shadow: 0 1px 2px rgba(60, 64, 67, 0.3), 0 1px 3px 1px rgba(60, 64, 67, 0.15);\n",
              "    fill: var(--button-hover-fill-color);\n",
              "  }\n",
              "\n",
              "  .colab-df-quickchart-complete:disabled,\n",
              "  .colab-df-quickchart-complete:disabled:hover {\n",
              "    background-color: var(--disabled-bg-color);\n",
              "    fill: var(--disabled-fill-color);\n",
              "    box-shadow: none;\n",
              "  }\n",
              "\n",
              "  .colab-df-spinner {\n",
              "    border: 2px solid var(--fill-color);\n",
              "    border-color: transparent;\n",
              "    border-bottom-color: var(--fill-color);\n",
              "    animation:\n",
              "      spin 1s steps(1) infinite;\n",
              "  }\n",
              "\n",
              "  @keyframes spin {\n",
              "    0% {\n",
              "      border-color: transparent;\n",
              "      border-bottom-color: var(--fill-color);\n",
              "      border-left-color: var(--fill-color);\n",
              "    }\n",
              "    20% {\n",
              "      border-color: transparent;\n",
              "      border-left-color: var(--fill-color);\n",
              "      border-top-color: var(--fill-color);\n",
              "    }\n",
              "    30% {\n",
              "      border-color: transparent;\n",
              "      border-left-color: var(--fill-color);\n",
              "      border-top-color: var(--fill-color);\n",
              "      border-right-color: var(--fill-color);\n",
              "    }\n",
              "    40% {\n",
              "      border-color: transparent;\n",
              "      border-right-color: var(--fill-color);\n",
              "      border-top-color: var(--fill-color);\n",
              "    }\n",
              "    60% {\n",
              "      border-color: transparent;\n",
              "      border-right-color: var(--fill-color);\n",
              "    }\n",
              "    80% {\n",
              "      border-color: transparent;\n",
              "      border-right-color: var(--fill-color);\n",
              "      border-bottom-color: var(--fill-color);\n",
              "    }\n",
              "    90% {\n",
              "      border-color: transparent;\n",
              "      border-bottom-color: var(--fill-color);\n",
              "    }\n",
              "  }\n",
              "</style>\n",
              "\n",
              "  <script>\n",
              "    async function quickchart(key) {\n",
              "      const quickchartButtonEl =\n",
              "        document.querySelector('#' + key + ' button');\n",
              "      quickchartButtonEl.disabled = true;  // To prevent multiple clicks.\n",
              "      quickchartButtonEl.classList.add('colab-df-spinner');\n",
              "      try {\n",
              "        const charts = await google.colab.kernel.invokeFunction(\n",
              "            'suggestCharts', [key], {});\n",
              "      } catch (error) {\n",
              "        console.error('Error during call to suggestCharts:', error);\n",
              "      }\n",
              "      quickchartButtonEl.classList.remove('colab-df-spinner');\n",
              "      quickchartButtonEl.classList.add('colab-df-quickchart-complete');\n",
              "    }\n",
              "    (() => {\n",
              "      let quickchartButtonEl =\n",
              "        document.querySelector('#df-fbc8f148-82b1-421c-bc05-4fa9e3cf384d button');\n",
              "      quickchartButtonEl.style.display =\n",
              "        google.colab.kernel.accessAllowed ? 'block' : 'none';\n",
              "    })();\n",
              "  </script>\n",
              "</div>\n",
              "\n",
              "    </div>\n",
              "  </div>\n"
            ],
            "application/vnd.google.colaboratory.intrinsic+json": {
              "type": "dataframe",
              "summary": "{\n  \"name\": \"hist\",\n  \"rows\": 5,\n  \"fields\": [\n    {\n      \"column\": \"loss\",\n      \"properties\": {\n        \"dtype\": \"number\",\n        \"std\": 0.04439195780161075,\n        \"min\": 1.870631456375122,\n        \"max\": 1.973475694656372,\n        \"num_unique_values\": 5,\n        \"samples\": [\n          1.8972067832946777,\n          1.973475694656372,\n          1.870631456375122\n        ],\n        \"semantic_type\": \"\",\n        \"description\": \"\"\n      }\n    },\n    {\n      \"column\": \"mse\",\n      \"properties\": {\n        \"dtype\": \"number\",\n        \"std\": 0.04439195780161075,\n        \"min\": 1.870631456375122,\n        \"max\": 1.973475694656372,\n        \"num_unique_values\": 5,\n        \"samples\": [\n          1.8972067832946777,\n          1.973475694656372,\n          1.870631456375122\n        ],\n        \"semantic_type\": \"\",\n        \"description\": \"\"\n      }\n    },\n    {\n      \"column\": \"mae\",\n      \"properties\": {\n        \"dtype\": \"number\",\n        \"std\": 0.01673891423167761,\n        \"min\": 0.8358522653579712,\n        \"max\": 0.8793472647666931,\n        \"num_unique_values\": 5,\n        \"samples\": [\n          0.8466248512268066,\n          0.8793472647666931,\n          0.8358522653579712\n        ],\n        \"semantic_type\": \"\",\n        \"description\": \"\"\n      }\n    },\n    {\n      \"column\": \"val_loss\",\n      \"properties\": {\n        \"dtype\": \"number\",\n        \"std\": 0.11678853682303166,\n        \"min\": 16.73684310913086,\n        \"max\": 17.020782470703125,\n        \"num_unique_values\": 5,\n        \"samples\": [\n          16.97608184814453,\n          16.846485137939453,\n          16.972471237182617\n        ],\n        \"semantic_type\": \"\",\n        \"description\": \"\"\n      }\n    },\n    {\n      \"column\": \"val_mse\",\n      \"properties\": {\n        \"dtype\": \"number\",\n        \"std\": 0.11678853682303166,\n        \"min\": 16.73684310913086,\n        \"max\": 17.020782470703125,\n        \"num_unique_values\": 5,\n        \"samples\": [\n          16.97608184814453,\n          16.846485137939453,\n          16.972471237182617\n        ],\n        \"semantic_type\": \"\",\n        \"description\": \"\"\n      }\n    },\n    {\n      \"column\": \"val_mae\",\n      \"properties\": {\n        \"dtype\": \"number\",\n        \"std\": 0.007022634026863633,\n        \"min\": 2.526801109313965,\n        \"max\": 2.545821189880371,\n        \"num_unique_values\": 5,\n        \"samples\": [\n          2.5371389389038086,\n          2.526801109313965,\n          2.5393004417419434\n        ],\n        \"semantic_type\": \"\",\n        \"description\": \"\"\n      }\n    },\n    {\n      \"column\": \"epoch\",\n      \"properties\": {\n        \"dtype\": \"number\",\n        \"std\": 1,\n        \"min\": 995,\n        \"max\": 999,\n        \"num_unique_values\": 5,\n        \"samples\": [\n          996,\n          999,\n          997\n        ],\n        \"semantic_type\": \"\",\n        \"description\": \"\"\n      }\n    }\n  ]\n}"
            }
          },
          "metadata": {},
          "execution_count": 32
        }
      ]
    },
    {
      "cell_type": "code",
      "source": [
        "def plot_loss(history, metric='loss'):\n",
        "  plt.figure()\n",
        "  plt.plot(history.history[metric], label=metric)\n",
        "  plt.plot(history.history['val_'+metric], label='val_'+metric)\n",
        "  plt.ylim([0, 20])\n",
        "  plt.xlabel('Epoch')\n",
        "  plt.ylabel(metric + '[MPG]')\n",
        "  plt.legend()\n",
        "  plt.title(\"Model \"+metric+\" progress during the training\")\n",
        "  plt.grid(True)"
      ],
      "metadata": {
        "id": "LpnYYe9tIYDd"
      },
      "execution_count": null,
      "outputs": []
    },
    {
      "cell_type": "code",
      "source": [
        "#Plotting the different metrics progress during the training\n",
        "plot_loss(history)"
      ],
      "metadata": {
        "colab": {
          "base_uri": "https://localhost:8080/",
          "height": 472
        },
        "id": "2kuqqQt1Lkw7",
        "outputId": "92c2b94a-fd5b-4c49-81cc-d4377c2aab46"
      },
      "execution_count": null,
      "outputs": [
        {
          "output_type": "display_data",
          "data": {
            "text/plain": [
              "<Figure size 640x480 with 1 Axes>"
            ],
            "image/png": "[encoded data removed]"
          },
          "metadata": {}
        }
      ]
    },
    {
      "cell_type": "code",
      "source": [
        "plot_loss(history, 'mae')"
      ],
      "metadata": {
        "colab": {
          "base_uri": "https://localhost:8080/",
          "height": 472
        },
        "id": "KZWVpKfeMMm9",
        "outputId": "d92745ac-7626-4186-a064-1742c0443464"
      },
      "execution_count": null,
      "outputs": [
        {
          "output_type": "display_data",
          "data": {
            "text/plain": [
              "<Figure size 640x480 with 1 Axes>"
            ],
            "image/png": "[encoded data removed]"
          },
          "metadata": {}
        }
      ]
    },
    {
      "cell_type": "markdown",
      "source": [
        "The previous plots show the loss(mse) and the mae of our model for each epoch on the training and validation datasets. From reviewing this plot and evaluation results for each epochs, we can see that the model performance on the validation set and on the training set, sits flat and even gets worse towards the end of training. We can also notice that there is an opportunity to stop the learning earlier, perhaps somewhere around epoch 200.\n",
        "\n",
        "Let's update the model.fit to automatically stop when the validation score doesn't improve. We will be using the **Early Stopping** Callback that test a Stopping condition for fixed amount of epochs. If a set of epochs elapses without any improvement, then we automatically stop the training."
      ],
      "metadata": {
        "id": "jAwz2DiqQWdF"
      }
    },
    {
      "cell_type": "markdown",
      "source": [
        "### 4.2. Training the model with early Stopping parameter"
      ],
      "metadata": {
        "id": "nC_sLabwST0Z"
      }
    },
    {
      "cell_type": "code",
      "source": [
        "# Split the data into train and validation sets\n",
        "X_train_v, X_val, Y_train_v, Y_val = train_test_split(X_train, Y_train, test_size=0.2, random_state=seed)\n",
        "\n",
        "#Building the model\n",
        "def build_model_early_stopping(normalizer, X_train, Y_train, X_val, Y_val, patience=10 ) :\n",
        "  model_es = build_Compile_Model(normalizer)\n",
        "  #The patience paramater is the amount of epoch to wait for, before checking the improvement\n",
        "  early_stop = tf.keras.callbacks.EarlyStopping(monitor=\"val_loss\" , patience=patience)\n",
        "  EPOCH= 1000\n",
        "  #Training the model using new early stopping parameters\n",
        "  history= model_es.fit(X_train, Y_train, epochs=EPOCH, validation_data=(X_val, Y_val), verbose=0, callbacks=[early_stop, PrintDot()])\n",
        "\n",
        "  return model_es, history"
      ],
      "metadata": {
        "id": "nUU_Pd4PSTFa"
      },
      "execution_count": null,
      "outputs": []
    },
    {
      "cell_type": "code",
      "source": [
        "model_es_10, history_10= build_model_early_stopping(normalizer, X_train_v, Y_train_v, X_val, Y_val)\n"
      ],
      "metadata": {
        "colab": {
          "base_uri": "https://localhost:8080/"
        },
        "id": "ufN5yWnVFd8d",
        "outputId": "c8b1f738-8855-49ab-ca1c-c1f29e0d3b8c"
      },
      "execution_count": null,
      "outputs": [
        {
          "output_type": "stream",
          "name": "stdout",
          "text": [
            "\n",
            "....................................................................................................\n",
            "....................................................................................................\n",
            "........................................................"
          ]
        }
      ]
    },
    {
      "cell_type": "code",
      "source": [
        "plot_loss(history_10, 'loss')\n",
        "plot_loss(history_10, 'mae')\n"
      ],
      "metadata": {
        "colab": {
          "base_uri": "https://localhost:8080/",
          "height": 927
        },
        "id": "LH1WAkUgQQEP",
        "outputId": "5c2f4e2a-888c-4644-bd97-2471cd27a04f"
      },
      "execution_count": null,
      "outputs": [
        {
          "output_type": "display_data",
          "data": {
            "text/plain": [
              "<Figure size 640x480 with 1 Axes>"
            ],
            "image/png": "[encoded data removed]"
          },
          "metadata": {}
        },
        {
          "output_type": "display_data",
          "data": {
            "text/plain": [
              "<Figure size 640x480 with 1 Axes>"
            ],
            "image/png": "[encoded data removed]"
          },
          "metadata": {}
        }
      ]
    },
    {
      "cell_type": "code",
      "source": [
        "model_es_10_evals = evaluate_model(model_es_10, X_train, Y_train, X_test, Y_test)\n",
        "model_es_10_evals['model_name'] = 'dnn_early_stop_10'\n",
        "model_es_10_evals"
      ],
      "metadata": {
        "colab": {
          "base_uri": "https://localhost:8080/"
        },
        "id": "w0AoqGpLXPeM",
        "outputId": "04da7eb0-4fdf-4e92-b4c9-dcb123cf6924"
      },
      "execution_count": null,
      "outputs": [
        {
          "output_type": "stream",
          "name": "stdout",
          "text": [
            "10/10 [==============================] - 0s 3ms/step - loss: 5.8627 - mse: 5.8627 - mae: 1.6407\n",
            "3/3 [==============================] - 0s 5ms/step - loss: 6.2342 - mse: 6.2342 - mae: 1.8025\n",
            "3/3 [==============================] - 0s 3ms/step\n",
            "10/10 [==============================] - 0s 2ms/step\n"
          ]
        },
        {
          "output_type": "execute_result",
          "data": {
            "text/plain": [
              "{'loss': 6.234172821044922,\n",
              " 'mse': 6.234172821044922,\n",
              " 'mae': 1.8025315999984741,\n",
              " 'mape_train': 0.06896341884285473,\n",
              " 'mape_test': 0.08231690125889271,\n",
              " 'r2-train': 0.9073099465631103,\n",
              " 'r2-test': 0.8772108075217306,\n",
              " 'model_name': 'dnn_early_stop_10'}"
            ]
          },
          "metadata": {},
          "execution_count": 39
        }
      ]
    },
    {
      "cell_type": "code",
      "source": [
        "all_results = pd.DataFrame([baseline_evaluations, model_es_10_evals])\n",
        "all_results"
      ],
      "metadata": {
        "colab": {
          "base_uri": "https://localhost:8080/",
          "height": 125
        },
        "id": "SsAgoiDUA21r",
        "outputId": "3fc888ec-db32-48f8-b478-7d56d2e7d221"
      },
      "execution_count": null,
      "outputs": [
        {
          "output_type": "execute_result",
          "data": {
            "text/plain": [
              "       loss       mse       mae  mape_train  mape_test  r2-train   r2-test  \\\n",
              "0  8.293227  8.293227  2.001400    0.047883   0.088832  0.923145  0.836655   \n",
              "1  6.234173  6.234173  1.802532    0.068963   0.082317  0.907310  0.877211   \n",
              "\n",
              "          model_name  \n",
              "0       dnn_baseline  \n",
              "1  dnn_early_stop_10  "
            ],
            "text/html": [
              "\n",
              "  <div id=\"df-47e93f3c-ef31-4e49-a316-83ea97ce346b\" class=\"colab-df-container\">\n",
              "    <div>\n",
              "<style scoped>\n",
              "    .dataframe tbody tr th:only-of-type {\n",
              "        vertical-align: middle;\n",
              "    }\n",
              "\n",
              "    .dataframe tbody tr th {\n",
              "        vertical-align: top;\n",
              "    }\n",
              "\n",
              "    .dataframe thead th {\n",
              "        text-align: right;\n",
              "    }\n",
              "</style>\n",
              "<table border=\"1\" class=\"dataframe\">\n",
              "  <thead>\n",
              "    <tr style=\"text-align: right;\">\n",
              "      <th></th>\n",
              "      <th>loss</th>\n",
              "      <th>mse</th>\n",
              "      <th>mae</th>\n",
              "      <th>mape_train</th>\n",
              "      <th>mape_test</th>\n",
              "      <th>r2-train</th>\n",
              "      <th>r2-test</th>\n",
              "      <th>model_name</th>\n",
              "    </tr>\n",
              "  </thead>\n",
              "  <tbody>\n",
              "    <tr>\n",
              "      <th>0</th>\n",
              "      <td>8.293227</td>\n",
              "      <td>8.293227</td>\n",
              "      <td>2.001400</td>\n",
              "      <td>0.047883</td>\n",
              "      <td>0.088832</td>\n",
              "      <td>0.923145</td>\n",
              "      <td>0.836655</td>\n",
              "      <td>dnn_baseline</td>\n",
              "    </tr>\n",
              "    <tr>\n",
              "      <th>1</th>\n",
              "      <td>6.234173</td>\n",
              "      <td>6.234173</td>\n",
              "      <td>1.802532</td>\n",
              "      <td>0.068963</td>\n",
              "      <td>0.082317</td>\n",
              "      <td>0.907310</td>\n",
              "      <td>0.877211</td>\n",
              "      <td>dnn_early_stop_10</td>\n",
              "    </tr>\n",
              "  </tbody>\n",
              "</table>\n",
              "</div>\n",
              "    <div class=\"colab-df-buttons\">\n",
              "\n",
              "  <div class=\"colab-df-container\">\n",
              "    <button class=\"colab-df-convert\" onclick=\"convertToInteractive('df-47e93f3c-ef31-4e49-a316-83ea97ce346b')\"\n",
              "            title=\"Convert this dataframe to an interactive table.\"\n",
              "            style=\"display:none;\">\n",
              "\n",
              "  <svg xmlns=\"http://www.w3.org/2000/svg\" height=\"24px\" viewBox=\"0 -960 960 960\">\n",
              "    <path d=\"M120-120v-720h720v720H120Zm60-500h600v-160H180v160Zm220 220h160v-160H400v160Zm0 220h160v-160H400v160ZM180-400h160v-160H180v160Zm440 0h160v-160H620v160ZM180-180h160v-160H180v160Zm440 0h160v-160H620v160Z\"/>\n",
              "  </svg>\n",
              "    </button>\n",
              "\n",
              "  <style>\n",
              "    .colab-df-container {\n",
              "      display:flex;\n",
              "      gap: 12px;\n",
              "    }\n",
              "\n",
              "    .colab-df-convert {\n",
              "      background-color: #E8F0FE;\n",
              "      border: none;\n",
              "      border-radius: 50%;\n",
              "      cursor: pointer;\n",
              "      display: none;\n",
              "      fill: #1967D2;\n",
              "      height: 32px;\n",
              "      padding: 0 0 0 0;\n",
              "      width: 32px;\n",
              "    }\n",
              "\n",
              "    .colab-df-convert:hover {\n",
              "      background-color: #E2EBFA;\n",
              "      box-shadow: 0px 1px 2px rgba(60, 64, 67, 0.3), 0px 1px 3px 1px rgba(60, 64, 67, 0.15);\n",
              "      fill: #174EA6;\n",
              "    }\n",
              "\n",
              "    .colab-df-buttons div {\n",
              "      margin-bottom: 4px;\n",
              "    }\n",
              "\n",
              "    [theme=dark] .colab-df-convert {\n",
              "      background-color: #3B4455;\n",
              "      fill: #D2E3FC;\n",
              "    }\n",
              "\n",
              "    [theme=dark] .colab-df-convert:hover {\n",
              "      background-color: #434B5C;\n",
              "      box-shadow: 0px 1px 3px 1px rgba(0, 0, 0, 0.15);\n",
              "      filter: drop-shadow(0px 1px 2px rgba(0, 0, 0, 0.3));\n",
              "      fill: #FFFFFF;\n",
              "    }\n",
              "  </style>\n",
              "\n",
              "    <script>\n",
              "      const buttonEl =\n",
              "        document.querySelector('#df-47e93f3c-ef31-4e49-a316-83ea97ce346b button.colab-df-convert');\n",
              "      buttonEl.style.display =\n",
              "        google.colab.kernel.accessAllowed ? 'block' : 'none';\n",
              "\n",
              "      async function convertToInteractive(key) {\n",
              "        const element = document.querySelector('#df-47e93f3c-ef31-4e49-a316-83ea97ce346b');\n",
              "        const dataTable =\n",
              "          await google.colab.kernel.invokeFunction('convertToInteractive',\n",
              "                                                    [key], {});\n",
              "        if (!dataTable) return;\n",
              "\n",
              "        const docLinkHtml = 'Like what you see? Visit the ' +\n",
              "          '<a target=\"_blank\" href=https://colab.research.google.com/notebooks/data_table.ipynb>data table notebook</a>'\n",
              "          + ' to learn more about interactive tables.';\n",
              "        element.innerHTML = '';\n",
              "        dataTable['output_type'] = 'display_data';\n",
              "        await google.colab.output.renderOutput(dataTable, element);\n",
              "        const docLink = document.createElement('div');\n",
              "        docLink.innerHTML = docLinkHtml;\n",
              "        element.appendChild(docLink);\n",
              "      }\n",
              "    </script>\n",
              "  </div>\n",
              "\n",
              "\n",
              "<div id=\"df-78085bdc-e0fb-476e-8483-dc58310603c5\">\n",
              "  <button class=\"colab-df-quickchart\" onclick=\"quickchart('df-78085bdc-e0fb-476e-8483-dc58310603c5')\"\n",
              "            title=\"Suggest charts\"\n",
              "            style=\"display:none;\">\n",
              "\n",
              "<svg xmlns=\"http://www.w3.org/2000/svg\" height=\"24px\"viewBox=\"0 0 24 24\"\n",
              "     width=\"24px\">\n",
              "    <g>\n",
              "        <path d=\"M19 3H5c-1.1 0-2 .9-2 2v14c0 1.1.9 2 2 2h14c1.1 0 2-.9 2-2V5c0-1.1-.9-2-2-2zM9 17H7v-7h2v7zm4 0h-2V7h2v10zm4 0h-2v-4h2v4z\"/>\n",
              "    </g>\n",
              "</svg>\n",
              "  </button>\n",
              "\n",
              "<style>\n",
              "  .colab-df-quickchart {\n",
              "      --bg-color: #E8F0FE;\n",
              "      --fill-color: #1967D2;\n",
              "      --hover-bg-color: #E2EBFA;\n",
              "      --hover-fill-color: #174EA6;\n",
              "      --disabled-fill-color: #AAA;\n",
              "      --disabled-bg-color: #DDD;\n",
              "  }\n",
              "\n",
              "  [theme=dark] .colab-df-quickchart {\n",
              "      --bg-color: #3B4455;\n",
              "      --fill-color: #D2E3FC;\n",
              "      --hover-bg-color: #434B5C;\n",
              "      --hover-fill-color: #FFFFFF;\n",
              "      --disabled-bg-color: #3B4455;\n",
              "      --disabled-fill-color: #666;\n",
              "  }\n",
              "\n",
              "  .colab-df-quickchart {\n",
              "    background-color: var(--bg-color);\n",
              "    border: none;\n",
              "    border-radius: 50%;\n",
              "    cursor: pointer;\n",
              "    display: none;\n",
              "    fill: var(--fill-color);\n",
              "    height: 32px;\n",
              "    padding: 0;\n",
              "    width: 32px;\n",
              "  }\n",
              "\n",
              "  .colab-df-quickchart:hover {\n",
              "    background-color: var(--hover-bg-color);\n",
              "    box-shadow: 0 1px 2px rgba(60, 64, 67, 0.3), 0 1px 3px 1px rgba(60, 64, 67, 0.15);\n",
              "    fill: var(--button-hover-fill-color);\n",
              "  }\n",
              "\n",
              "  .colab-df-quickchart-complete:disabled,\n",
              "  .colab-df-quickchart-complete:disabled:hover {\n",
              "    background-color: var(--disabled-bg-color);\n",
              "    fill: var(--disabled-fill-color);\n",
              "    box-shadow: none;\n",
              "  }\n",
              "\n",
              "  .colab-df-spinner {\n",
              "    border: 2px solid var(--fill-color);\n",
              "    border-color: transparent;\n",
              "    border-bottom-color: var(--fill-color);\n",
              "    animation:\n",
              "      spin 1s steps(1) infinite;\n",
              "  }\n",
              "\n",
              "  @keyframes spin {\n",
              "    0% {\n",
              "      border-color: transparent;\n",
              "      border-bottom-color: var(--fill-color);\n",
              "      border-left-color: var(--fill-color);\n",
              "    }\n",
              "    20% {\n",
              "      border-color: transparent;\n",
              "      border-left-color: var(--fill-color);\n",
              "      border-top-color: var(--fill-color);\n",
              "    }\n",
              "    30% {\n",
              "      border-color: transparent;\n",
              "      border-left-color: var(--fill-color);\n",
              "      border-top-color: var(--fill-color);\n",
              "      border-right-color: var(--fill-color);\n",
              "    }\n",
              "    40% {\n",
              "      border-color: transparent;\n",
              "      border-right-color: var(--fill-color);\n",
              "      border-top-color: var(--fill-color);\n",
              "    }\n",
              "    60% {\n",
              "      border-color: transparent;\n",
              "      border-right-color: var(--fill-color);\n",
              "    }\n",
              "    80% {\n",
              "      border-color: transparent;\n",
              "      border-right-color: var(--fill-color);\n",
              "      border-bottom-color: var(--fill-color);\n",
              "    }\n",
              "    90% {\n",
              "      border-color: transparent;\n",
              "      border-bottom-color: var(--fill-color);\n",
              "    }\n",
              "  }\n",
              "</style>\n",
              "\n",
              "  <script>\n",
              "    async function quickchart(key) {\n",
              "      const quickchartButtonEl =\n",
              "        document.querySelector('#' + key + ' button');\n",
              "      quickchartButtonEl.disabled = true;  // To prevent multiple clicks.\n",
              "      quickchartButtonEl.classList.add('colab-df-spinner');\n",
              "      try {\n",
              "        const charts = await google.colab.kernel.invokeFunction(\n",
              "            'suggestCharts', [key], {});\n",
              "      } catch (error) {\n",
              "        console.error('Error during call to suggestCharts:', error);\n",
              "      }\n",
              "      quickchartButtonEl.classList.remove('colab-df-spinner');\n",
              "      quickchartButtonEl.classList.add('colab-df-quickchart-complete');\n",
              "    }\n",
              "    (() => {\n",
              "      let quickchartButtonEl =\n",
              "        document.querySelector('#df-78085bdc-e0fb-476e-8483-dc58310603c5 button');\n",
              "      quickchartButtonEl.style.display =\n",
              "        google.colab.kernel.accessAllowed ? 'block' : 'none';\n",
              "    })();\n",
              "  </script>\n",
              "</div>\n",
              "\n",
              "  <div id=\"id_c46e3a94-cf0d-4678-8ad4-e929a1ecd67a\">\n",
              "    <style>\n",
              "      .colab-df-generate {\n",
              "        background-color: #E8F0FE;\n",
              "        border: none;\n",
              "        border-radius: 50%;\n",
              "        cursor: pointer;\n",
              "        display: none;\n",
              "        fill: #1967D2;\n",
              "        height: 32px;\n",
              "        padding: 0 0 0 0;\n",
              "        width: 32px;\n",
              "      }\n",
              "\n",
              "      .colab-df-generate:hover {\n",
              "        background-color: #E2EBFA;\n",
              "        box-shadow: 0px 1px 2px rgba(60, 64, 67, 0.3), 0px 1px 3px 1px rgba(60, 64, 67, 0.15);\n",
              "        fill: #174EA6;\n",
              "      }\n",
              "\n",
              "      [theme=dark] .colab-df-generate {\n",
              "        background-color: #3B4455;\n",
              "        fill: #D2E3FC;\n",
              "      }\n",
              "\n",
              "      [theme=dark] .colab-df-generate:hover {\n",
              "        background-color: #434B5C;\n",
              "        box-shadow: 0px 1px 3px 1px rgba(0, 0, 0, 0.15);\n",
              "        filter: drop-shadow(0px 1px 2px rgba(0, 0, 0, 0.3));\n",
              "        fill: #FFFFFF;\n",
              "      }\n",
              "    </style>\n",
              "    <button class=\"colab-df-generate\" onclick=\"generateWithVariable('all_results')\"\n",
              "            title=\"Generate code using this dataframe.\"\n",
              "            style=\"display:none;\">\n",
              "\n",
              "  <svg xmlns=\"http://www.w3.org/2000/svg\" height=\"24px\"viewBox=\"0 0 24 24\"\n",
              "       width=\"24px\">\n",
              "    <path d=\"M7,19H8.4L18.45,9,17,7.55,7,17.6ZM5,21V16.75L18.45,3.32a2,2,0,0,1,2.83,0l1.4,1.43a1.91,1.91,0,0,1,.58,1.4,1.91,1.91,0,0,1-.58,1.4L9.25,21ZM18.45,9,17,7.55Zm-12,3A5.31,5.31,0,0,0,4.9,8.1,5.31,5.31,0,0,0,1,6.5,5.31,5.31,0,0,0,4.9,4.9,5.31,5.31,0,0,0,6.5,1,5.31,5.31,0,0,0,8.1,4.9,5.31,5.31,0,0,0,12,6.5,5.46,5.46,0,0,0,6.5,12Z\"/>\n",
              "  </svg>\n",
              "    </button>\n",
              "    <script>\n",
              "      (() => {\n",
              "      const buttonEl =\n",
              "        document.querySelector('#id_c46e3a94-cf0d-4678-8ad4-e929a1ecd67a button.colab-df-generate');\n",
              "      buttonEl.style.display =\n",
              "        google.colab.kernel.accessAllowed ? 'block' : 'none';\n",
              "\n",
              "      buttonEl.onclick = () => {\n",
              "        google.colab.notebook.generateWithVariable('all_results');\n",
              "      }\n",
              "      })();\n",
              "    </script>\n",
              "  </div>\n",
              "\n",
              "    </div>\n",
              "  </div>\n"
            ],
            "application/vnd.google.colaboratory.intrinsic+json": {
              "type": "dataframe",
              "variable_name": "all_results",
              "summary": "{\n  \"name\": \"all_results\",\n  \"rows\": 2,\n  \"fields\": [\n    {\n      \"column\": \"loss\",\n      \"properties\": {\n        \"dtype\": \"number\",\n        \"std\": 1.4559713111785364,\n        \"min\": 6.234172821044922,\n        \"max\": 8.293227195739746,\n        \"num_unique_values\": 2,\n        \"samples\": [\n          6.234172821044922,\n          8.293227195739746\n        ],\n        \"semantic_type\": \"\",\n        \"description\": \"\"\n      }\n    },\n    {\n      \"column\": \"mse\",\n      \"properties\": {\n        \"dtype\": \"number\",\n        \"std\": 1.4559713111785364,\n        \"min\": 6.234172821044922,\n        \"max\": 8.293227195739746,\n        \"num_unique_values\": 2,\n        \"samples\": [\n          6.234172821044922,\n          8.293227195739746\n        ],\n        \"semantic_type\": \"\",\n        \"description\": \"\"\n      }\n    },\n    {\n      \"column\": \"mae\",\n      \"properties\": {\n        \"dtype\": \"number\",\n        \"std\": 0.1406213584763545,\n        \"min\": 1.8025315999984741,\n        \"max\": 2.0014002323150635,\n        \"num_unique_values\": 2,\n        \"samples\": [\n          1.8025315999984741,\n          2.0014002323150635\n        ],\n        \"semantic_type\": \"\",\n        \"description\": \"\"\n      }\n    },\n    {\n      \"column\": \"mape_train\",\n      \"properties\": {\n        \"dtype\": \"number\",\n        \"std\": 0.01490596877856704,\n        \"min\": 0.047883195635895305,\n        \"max\": 0.06896341884285473,\n        \"num_unique_values\": 2,\n        \"samples\": [\n          0.06896341884285473,\n          0.047883195635895305\n        ],\n        \"semantic_type\": \"\",\n        \"description\": \"\"\n      }\n    },\n    {\n      \"column\": \"mape_test\",\n      \"properties\": {\n        \"dtype\": \"number\",\n        \"std\": 0.00460668500054955,\n        \"min\": 0.08231690125889271,\n        \"max\": 0.08883173766425059,\n        \"num_unique_values\": 2,\n        \"samples\": [\n          0.08231690125889271,\n          0.08883173766425059\n        ],\n        \"semantic_type\": \"\",\n        \"description\": \"\"\n      }\n    },\n    {\n      \"column\": \"r2-train\",\n      \"properties\": {\n        \"dtype\": \"number\",\n        \"std\": 0.011196759618043266,\n        \"min\": 0.9073099465631103,\n        \"max\": 0.9231445558695784,\n        \"num_unique_values\": 2,\n        \"samples\": [\n          0.9073099465631103,\n          0.9231445558695784\n        ],\n        \"semantic_type\": \"\",\n        \"description\": \"\"\n      }\n    },\n    {\n      \"column\": \"r2-test\",\n      \"properties\": {\n        \"dtype\": \"number\",\n        \"std\": 0.02867705604169683,\n        \"min\": 0.8366553259386297,\n        \"max\": 0.8772108075217306,\n        \"num_unique_values\": 2,\n        \"samples\": [\n          0.8772108075217306,\n          0.8366553259386297\n        ],\n        \"semantic_type\": \"\",\n        \"description\": \"\"\n      }\n    },\n    {\n      \"column\": \"model_name\",\n      \"properties\": {\n        \"dtype\": \"string\",\n        \"num_unique_values\": 2,\n        \"samples\": [\n          \"dnn_early_stop_10\",\n          \"dnn_baseline\"\n        ],\n        \"semantic_type\": \"\",\n        \"description\": \"\"\n      }\n    }\n  ]\n}"
            }
          },
          "metadata": {},
          "execution_count": 40
        }
      ]
    },
    {
      "cell_type": "markdown",
      "source": [
        "We can notice from the above plots that the training have stopped around 250 epochs. This is a huge optimization in the run time comparing to initial value of epochs (1000). From the comparision table, we can also notice an improvement in the performances of the model using the early stopping technique according to the different metrics computed on the testing data. The model dnn_early_stop_10 has also an improved generalization compared to the baseline. Both his training and testing losses are more balanced, and the R² score is higher on the testing set (0.877) than the baseline (0.836). This indicates that early stopping with a patience of 10 helped reduce overfitting and improve the overall performances. However, different patience values yield different performances, indicating the importance of tuning the patience parameter. In the next section, we will examine higher values of the 'patience' parameter and compare the new models."
      ],
      "metadata": {
        "id": "XSQglDT5BIYq"
      }
    },
    {
      "cell_type": "markdown",
      "source": [
        "### 4.3 Varying the 'patience' values and comparing the models"
      ],
      "metadata": {
        "id": "Yh_aC6GpYSEj"
      }
    },
    {
      "cell_type": "markdown",
      "source": [
        "Now, we will experiment higher values of the 'patience' parameter for the early stopping and compare the performances of the different models. Some variability in metrics values across executions can be observed. This is normal due to the stochastic nature of neural network training, even when setting a random seed value. So, to overcome this variability, we will repeat each experiment with a  several times which correspond to the number of 'executions' passed as a parameter to the the above function. We will also split the data into K-folds to be able to conduct cross-validation.\n",
        "\n",
        "The below function takes as input data X and Y, converted to numpy arrays to ensures compatibility with the KFold splitting. Then, the KFold function is used to split the data into training and validation sets. The indices generated by KFold are used to index the numpy arrays X and Y. For each fold and each execution, the model is built, compiled, and trained with early stopping. The model is evaluated on the validation set, and performance metrics are calculated and stored. Finally, the results from all folds and executions are averaged to provide a robust estimate of model performance."
      ],
      "metadata": {
        "id": "iM660TrQZOhG"
      }
    },
    {
      "cell_type": "code",
      "source": [
        "def evaluate_model_with_early_stopping_cv(normalizer, patience, X, Y, n_splits=3, epochs=1000, executions=3):\n",
        "    #Splitting the train data into train and validation data in randomized way\n",
        "    kfold = KFold(n_splits=n_splits, shuffle=True, random_state=42)\n",
        "    results = []\n",
        "\n",
        "    for train_index, val_index in kfold.split(X):\n",
        "        print(len(train_index), len(val_index))\n",
        "        X_train, X_val = X[train_index], X[val_index]\n",
        "        Y_train, Y_val = Y[train_index], Y[val_index]\n",
        "\n",
        "        for _ in range(executions):\n",
        "            model_es = build_Compile_Model(normalizer)\n",
        "            early_stop = tf.keras.callbacks.EarlyStopping(monitor=\"val_loss\", patience=patience, restore_best_weights=True)\n",
        "\n",
        "            history = model_es.fit(X_train, Y_train, epochs=epochs, validation_data=(X_val, Y_val), verbose=2, callbacks=[early_stop])\n",
        "\n",
        "            y_pred_val = model_es.predict(X_val)\n",
        "            y_pred_train = model_es.predict(X_train)\n",
        "\n",
        "            loss, mse, mae = model_es.evaluate(X_val, Y_val, verbose=0)\n",
        "            mape_val = mean_absolute_percentage_error(Y_val, y_pred_val)\n",
        "            mape_train = mean_absolute_percentage_error(Y_train, y_pred_train)\n",
        "            r2_val = r2_score(Y_val, y_pred_val)\n",
        "            r2_train = r2_score(Y_train, y_pred_train)\n",
        "\n",
        "            results.append((loss, mse, mae, mape_train, mape_val, r2_train, r2_val))\n",
        "\n",
        "            # Print the number of epochs run before early stopping\n",
        "            epochs_run = len(history.history['loss'])\n",
        "            print(f'Patience: {patience}, Execution: {_ + 1}, Fold: {kfold.get_n_splits()}, Epochs run: {epochs_run}')\n",
        "\n",
        "    return np.mean(results, axis=0)"
      ],
      "metadata": {
        "id": "xAHBqcHsN13V"
      },
      "execution_count": null,
      "outputs": []
    },
    {
      "cell_type": "code",
      "source": [
        "X.shape, Y.shape"
      ],
      "metadata": {
        "colab": {
          "base_uri": "https://localhost:8080/"
        },
        "id": "V2YALHMunj5c",
        "outputId": "64fec17e-75da-48ce-e186-e2de0a69bb23"
      },
      "execution_count": null,
      "outputs": [
        {
          "output_type": "execute_result",
          "data": {
            "text/plain": [
              "((392, 9), (392,))"
            ]
          },
          "metadata": {},
          "execution_count": 42
        }
      ]
    },
    {
      "cell_type": "code",
      "source": [
        "# Create and adapt the normalizer using the full dataset\n",
        "normalizer = create_normalizer(X_train)\n",
        "\n",
        "# Ensure your input data (X, Y) are numpy arrays\n",
        "# If they are pandas DataFrames, convert them to numpy arrays\n",
        "X_tr = X_train.values if isinstance(X_train, pd.DataFrame) else X_train\n",
        "Y_tr = Y_train.values if isinstance(Y_train, pd.Series) else Y_train\n",
        "\n",
        "# Call the cross-validation function\n",
        "evals_10 = evaluate_model_with_early_stopping_cv(normalizer, 10, X_tr, Y_tr)\n",
        "evals_30 = evaluate_model_with_early_stopping_cv(normalizer, 30, X_tr, Y_tr)\n",
        "evals_50 = evaluate_model_with_early_stopping_cv(normalizer, 50, X_tr, Y_tr)"
      ],
      "metadata": {
        "id": "yN4S27svmPjQ"
      },
      "execution_count": null,
      "outputs": []
    },
    {
      "cell_type": "code",
      "source": [
        "results_df = pd.DataFrame({\n",
        "    'model_name': ['dnn_10', 'dnn_30', 'dnn_50'],\n",
        "    'loss': [evals_10[0], evals_30[0], evals_50[0]],\n",
        "    'mse': [evals_10[1], evals_30[1], evals_50[1]],\n",
        "    'mae': [evals_10[2], evals_30[2], evals_50[2]],\n",
        "    'mape_train': [evals_10[3], evals_30[3], evals_50[3]],\n",
        "    'mape_test': [evals_10[4], evals_30[4], evals_50[4]],\n",
        "    'r2-train': [evals_10[5], evals_30[5], evals_50[5]],\n",
        "    'r2-test': [evals_10[6], evals_30[6], evals_50[6]]\n",
        "})\n",
        "\n",
        "results_df"
      ],
      "metadata": {
        "colab": {
          "base_uri": "https://localhost:8080/",
          "height": 143
        },
        "id": "0RdFF15KOGEW",
        "outputId": "8f7d355c-75ff-4a1b-e660-d8e213299101"
      },
      "execution_count": null,
      "outputs": [
        {
          "output_type": "execute_result",
          "data": {
            "text/plain": [
              "  model_name      loss       mse       mae  mape_train  mape_test  r2-train  \\\n",
              "0     dnn_10  8.034317  8.034317  2.007684    0.074820   0.086074  0.902282   \n",
              "1     dnn_30  7.693518  7.693518  1.992592    0.066826   0.086014  0.915932   \n",
              "2     dnn_50  7.276938  7.276938  1.927630    0.063612   0.083346  0.923144   \n",
              "\n",
              "    r2-test  \n",
              "0  0.872267  \n",
              "1  0.877224  \n",
              "2  0.883832  "
            ],
            "text/html": [
              "\n",
              "  <div id=\"df-cbde7d10-b4b9-43a7-842f-4bb644adba12\" class=\"colab-df-container\">\n",
              "    <div>\n",
              "<style scoped>\n",
              "    .dataframe tbody tr th:only-of-type {\n",
              "        vertical-align: middle;\n",
              "    }\n",
              "\n",
              "    .dataframe tbody tr th {\n",
              "        vertical-align: top;\n",
              "    }\n",
              "\n",
              "    .dataframe thead th {\n",
              "        text-align: right;\n",
              "    }\n",
              "</style>\n",
              "<table border=\"1\" class=\"dataframe\">\n",
              "  <thead>\n",
              "    <tr style=\"text-align: right;\">\n",
              "      <th></th>\n",
              "      <th>model_name</th>\n",
              "      <th>loss</th>\n",
              "      <th>mse</th>\n",
              "      <th>mae</th>\n",
              "      <th>mape_train</th>\n",
              "      <th>mape_test</th>\n",
              "      <th>r2-train</th>\n",
              "      <th>r2-test</th>\n",
              "    </tr>\n",
              "  </thead>\n",
              "  <tbody>\n",
              "    <tr>\n",
              "      <th>0</th>\n",
              "      <td>dnn_10</td>\n",
              "      <td>8.034317</td>\n",
              "      <td>8.034317</td>\n",
              "      <td>2.007684</td>\n",
              "      <td>0.074820</td>\n",
              "      <td>0.086074</td>\n",
              "      <td>0.902282</td>\n",
              "      <td>0.872267</td>\n",
              "    </tr>\n",
              "    <tr>\n",
              "      <th>1</th>\n",
              "      <td>dnn_30</td>\n",
              "      <td>7.693518</td>\n",
              "      <td>7.693518</td>\n",
              "      <td>1.992592</td>\n",
              "      <td>0.066826</td>\n",
              "      <td>0.086014</td>\n",
              "      <td>0.915932</td>\n",
              "      <td>0.877224</td>\n",
              "    </tr>\n",
              "    <tr>\n",
              "      <th>2</th>\n",
              "      <td>dnn_50</td>\n",
              "      <td>7.276938</td>\n",
              "      <td>7.276938</td>\n",
              "      <td>1.927630</td>\n",
              "      <td>0.063612</td>\n",
              "      <td>0.083346</td>\n",
              "      <td>0.923144</td>\n",
              "      <td>0.883832</td>\n",
              "    </tr>\n",
              "  </tbody>\n",
              "</table>\n",
              "</div>\n",
              "    <div class=\"colab-df-buttons\">\n",
              "\n",
              "  <div class=\"colab-df-container\">\n",
              "    <button class=\"colab-df-convert\" onclick=\"convertToInteractive('df-cbde7d10-b4b9-43a7-842f-4bb644adba12')\"\n",
              "            title=\"Convert this dataframe to an interactive table.\"\n",
              "            style=\"display:none;\">\n",
              "\n",
              "  <svg xmlns=\"http://www.w3.org/2000/svg\" height=\"24px\" viewBox=\"0 -960 960 960\">\n",
              "    <path d=\"M120-120v-720h720v720H120Zm60-500h600v-160H180v160Zm220 220h160v-160H400v160Zm0 220h160v-160H400v160ZM180-400h160v-160H180v160Zm440 0h160v-160H620v160ZM180-180h160v-160H180v160Zm440 0h160v-160H620v160Z\"/>\n",
              "  </svg>\n",
              "    </button>\n",
              "\n",
              "  <style>\n",
              "    .colab-df-container {\n",
              "      display:flex;\n",
              "      gap: 12px;\n",
              "    }\n",
              "\n",
              "    .colab-df-convert {\n",
              "      background-color: #E8F0FE;\n",
              "      border: none;\n",
              "      border-radius: 50%;\n",
              "      cursor: pointer;\n",
              "      display: none;\n",
              "      fill: #1967D2;\n",
              "      height: 32px;\n",
              "      padding: 0 0 0 0;\n",
              "      width: 32px;\n",
              "    }\n",
              "\n",
              "    .colab-df-convert:hover {\n",
              "      background-color: #E2EBFA;\n",
              "      box-shadow: 0px 1px 2px rgba(60, 64, 67, 0.3), 0px 1px 3px 1px rgba(60, 64, 67, 0.15);\n",
              "      fill: #174EA6;\n",
              "    }\n",
              "\n",
              "    .colab-df-buttons div {\n",
              "      margin-bottom: 4px;\n",
              "    }\n",
              "\n",
              "    [theme=dark] .colab-df-convert {\n",
              "      background-color: #3B4455;\n",
              "      fill: #D2E3FC;\n",
              "    }\n",
              "\n",
              "    [theme=dark] .colab-df-convert:hover {\n",
              "      background-color: #434B5C;\n",
              "      box-shadow: 0px 1px 3px 1px rgba(0, 0, 0, 0.15);\n",
              "      filter: drop-shadow(0px 1px 2px rgba(0, 0, 0, 0.3));\n",
              "      fill: #FFFFFF;\n",
              "    }\n",
              "  </style>\n",
              "\n",
              "    <script>\n",
              "      const buttonEl =\n",
              "        document.querySelector('#df-cbde7d10-b4b9-43a7-842f-4bb644adba12 button.colab-df-convert');\n",
              "      buttonEl.style.display =\n",
              "        google.colab.kernel.accessAllowed ? 'block' : 'none';\n",
              "\n",
              "      async function convertToInteractive(key) {\n",
              "        const element = document.querySelector('#df-cbde7d10-b4b9-43a7-842f-4bb644adba12');\n",
              "        const dataTable =\n",
              "          await google.colab.kernel.invokeFunction('convertToInteractive',\n",
              "                                                    [key], {});\n",
              "        if (!dataTable) return;\n",
              "\n",
              "        const docLinkHtml = 'Like what you see? Visit the ' +\n",
              "          '<a target=\"_blank\" href=https://colab.research.google.com/notebooks/data_table.ipynb>data table notebook</a>'\n",
              "          + ' to learn more about interactive tables.';\n",
              "        element.innerHTML = '';\n",
              "        dataTable['output_type'] = 'display_data';\n",
              "        await google.colab.output.renderOutput(dataTable, element);\n",
              "        const docLink = document.createElement('div');\n",
              "        docLink.innerHTML = docLinkHtml;\n",
              "        element.appendChild(docLink);\n",
              "      }\n",
              "    </script>\n",
              "  </div>\n",
              "\n",
              "\n",
              "<div id=\"df-450ed96a-8f0b-4983-a6d2-2fd8d0a96ef5\">\n",
              "  <button class=\"colab-df-quickchart\" onclick=\"quickchart('df-450ed96a-8f0b-4983-a6d2-2fd8d0a96ef5')\"\n",
              "            title=\"Suggest charts\"\n",
              "            style=\"display:none;\">\n",
              "\n",
              "<svg xmlns=\"http://www.w3.org/2000/svg\" height=\"24px\"viewBox=\"0 0 24 24\"\n",
              "     width=\"24px\">\n",
              "    <g>\n",
              "        <path d=\"M19 3H5c-1.1 0-2 .9-2 2v14c0 1.1.9 2 2 2h14c1.1 0 2-.9 2-2V5c0-1.1-.9-2-2-2zM9 17H7v-7h2v7zm4 0h-2V7h2v10zm4 0h-2v-4h2v4z\"/>\n",
              "    </g>\n",
              "</svg>\n",
              "  </button>\n",
              "\n",
              "<style>\n",
              "  .colab-df-quickchart {\n",
              "      --bg-color: #E8F0FE;\n",
              "      --fill-color: #1967D2;\n",
              "      --hover-bg-color: #E2EBFA;\n",
              "      --hover-fill-color: #174EA6;\n",
              "      --disabled-fill-color: #AAA;\n",
              "      --disabled-bg-color: #DDD;\n",
              "  }\n",
              "\n",
              "  [theme=dark] .colab-df-quickchart {\n",
              "      --bg-color: #3B4455;\n",
              "      --fill-color: #D2E3FC;\n",
              "      --hover-bg-color: #434B5C;\n",
              "      --hover-fill-color: #FFFFFF;\n",
              "      --disabled-bg-color: #3B4455;\n",
              "      --disabled-fill-color: #666;\n",
              "  }\n",
              "\n",
              "  .colab-df-quickchart {\n",
              "    background-color: var(--bg-color);\n",
              "    border: none;\n",
              "    border-radius: 50%;\n",
              "    cursor: pointer;\n",
              "    display: none;\n",
              "    fill: var(--fill-color);\n",
              "    height: 32px;\n",
              "    padding: 0;\n",
              "    width: 32px;\n",
              "  }\n",
              "\n",
              "  .colab-df-quickchart:hover {\n",
              "    background-color: var(--hover-bg-color);\n",
              "    box-shadow: 0 1px 2px rgba(60, 64, 67, 0.3), 0 1px 3px 1px rgba(60, 64, 67, 0.15);\n",
              "    fill: var(--button-hover-fill-color);\n",
              "  }\n",
              "\n",
              "  .colab-df-quickchart-complete:disabled,\n",
              "  .colab-df-quickchart-complete:disabled:hover {\n",
              "    background-color: var(--disabled-bg-color);\n",
              "    fill: var(--disabled-fill-color);\n",
              "    box-shadow: none;\n",
              "  }\n",
              "\n",
              "  .colab-df-spinner {\n",
              "    border: 2px solid var(--fill-color);\n",
              "    border-color: transparent;\n",
              "    border-bottom-color: var(--fill-color);\n",
              "    animation:\n",
              "      spin 1s steps(1) infinite;\n",
              "  }\n",
              "\n",
              "  @keyframes spin {\n",
              "    0% {\n",
              "      border-color: transparent;\n",
              "      border-bottom-color: var(--fill-color);\n",
              "      border-left-color: var(--fill-color);\n",
              "    }\n",
              "    20% {\n",
              "      border-color: transparent;\n",
              "      border-left-color: var(--fill-color);\n",
              "      border-top-color: var(--fill-color);\n",
              "    }\n",
              "    30% {\n",
              "      border-color: transparent;\n",
              "      border-left-color: var(--fill-color);\n",
              "      border-top-color: var(--fill-color);\n",
              "      border-right-color: var(--fill-color);\n",
              "    }\n",
              "    40% {\n",
              "      border-color: transparent;\n",
              "      border-right-color: var(--fill-color);\n",
              "      border-top-color: var(--fill-color);\n",
              "    }\n",
              "    60% {\n",
              "      border-color: transparent;\n",
              "      border-right-color: var(--fill-color);\n",
              "    }\n",
              "    80% {\n",
              "      border-color: transparent;\n",
              "      border-right-color: var(--fill-color);\n",
              "      border-bottom-color: var(--fill-color);\n",
              "    }\n",
              "    90% {\n",
              "      border-color: transparent;\n",
              "      border-bottom-color: var(--fill-color);\n",
              "    }\n",
              "  }\n",
              "</style>\n",
              "\n",
              "  <script>\n",
              "    async function quickchart(key) {\n",
              "      const quickchartButtonEl =\n",
              "        document.querySelector('#' + key + ' button');\n",
              "      quickchartButtonEl.disabled = true;  // To prevent multiple clicks.\n",
              "      quickchartButtonEl.classList.add('colab-df-spinner');\n",
              "      try {\n",
              "        const charts = await google.colab.kernel.invokeFunction(\n",
              "            'suggestCharts', [key], {});\n",
              "      } catch (error) {\n",
              "        console.error('Error during call to suggestCharts:', error);\n",
              "      }\n",
              "      quickchartButtonEl.classList.remove('colab-df-spinner');\n",
              "      quickchartButtonEl.classList.add('colab-df-quickchart-complete');\n",
              "    }\n",
              "    (() => {\n",
              "      let quickchartButtonEl =\n",
              "        document.querySelector('#df-450ed96a-8f0b-4983-a6d2-2fd8d0a96ef5 button');\n",
              "      quickchartButtonEl.style.display =\n",
              "        google.colab.kernel.accessAllowed ? 'block' : 'none';\n",
              "    })();\n",
              "  </script>\n",
              "</div>\n",
              "\n",
              "  <div id=\"id_9ae4d1a8-5082-4f13-9205-ca173883e7c4\">\n",
              "    <style>\n",
              "      .colab-df-generate {\n",
              "        background-color: #E8F0FE;\n",
              "        border: none;\n",
              "        border-radius: 50%;\n",
              "        cursor: pointer;\n",
              "        display: none;\n",
              "        fill: #1967D2;\n",
              "        height: 32px;\n",
              "        padding: 0 0 0 0;\n",
              "        width: 32px;\n",
              "      }\n",
              "\n",
              "      .colab-df-generate:hover {\n",
              "        background-color: #E2EBFA;\n",
              "        box-shadow: 0px 1px 2px rgba(60, 64, 67, 0.3), 0px 1px 3px 1px rgba(60, 64, 67, 0.15);\n",
              "        fill: #174EA6;\n",
              "      }\n",
              "\n",
              "      [theme=dark] .colab-df-generate {\n",
              "        background-color: #3B4455;\n",
              "        fill: #D2E3FC;\n",
              "      }\n",
              "\n",
              "      [theme=dark] .colab-df-generate:hover {\n",
              "        background-color: #434B5C;\n",
              "        box-shadow: 0px 1px 3px 1px rgba(0, 0, 0, 0.15);\n",
              "        filter: drop-shadow(0px 1px 2px rgba(0, 0, 0, 0.3));\n",
              "        fill: #FFFFFF;\n",
              "      }\n",
              "    </style>\n",
              "    <button class=\"colab-df-generate\" onclick=\"generateWithVariable('results_df')\"\n",
              "            title=\"Generate code using this dataframe.\"\n",
              "            style=\"display:none;\">\n",
              "\n",
              "  <svg xmlns=\"http://www.w3.org/2000/svg\" height=\"24px\"viewBox=\"0 0 24 24\"\n",
              "       width=\"24px\">\n",
              "    <path d=\"M7,19H8.4L18.45,9,17,7.55,7,17.6ZM5,21V16.75L18.45,3.32a2,2,0,0,1,2.83,0l1.4,1.43a1.91,1.91,0,0,1,.58,1.4,1.91,1.91,0,0,1-.58,1.4L9.25,21ZM18.45,9,17,7.55Zm-12,3A5.31,5.31,0,0,0,4.9,8.1,5.31,5.31,0,0,0,1,6.5,5.31,5.31,0,0,0,4.9,4.9,5.31,5.31,0,0,0,6.5,1,5.31,5.31,0,0,0,8.1,4.9,5.31,5.31,0,0,0,12,6.5,5.46,5.46,0,0,0,6.5,12Z\"/>\n",
              "  </svg>\n",
              "    </button>\n",
              "    <script>\n",
              "      (() => {\n",
              "      const buttonEl =\n",
              "        document.querySelector('#id_9ae4d1a8-5082-4f13-9205-ca173883e7c4 button.colab-df-generate');\n",
              "      buttonEl.style.display =\n",
              "        google.colab.kernel.accessAllowed ? 'block' : 'none';\n",
              "\n",
              "      buttonEl.onclick = () => {\n",
              "        google.colab.notebook.generateWithVariable('results_df');\n",
              "      }\n",
              "      })();\n",
              "    </script>\n",
              "  </div>\n",
              "\n",
              "    </div>\n",
              "  </div>\n"
            ],
            "application/vnd.google.colaboratory.intrinsic+json": {
              "type": "dataframe",
              "variable_name": "results_df",
              "summary": "{\n  \"name\": \"results_df\",\n  \"rows\": 3,\n  \"fields\": [\n    {\n      \"column\": \"model_name\",\n      \"properties\": {\n        \"dtype\": \"string\",\n        \"num_unique_values\": 3,\n        \"samples\": [\n          \"dnn_10\",\n          \"dnn_30\",\n          \"dnn_50\"\n        ],\n        \"semantic_type\": \"\",\n        \"description\": \"\"\n      }\n    },\n    {\n      \"column\": \"loss\",\n      \"properties\": {\n        \"dtype\": \"number\",\n        \"std\": 0.3793206216250799,\n        \"min\": 7.2769383854336205,\n        \"max\": 8.034316963619656,\n        \"num_unique_values\": 3,\n        \"samples\": [\n          8.034316963619656,\n          7.693517896864149,\n          7.2769383854336205\n        ],\n        \"semantic_type\": \"\",\n        \"description\": \"\"\n      }\n    },\n    {\n      \"column\": \"mse\",\n      \"properties\": {\n        \"dtype\": \"number\",\n        \"std\": 0.3793206216250799,\n        \"min\": 7.2769383854336205,\n        \"max\": 8.034316963619656,\n        \"num_unique_values\": 3,\n        \"samples\": [\n          8.034316963619656,\n          7.693517896864149,\n          7.2769383854336205\n        ],\n        \"semantic_type\": \"\",\n        \"description\": \"\"\n      }\n    },\n    {\n      \"column\": \"mae\",\n      \"properties\": {\n        \"dtype\": \"number\",\n        \"std\": 0.042537171338849815,\n        \"min\": 1.9276296959982977,\n        \"max\": 2.007683608267042,\n        \"num_unique_values\": 3,\n        \"samples\": [\n          2.007683608267042,\n          1.9925917916827731,\n          1.9276296959982977\n        ],\n        \"semantic_type\": \"\",\n        \"description\": \"\"\n      }\n    },\n    {\n      \"column\": \"mape_train\",\n      \"properties\": {\n        \"dtype\": \"number\",\n        \"std\": 0.005770977167863007,\n        \"min\": 0.06361223958690251,\n        \"max\": 0.07481953805046984,\n        \"num_unique_values\": 3,\n        \"samples\": [\n          0.07481953805046984,\n          0.06682635365941786,\n          0.06361223958690251\n        ],\n        \"semantic_type\": \"\",\n        \"description\": \"\"\n      }\n    },\n    {\n      \"column\": \"mape_test\",\n      \"properties\": {\n        \"dtype\": \"number\",\n        \"std\": 0.0015581973701053872,\n        \"min\": 0.08334550930077922,\n        \"max\": 0.08607381137887918,\n        \"num_unique_values\": 3,\n        \"samples\": [\n          0.08607381137887918,\n          0.086013965887079,\n          0.08334550930077922\n        ],\n        \"semantic_type\": \"\",\n        \"description\": \"\"\n      }\n    },\n    {\n      \"column\": \"r2-train\",\n      \"properties\": {\n        \"dtype\": \"number\",\n        \"std\": 0.0105953602054537,\n        \"min\": 0.9022818683172389,\n        \"max\": 0.9231440335456279,\n        \"num_unique_values\": 3,\n        \"samples\": [\n          0.9022818683172389,\n          0.9159320377798242,\n          0.9231440335456279\n        ],\n        \"semantic_type\": \"\",\n        \"description\": \"\"\n      }\n    },\n    {\n      \"column\": \"r2-test\",\n      \"properties\": {\n        \"dtype\": \"number\",\n        \"std\": 0.005802035206068848,\n        \"min\": 0.8722667518130042,\n        \"max\": 0.8838316100555592,\n        \"num_unique_values\": 3,\n        \"samples\": [\n          0.8722667518130042,\n          0.8772237247152173,\n          0.8838316100555592\n        ],\n        \"semantic_type\": \"\",\n        \"description\": \"\"\n      }\n    }\n  ]\n}"
            }
          },
          "metadata": {},
          "execution_count": 44
        }
      ]
    },
    {
      "cell_type": "code",
      "source": [
        "fig, ax= plt.subplots(1,3, figsize=(12,5))\n",
        "\n",
        "#Plotting the R-2 performances for each model and scaling method\n",
        "#Sorting the data according R2 on testing data\n",
        "results_df.sort_values(['r2-test'], ascending=False, inplace=True)\n",
        "bar=sns.barplot(data=results_df, x='model_name', y='r2-test', palette='Set2', ax=ax[0] )\n",
        "ax[0].set_xlabel(\"Patience value\")\n",
        "ax[0].set_title(\"Models' Performances Based on R-Squarred (R2)\")\n",
        "for container in bar.containers:\n",
        "  values = container.datavalues\n",
        "  labels = [\"{:.3f}\".format(val) for val in values]\n",
        "  bar.bar_label(container, labels=labels)\n",
        "\n",
        "results_df.sort_values(['mape_test'], ascending=True, inplace=True)\n",
        "bar=sns.barplot(data=results_df, x='model_name', y='mape_test', palette='Set2', ax=ax[1] )\n",
        "ax[1].set_xlabel(\"Patience value\")\n",
        "ax[1].set_title(\"Models' Performances Based on MAPE\")\n",
        "for container in bar.containers:\n",
        "  values = container.datavalues\n",
        "  labels = [\"{:.3f}\".format(val) for val in values]\n",
        "  bar.bar_label(container, labels=labels)\n",
        "\n",
        "results_df.sort_values(['mse'], ascending=True, inplace=True)\n",
        "bar=sns.barplot(data=results_df, x='model_name', y='mse', palette='Set2', ax=ax[2] )\n",
        "ax[2].set_xlabel(\"Patience value\")\n",
        "ax[2].set_title(\"Models' Performances Based on MSE\")\n",
        "for container in bar.containers:\n",
        "  values = container.datavalues\n",
        "  labels = [\"{:.3f}\".format(val) for val in values]\n",
        "  bar.bar_label(container, labels=labels)\n",
        "\n",
        "plt.tight_layout()  # Adjust layout to prevent overlap\n",
        "plt.show()"
      ],
      "metadata": {
        "colab": {
          "base_uri": "https://localhost:8080/",
          "height": 507
        },
        "id": "_OIt6fDPSPNG",
        "outputId": "cca216cf-5ccd-4b13-d52c-c703eddb13a2"
      },
      "execution_count": null,
      "outputs": [
        {
          "output_type": "display_data",
          "data": {
            "text/plain": [
              "<Figure size 1200x500 with 3 Axes>"
            ],
            "image/png": "[encoded data removed]"
          },
          "metadata": {}
        }
      ]
    },
    {
      "cell_type": "markdown",
      "source": [
        "#### Comparison of Different Patience Values:\n",
        "\n",
        "From the previous table and plot, we can draw some conclusions :\n",
        "* **Improvement with Increased Patience**: As the patience value increases from 10 to 50, there is a consistent improvement in the model's performance metrics The loss, MSE, and MAE values decrease with higher patience values, indicating better model performance.\n",
        "* **MAPE and R² Scores**:\n",
        "  - The Mean Absolute Percentage Error (MAPE) for both train and test sets shows a slight decrease with increasing patience, suggesting more accurate predictions.\n",
        "  - The R² score, which indicates the proportion of the variance in the dependent variable that is predictable from the independent variables, improves for both the train and test sets with higher patience. This signifies better model fit.\n",
        "* **Optimal Patience Value**:\n",
        "   - The model with a patience of 50 demonstrates the best performance across all metrics. It has the lowest loss (7.277), MSE (7.277), and MAE (1.928), along with the highest R² scores (0.9231 for train and 0.8838 for test) and lowest MAPE (0.0636 for train and 0.0833 for test).\n",
        "   - Therefore, a patience value of 50 seems to be the most effective in this scenario, providing the best balance between training accuracy and generalization to the test data.\n",
        "\n",
        "\n",
        "Based on these results, we will be using a patience value of 50 for early stopping to conduct our future experiments and applications. In the next section, we will investigate further improvement of our model performances by tuning other hyperparameters of our model such as the learning rate using Keras Tuner and cross-validation."
      ],
      "metadata": {
        "id": "mfZ2nTsd9JmI"
      }
    },
    {
      "cell_type": "markdown",
      "source": [
        "# Task 5 : hyperparameters finetuning of DNN model\n",
        "\n",
        "- Conduct Hyperparameters tuning of our DNN models using [Keras Tuner](https://keras.io/keras_tuner/) and train the best model\n",
        "- Compare the best DNN model to our baseline and inspect overfitting\n",
        "- Compare the actual best DNN model to the best ML model that we have selected  following our previous experimentations.\n",
        "\n",
        "KerasTuner is an easy-to-use, scalable hyperparameter optimization framework that solves the pain points of hyperparameter search. KerasTuner comes with Bayesian Optimization, Hyperband, and Random Search algorithms built-in."
      ],
      "metadata": {
        "id": "nCdadjLq9NIr"
      }
    },
    {
      "cell_type": "markdown",
      "source": [
        "### 5.1 Searching for best hyperparamters values using Keras Tuner"
      ],
      "metadata": {
        "id": "2jBPPowwxl4J"
      }
    },
    {
      "cell_type": "code",
      "source": [
        "#Function accepting the Tuner parameter space\n",
        "def build_compile_hp_model(normalizer, hp):\n",
        "\n",
        "  model = tf.keras.Sequential()\n",
        "\n",
        "  #add the normalization layer\n",
        "  model.add(normalizer)\n",
        "\n",
        "  # Define hyperparameter search space for the model layers\n",
        "  for i in range(hp.Int('num_layers', 1, 3)):\n",
        "    # Tune the number of units in the first Dense layer\n",
        "    model.add(tf.keras.layers.Dense(units=hp.Int(f'units_{i}', min_value=32, max_value=256, step=32),activation='relu'))\n",
        "\n",
        "\n",
        "  #Add the final layer for linear transformation\n",
        "  model.add(tf.keras.layers.Dense(1, activation='linear'))\n",
        "\n",
        "  # Tune the learning rate for the optimizer\n",
        "  opt=tf.keras.optimizers.Adam(hp.Choice('learning_rate', [1e-1, 1e-2, 0.05, 1e-3]))\n",
        "\n",
        "  #compile the model\n",
        "  model.compile(optimizer=opt,loss='mse', metrics=['mse', 'mae'])\n",
        "  return model"
      ],
      "metadata": {
        "id": "hhmRWOub9GyX"
      },
      "execution_count": null,
      "outputs": []
    },
    {
      "cell_type": "code",
      "source": [
        "def tuning_model_early_stop_cv(X, Y, patience, epochs=1000, n_splits=5, max_trials=20, exec_per_trial=3) :\n",
        " # Ensure your input data (X, Y) are numpy arrays\n",
        " # If they are pandas DataFrames, convert them to numpy arrays\n",
        " X_tr = X.values if isinstance(X, pd.DataFrame) else X\n",
        " Y_tr = Y.values if isinstance(Y, pd.Series) else Y\n",
        "\n",
        " #Splitting the train data into train and validation data in randomized way\n",
        " kfold = KFold(n_splits=n_splits, shuffle=True, random_state=42)\n",
        " all_results = []\n",
        " all_epochs = []\n",
        "\n",
        " for train_index, val_index in kfold.split(X_tr):\n",
        "      X_train, X_val = X_tr[train_index], X_tr[val_index]\n",
        "      Y_train, Y_val = Y_tr[train_index], Y_tr[val_index]\n",
        "\n",
        "      # Create and adapt the normalizer for the current fold\n",
        "      normalizer = create_normalizer(X_train)\n",
        "\n",
        "      def build_model_with_normalizer(hp):\n",
        "          return build_compile_hp_model(normalizer, hp)\n",
        "\n",
        "      # Initializing Keras Tuner\n",
        "      tuner = kt.BayesianOptimization(\n",
        "            build_model_with_normalizer,\n",
        "            objective='val_loss',\n",
        "            max_trials=max_trials, # Max number of trials (combinaison)\n",
        "            executions_per_trial=exec_per_trial,\n",
        "            project_name='dnn_tuning_param_'\n",
        "      )\n",
        "\n",
        "      # Define the callback EarlyStopping\n",
        "      early_stop = tf.keras.callbacks.EarlyStopping(monitor='val_loss', patience=patience, restore_best_weights=True)\n",
        "\n",
        "      #start searching for the best parameters\n",
        "      tuner.search(X_train, Y_train, epochs=300, validation_data=(X_val, Y_val), callbacks=[early_stop])\n",
        "\n",
        "      #Get the best parameters for this fold\n",
        "      best_hps = tuner.get_best_hyperparameters(num_trials=1)[0]\n",
        "      model = tuner.hypermodel.build(best_hps)\n",
        "      history = model.fit(X_train, Y_train, epochs=epochs, validation_data=(X_val, Y_val), callbacks=[early_stop], verbose=0)\n",
        "\n",
        "      # Extract the number of epochs for the best trial\n",
        "      best_trial = tuner.oracle.get_best_trials(num_trials=1)[0]\n",
        "\n",
        "      y_pred_val = model.predict(X_val)\n",
        "      y_pred_train = model.predict(X_train)\n",
        "\n",
        "      loss, mse, mae = model.evaluate(X_val, Y_val, verbose=0)\n",
        "      mape_val = mean_absolute_percentage_error(Y_val, y_pred_val)\n",
        "      mape_train = mean_absolute_percentage_error(Y_train, y_pred_train)\n",
        "      r2_val = r2_score(Y_val, y_pred_val)\n",
        "      r2_train = r2_score(Y_train, y_pred_train)\n",
        "\n",
        "      # Print the number of epochs run before early stopping\n",
        "      epochs_run = len(history.history['loss'])\n",
        "      all_epochs.append(epochs_run)\n",
        "      print(f'Fold: {kfold.get_n_splits()}, Epochs run: {epochs_run}')\n",
        "\n",
        "      all_results.append((loss, mse, mae, mape_train, mape_val, r2_train, r2_val))\n",
        "\n",
        " avg_results = np.mean(all_results, axis=0)\n",
        " avg_epochs = int(np.mean(all_epochs))\n",
        " return avg_results, best_hps, avg_epochs"
      ],
      "metadata": {
        "id": "ce1DWS3up6Ew"
      },
      "execution_count": null,
      "outputs": []
    },
    {
      "cell_type": "code",
      "source": [
        "epochs=600\n",
        "patience=50\n",
        "avg_results, best_hps, avg_epochs=tuning_model_early_stop_cv(X_train, Y_train, patience, epochs)"
      ],
      "metadata": {
        "colab": {
          "base_uri": "https://localhost:8080/"
        },
        "id": "uU15O9mOzhat",
        "outputId": "fd2be342-928b-4520-9941-c6a9aea1af82"
      },
      "execution_count": null,
      "outputs": [
        {
          "output_type": "stream",
          "name": "stdout",
          "text": [
            "Trial 20 Complete [00h 00m 27s]\n",
            "val_loss: 8.767060279846191\n",
            "\n",
            "Best val_loss So Far: 8.767060279846191\n",
            "Total elapsed time: 00h 17m 48s\n",
            "2/2 [==============================] - 0s 6ms/step\n",
            "8/8 [==============================] - 0s 2ms/step\n",
            "Fold: 5, Epochs run: 97\n",
            "Reloading Tuner from ./dnn_tuning_param_/tuner0.json\n",
            "2/2 [==============================] - 0s 5ms/step\n",
            "8/8 [==============================] - 0s 2ms/step\n",
            "Fold: 5, Epochs run: 89\n",
            "Reloading Tuner from ./dnn_tuning_param_/tuner0.json\n",
            "2/2 [==============================] - 0s 5ms/step\n",
            "8/8 [==============================] - 0s 2ms/step\n",
            "Fold: 5, Epochs run: 67\n",
            "Reloading Tuner from ./dnn_tuning_param_/tuner0.json\n",
            "2/2 [==============================] - 0s 4ms/step\n",
            "8/8 [==============================] - 0s 2ms/step\n",
            "Fold: 5, Epochs run: 90\n",
            "Reloading Tuner from ./dnn_tuning_param_/tuner0.json\n",
            "2/2 [==============================] - 0s 5ms/step\n",
            "8/8 [==============================] - 0s 2ms/step\n",
            "Fold: 5, Epochs run: 110\n"
          ]
        }
      ]
    },
    {
      "cell_type": "code",
      "source": [
        "print(f\"Best learning rate : {best_hps.get('learning_rate')}\")\n",
        "print(f\"Best number of layers : {best_hps.get('num_layers')}\")\n",
        "for i in range(best_hps.get('num_layers')):\n",
        "  # Tune the number of units in the first Dense layer\n",
        "  print(f\"Best units for the layer number {i} : {best_hps.get(f'units_{i}')}\")\n",
        "\n",
        "print(\"Cross-validation results: \", avg_results)\n",
        "print(\"Average number of epochs: \", avg_epochs)"
      ],
      "metadata": {
        "colab": {
          "base_uri": "https://localhost:8080/"
        },
        "id": "-Fc77HGScI5Y",
        "outputId": "e4657953-8320-42a3-93b1-5eb134f62aa9"
      },
      "execution_count": null,
      "outputs": [
        {
          "output_type": "stream",
          "name": "stdout",
          "text": [
            "Best learning rate : 0.01\n",
            "Best number of layers : 3\n",
            "Best units for the layer number 0 : 96\n",
            "Best units for the layer number 1 : 256\n",
            "Best units for the layer number 2 : 96\n",
            "Cross-validated results:  [6.73415642 6.73415642 1.84932592 0.06267546 0.08047494 0.92738983\n",
            " 0.88846912]\n",
            "Average number of epochs:  105\n"
          ]
        }
      ]
    },
    {
      "cell_type": "markdown",
      "source": [
        "### 5.2 Building the model with the best parameters and evaluate it on the testing data"
      ],
      "metadata": {
        "id": "yIvRj6iGG-BC"
      }
    },
    {
      "cell_type": "code",
      "source": [
        "#initial splitting of data, test data haven't been used in the cross-validation.\n",
        "X_train.shape, X_test.shape"
      ],
      "metadata": {
        "colab": {
          "base_uri": "https://localhost:8080/"
        },
        "id": "hvwehmpDENFs",
        "outputId": "c5121086-00f0-4ce4-b9c6-eeb42cb299bd"
      },
      "execution_count": null,
      "outputs": [
        {
          "output_type": "execute_result",
          "data": {
            "text/plain": [
              "((313, 9), (79, 9))"
            ]
          },
          "metadata": {},
          "execution_count": 50
        }
      ]
    },
    {
      "cell_type": "code",
      "source": [
        "#Create the DNN model with best selected parameters\n",
        "#We need a validation set to be used for the early stopping.\n",
        "X_train_v, X_val, Y_train_v, Y_val= train_test_split(X_train, Y_train, shuffle=True, test_size=0.2, random_state=42)\n",
        "\n",
        "normalizer= create_normalizer(X_train_v)\n",
        "final_hp_model = build_compile_hp_model(normalizer, best_hps)\n",
        "final_hp_model.summary()"
      ],
      "metadata": {
        "id": "Lv8eNP_3NzNe",
        "colab": {
          "base_uri": "https://localhost:8080/"
        },
        "outputId": "bf5550c1-7b88-427e-c4c6-71fcbbcffab5"
      },
      "execution_count": null,
      "outputs": [
        {
          "output_type": "stream",
          "name": "stdout",
          "text": [
            "Model: \"sequential_6\"\n",
            "_________________________________________________________________\n",
            " Layer (type)                Output Shape              Param #   \n",
            "=================================================================\n",
            " normalization_4 (Normaliza  (None, 9)                 19        \n",
            " tion)                                                           \n",
            "                                                                 \n",
            " dense_24 (Dense)            (None, 96)                960       \n",
            "                                                                 \n",
            " dense_25 (Dense)            (None, 256)               24832     \n",
            "                                                                 \n",
            " dense_26 (Dense)            (None, 96)                24672     \n",
            "                                                                 \n",
            " dense_27 (Dense)            (None, 1)                 97        \n",
            "                                                                 \n",
            "=================================================================\n",
            "Total params: 50580 (197.58 KB)\n",
            "Trainable params: 50561 (197.50 KB)\n",
            "Non-trainable params: 19 (80.00 Byte)\n",
            "_________________________________________________________________\n"
          ]
        }
      ]
    },
    {
      "cell_type": "code",
      "source": [
        "# Define the callback EarlyStopping\n",
        "early_stop = tf.keras.callbacks.EarlyStopping(monitor='val_loss', patience=patience, restore_best_weights=True)\n",
        "#Fit the model to the training data\n",
        "history = final_hp_model.fit(X_train_v, Y_train_v, epochs=epochs, validation_data=(X_val, Y_val), callbacks=[early_stop], verbose=0)"
      ],
      "metadata": {
        "id": "MQIWPPFrrS2v"
      },
      "execution_count": null,
      "outputs": []
    },
    {
      "cell_type": "code",
      "source": [
        "#Evaluate the final model on the testing data\n",
        "model_hp = evaluate_model(final_hp_model, X_train_v, Y_train_v, X_test, Y_test)\n",
        "model_hp['model_name'] = 'dnn_hp'\n",
        "model_hp"
      ],
      "metadata": {
        "colab": {
          "base_uri": "https://localhost:8080/"
        },
        "id": "Rrh6EXniyUo4",
        "outputId": "c3fa2ce3-cfeb-4b88-8e56-50ee346162aa"
      },
      "execution_count": null,
      "outputs": [
        {
          "output_type": "stream",
          "name": "stdout",
          "text": [
            "8/8 [==============================] - 0s 2ms/step - loss: 4.2323 - mse: 4.2323 - mae: 1.4721\n",
            "3/3 [==============================] - 0s 4ms/step - loss: 6.9653 - mse: 6.9653 - mae: 2.0055\n",
            "3/3 [==============================] - 0s 3ms/step\n",
            "8/8 [==============================] - 0s 2ms/step\n"
          ]
        },
        {
          "output_type": "execute_result",
          "data": {
            "text/plain": [
              "{'loss': 6.965263366699219,\n",
              " 'mse': 6.965263366699219,\n",
              " 'mae': 2.005495548248291,\n",
              " 'mape_train': 0.06428714354650743,\n",
              " 'mape_test': 0.08952581065526793,\n",
              " 'r2-train': 0.9324078846674972,\n",
              " 'r2-test': 0.8628111159319911,\n",
              " 'model_name': 'dnn_hp'}"
            ]
          },
          "metadata": {},
          "execution_count": 53
        }
      ]
    },
    {
      "cell_type": "markdown",
      "source": [
        "### 5.3 Building DNN model with the best patience parameter and evaluate it on the test data"
      ],
      "metadata": {
        "id": "hLf6-nK7HVgZ"
      }
    },
    {
      "cell_type": "code",
      "source": [
        "model_es, history= build_model_early_stopping(normalizer, X_train_v, Y_train_v, X_val, Y_val, patience)\n",
        "model_es = evaluate_model(model_es, X_train_v, Y_train_v, X_test, Y_test)\n",
        "model_es['model_name'] = 'dnn_early_stop'\n",
        "model_es\n",
        "\n"
      ],
      "metadata": {
        "colab": {
          "base_uri": "https://localhost:8080/"
        },
        "id": "CEY12cE2HUdn",
        "outputId": "8163c2b1-8fea-42df-c414-7887193e28d3"
      },
      "execution_count": null,
      "outputs": [
        {
          "output_type": "stream",
          "name": "stdout",
          "text": [
            "\n",
            "....................................................................................................\n",
            "....................................................................................................\n",
            "8/8 [==============================] - 0s 2ms/step - loss: 4.4589 - mse: 4.4589 - mae: 1.3864\n",
            "3/3 [==============================] - 0s 4ms/step - loss: 6.7299 - mse: 6.7299 - mae: 1.8389\n",
            "3/3 [==============================] - 0s 3ms/step\n",
            "8/8 [==============================] - 0s 2ms/step\n"
          ]
        },
        {
          "output_type": "execute_result",
          "data": {
            "text/plain": [
              "{'loss': 6.729881763458252,\n",
              " 'mse': 6.729881763458252,\n",
              " 'mae': 1.838894248008728,\n",
              " 'mape_train': 0.06010559818323643,\n",
              " 'mape_test': 0.08253618645196235,\n",
              " 'r2-train': 0.9287887602341013,\n",
              " 'r2-test': 0.8674472165329055,\n",
              " 'model_name': 'dnn_early_stop'}"
            ]
          },
          "metadata": {},
          "execution_count": 54
        }
      ]
    },
    {
      "cell_type": "markdown",
      "source": [
        "### 5.4 Building Gradient Boost model with its best parameters and evaluate it on the test data"
      ],
      "metadata": {
        "id": "bxLGGOywHIsZ"
      }
    },
    {
      "cell_type": "code",
      "source": [
        "best_gb_params= {'learning_rate': 0.05,\n",
        " 'max_depth': 3,\n",
        " 'min_samples_leaf': 1,\n",
        " 'min_samples_split': 2,\n",
        " 'n_estimators': 300,\n",
        " 'subsample': 0.5}\n",
        "#Fit the model\n",
        "best_gb_model = GradientBoostingRegressor(**best_gb_params, random_state=42)\n",
        "\n",
        "pipeline = Pipeline( steps=[\n",
        "   ('scaler', StandardScaler()),\n",
        "    ('model' , best_gb_model)\n",
        "]\n",
        ")\n",
        "pipeline.fit(X_train_v, Y_train_v)\n",
        "\n",
        "#Get predictions\n",
        "y_pred_test = pipeline.predict(X_test)\n",
        "y_pred_train = pipeline.predict(X_train_v)\n",
        "\n",
        "#Compute the evaluation metrics\n",
        "train_mape = mean_absolute_percentage_error(Y_train_v, y_pred_train)\n",
        "test_mape = mean_absolute_percentage_error(Y_test, y_pred_test)\n",
        "test_r2= r2_score(Y_test, y_pred_test)\n",
        "train_r2= r2_score(Y_train_v, y_pred_train)\n",
        "mae= mean_absolute_error(Y_test, y_pred_test)\n",
        "mse= mean_squared_error(Y_test, y_pred_test)\n",
        "\n",
        "model_gb= {\n",
        "    'model_name': 'gradient_boost',\n",
        "    'loss': mse,\n",
        "    'mse': mse,\n",
        "    'mae': mae,\n",
        "    'mape_train':train_mape,\n",
        "    'mape_test': test_mape,\n",
        "    'r2-train': train_r2,\n",
        "    'r2-test': test_r2\n",
        "}\n",
        "model_gb"
      ],
      "metadata": {
        "colab": {
          "base_uri": "https://localhost:8080/"
        },
        "id": "6LFpjmmj2ohf",
        "outputId": "8a2d385c-23f4-4713-b292-ec17c76e483e"
      },
      "execution_count": null,
      "outputs": [
        {
          "output_type": "execute_result",
          "data": {
            "text/plain": [
              "{'model_name': 'gradient_boost',\n",
              " 'loss': 6.376240936330989,\n",
              " 'mse': 6.376240936330989,\n",
              " 'mae': 1.6886738237842958,\n",
              " 'mape_train': 0.036347241664538885,\n",
              " 'mape_test': 0.07661087335088482,\n",
              " 'r2-train': 0.9848507017126681,\n",
              " 'r2-test': 0.8744125720999134}"
            ]
          },
          "metadata": {},
          "execution_count": 55
        }
      ]
    },
    {
      "cell_type": "markdown",
      "source": [
        "# Task 6. Comparing the different models"
      ],
      "metadata": {
        "id": "DDr731MiyrJt"
      }
    },
    {
      "cell_type": "code",
      "source": [
        "#Create a dataframe by gathering the results of different experimentations\n",
        "full_results = pd.DataFrame.from_records([model_hp, model_es, model_gb])\n",
        "full_results"
      ],
      "metadata": {
        "colab": {
          "base_uri": "https://localhost:8080/",
          "height": 143
        },
        "id": "CwjPrB7F41N4",
        "outputId": "a89c1283-c38d-4a17-b96c-62e076233feb"
      },
      "execution_count": null,
      "outputs": [
        {
          "output_type": "execute_result",
          "data": {
            "text/plain": [
              "       loss       mse       mae  mape_train  mape_test  r2-train   r2-test  \\\n",
              "0  6.965263  6.965263  2.005496    0.064287   0.089526  0.932408  0.862811   \n",
              "1  6.729882  6.729882  1.838894    0.060106   0.082536  0.928789  0.867447   \n",
              "2  6.376241  6.376241  1.688674    0.036347   0.076611  0.984851  0.874413   \n",
              "\n",
              "       model_name  \n",
              "0          dnn_hp  \n",
              "1  dnn_early_stop  \n",
              "2  gradient_boost  "
            ],
            "text/html": [
              "\n",
              "  <div id=\"df-cae691b7-9575-46ae-a910-e0e13f4d73c8\" class=\"colab-df-container\">\n",
              "    <div>\n",
              "<style scoped>\n",
              "    .dataframe tbody tr th:only-of-type {\n",
              "        vertical-align: middle;\n",
              "    }\n",
              "\n",
              "    .dataframe tbody tr th {\n",
              "        vertical-align: top;\n",
              "    }\n",
              "\n",
              "    .dataframe thead th {\n",
              "        text-align: right;\n",
              "    }\n",
              "</style>\n",
              "<table border=\"1\" class=\"dataframe\">\n",
              "  <thead>\n",
              "    <tr style=\"text-align: right;\">\n",
              "      <th></th>\n",
              "      <th>loss</th>\n",
              "      <th>mse</th>\n",
              "      <th>mae</th>\n",
              "      <th>mape_train</th>\n",
              "      <th>mape_test</th>\n",
              "      <th>r2-train</th>\n",
              "      <th>r2-test</th>\n",
              "      <th>model_name</th>\n",
              "    </tr>\n",
              "  </thead>\n",
              "  <tbody>\n",
              "    <tr>\n",
              "      <th>0</th>\n",
              "      <td>6.965263</td>\n",
              "      <td>6.965263</td>\n",
              "      <td>2.005496</td>\n",
              "      <td>0.064287</td>\n",
              "      <td>0.089526</td>\n",
              "      <td>0.932408</td>\n",
              "      <td>0.862811</td>\n",
              "      <td>dnn_hp</td>\n",
              "    </tr>\n",
              "    <tr>\n",
              "      <th>1</th>\n",
              "      <td>6.729882</td>\n",
              "      <td>6.729882</td>\n",
              "      <td>1.838894</td>\n",
              "      <td>0.060106</td>\n",
              "      <td>0.082536</td>\n",
              "      <td>0.928789</td>\n",
              "      <td>0.867447</td>\n",
              "      <td>dnn_early_stop</td>\n",
              "    </tr>\n",
              "    <tr>\n",
              "      <th>2</th>\n",
              "      <td>6.376241</td>\n",
              "      <td>6.376241</td>\n",
              "      <td>1.688674</td>\n",
              "      <td>0.036347</td>\n",
              "      <td>0.076611</td>\n",
              "      <td>0.984851</td>\n",
              "      <td>0.874413</td>\n",
              "      <td>gradient_boost</td>\n",
              "    </tr>\n",
              "  </tbody>\n",
              "</table>\n",
              "</div>\n",
              "    <div class=\"colab-df-buttons\">\n",
              "\n",
              "  <div class=\"colab-df-container\">\n",
              "    <button class=\"colab-df-convert\" onclick=\"convertToInteractive('df-cae691b7-9575-46ae-a910-e0e13f4d73c8')\"\n",
              "            title=\"Convert this dataframe to an interactive table.\"\n",
              "            style=\"display:none;\">\n",
              "\n",
              "  <svg xmlns=\"http://www.w3.org/2000/svg\" height=\"24px\" viewBox=\"0 -960 960 960\">\n",
              "    <path d=\"M120-120v-720h720v720H120Zm60-500h600v-160H180v160Zm220 220h160v-160H400v160Zm0 220h160v-160H400v160ZM180-400h160v-160H180v160Zm440 0h160v-160H620v160ZM180-180h160v-160H180v160Zm440 0h160v-160H620v160Z\"/>\n",
              "  </svg>\n",
              "    </button>\n",
              "\n",
              "  <style>\n",
              "    .colab-df-container {\n",
              "      display:flex;\n",
              "      gap: 12px;\n",
              "    }\n",
              "\n",
              "    .colab-df-convert {\n",
              "      background-color: #E8F0FE;\n",
              "      border: none;\n",
              "      border-radius: 50%;\n",
              "      cursor: pointer;\n",
              "      display: none;\n",
              "      fill: #1967D2;\n",
              "      height: 32px;\n",
              "      padding: 0 0 0 0;\n",
              "      width: 32px;\n",
              "    }\n",
              "\n",
              "    .colab-df-convert:hover {\n",
              "      background-color: #E2EBFA;\n",
              "      box-shadow: 0px 1px 2px rgba(60, 64, 67, 0.3), 0px 1px 3px 1px rgba(60, 64, 67, 0.15);\n",
              "      fill: #174EA6;\n",
              "    }\n",
              "\n",
              "    .colab-df-buttons div {\n",
              "      margin-bottom: 4px;\n",
              "    }\n",
              "\n",
              "    [theme=dark] .colab-df-convert {\n",
              "      background-color: #3B4455;\n",
              "      fill: #D2E3FC;\n",
              "    }\n",
              "\n",
              "    [theme=dark] .colab-df-convert:hover {\n",
              "      background-color: #434B5C;\n",
              "      box-shadow: 0px 1px 3px 1px rgba(0, 0, 0, 0.15);\n",
              "      filter: drop-shadow(0px 1px 2px rgba(0, 0, 0, 0.3));\n",
              "      fill: #FFFFFF;\n",
              "    }\n",
              "  </style>\n",
              "\n",
              "    <script>\n",
              "      const buttonEl =\n",
              "        document.querySelector('#df-cae691b7-9575-46ae-a910-e0e13f4d73c8 button.colab-df-convert');\n",
              "      buttonEl.style.display =\n",
              "        google.colab.kernel.accessAllowed ? 'block' : 'none';\n",
              "\n",
              "      async function convertToInteractive(key) {\n",
              "        const element = document.querySelector('#df-cae691b7-9575-46ae-a910-e0e13f4d73c8');\n",
              "        const dataTable =\n",
              "          await google.colab.kernel.invokeFunction('convertToInteractive',\n",
              "                                                    [key], {});\n",
              "        if (!dataTable) return;\n",
              "\n",
              "        const docLinkHtml = 'Like what you see? Visit the ' +\n",
              "          '<a target=\"_blank\" href=https://colab.research.google.com/notebooks/data_table.ipynb>data table notebook</a>'\n",
              "          + ' to learn more about interactive tables.';\n",
              "        element.innerHTML = '';\n",
              "        dataTable['output_type'] = 'display_data';\n",
              "        await google.colab.output.renderOutput(dataTable, element);\n",
              "        const docLink = document.createElement('div');\n",
              "        docLink.innerHTML = docLinkHtml;\n",
              "        element.appendChild(docLink);\n",
              "      }\n",
              "    </script>\n",
              "  </div>\n",
              "\n",
              "\n",
              "<div id=\"df-264f72f8-2b99-4ede-a017-8e8d7303b136\">\n",
              "  <button class=\"colab-df-quickchart\" onclick=\"quickchart('df-264f72f8-2b99-4ede-a017-8e8d7303b136')\"\n",
              "            title=\"Suggest charts\"\n",
              "            style=\"display:none;\">\n",
              "\n",
              "<svg xmlns=\"http://www.w3.org/2000/svg\" height=\"24px\"viewBox=\"0 0 24 24\"\n",
              "     width=\"24px\">\n",
              "    <g>\n",
              "        <path d=\"M19 3H5c-1.1 0-2 .9-2 2v14c0 1.1.9 2 2 2h14c1.1 0 2-.9 2-2V5c0-1.1-.9-2-2-2zM9 17H7v-7h2v7zm4 0h-2V7h2v10zm4 0h-2v-4h2v4z\"/>\n",
              "    </g>\n",
              "</svg>\n",
              "  </button>\n",
              "\n",
              "<style>\n",
              "  .colab-df-quickchart {\n",
              "      --bg-color: #E8F0FE;\n",
              "      --fill-color: #1967D2;\n",
              "      --hover-bg-color: #E2EBFA;\n",
              "      --hover-fill-color: #174EA6;\n",
              "      --disabled-fill-color: #AAA;\n",
              "      --disabled-bg-color: #DDD;\n",
              "  }\n",
              "\n",
              "  [theme=dark] .colab-df-quickchart {\n",
              "      --bg-color: #3B4455;\n",
              "      --fill-color: #D2E3FC;\n",
              "      --hover-bg-color: #434B5C;\n",
              "      --hover-fill-color: #FFFFFF;\n",
              "      --disabled-bg-color: #3B4455;\n",
              "      --disabled-fill-color: #666;\n",
              "  }\n",
              "\n",
              "  .colab-df-quickchart {\n",
              "    background-color: var(--bg-color);\n",
              "    border: none;\n",
              "    border-radius: 50%;\n",
              "    cursor: pointer;\n",
              "    display: none;\n",
              "    fill: var(--fill-color);\n",
              "    height: 32px;\n",
              "    padding: 0;\n",
              "    width: 32px;\n",
              "  }\n",
              "\n",
              "  .colab-df-quickchart:hover {\n",
              "    background-color: var(--hover-bg-color);\n",
              "    box-shadow: 0 1px 2px rgba(60, 64, 67, 0.3), 0 1px 3px 1px rgba(60, 64, 67, 0.15);\n",
              "    fill: var(--button-hover-fill-color);\n",
              "  }\n",
              "\n",
              "  .colab-df-quickchart-complete:disabled,\n",
              "  .colab-df-quickchart-complete:disabled:hover {\n",
              "    background-color: var(--disabled-bg-color);\n",
              "    fill: var(--disabled-fill-color);\n",
              "    box-shadow: none;\n",
              "  }\n",
              "\n",
              "  .colab-df-spinner {\n",
              "    border: 2px solid var(--fill-color);\n",
              "    border-color: transparent;\n",
              "    border-bottom-color: var(--fill-color);\n",
              "    animation:\n",
              "      spin 1s steps(1) infinite;\n",
              "  }\n",
              "\n",
              "  @keyframes spin {\n",
              "    0% {\n",
              "      border-color: transparent;\n",
              "      border-bottom-color: var(--fill-color);\n",
              "      border-left-color: var(--fill-color);\n",
              "    }\n",
              "    20% {\n",
              "      border-color: transparent;\n",
              "      border-left-color: var(--fill-color);\n",
              "      border-top-color: var(--fill-color);\n",
              "    }\n",
              "    30% {\n",
              "      border-color: transparent;\n",
              "      border-left-color: var(--fill-color);\n",
              "      border-top-color: var(--fill-color);\n",
              "      border-right-color: var(--fill-color);\n",
              "    }\n",
              "    40% {\n",
              "      border-color: transparent;\n",
              "      border-right-color: var(--fill-color);\n",
              "      border-top-color: var(--fill-color);\n",
              "    }\n",
              "    60% {\n",
              "      border-color: transparent;\n",
              "      border-right-color: var(--fill-color);\n",
              "    }\n",
              "    80% {\n",
              "      border-color: transparent;\n",
              "      border-right-color: var(--fill-color);\n",
              "      border-bottom-color: var(--fill-color);\n",
              "    }\n",
              "    90% {\n",
              "      border-color: transparent;\n",
              "      border-bottom-color: var(--fill-color);\n",
              "    }\n",
              "  }\n",
              "</style>\n",
              "\n",
              "  <script>\n",
              "    async function quickchart(key) {\n",
              "      const quickchartButtonEl =\n",
              "        document.querySelector('#' + key + ' button');\n",
              "      quickchartButtonEl.disabled = true;  // To prevent multiple clicks.\n",
              "      quickchartButtonEl.classList.add('colab-df-spinner');\n",
              "      try {\n",
              "        const charts = await google.colab.kernel.invokeFunction(\n",
              "            'suggestCharts', [key], {});\n",
              "      } catch (error) {\n",
              "        console.error('Error during call to suggestCharts:', error);\n",
              "      }\n",
              "      quickchartButtonEl.classList.remove('colab-df-spinner');\n",
              "      quickchartButtonEl.classList.add('colab-df-quickchart-complete');\n",
              "    }\n",
              "    (() => {\n",
              "      let quickchartButtonEl =\n",
              "        document.querySelector('#df-264f72f8-2b99-4ede-a017-8e8d7303b136 button');\n",
              "      quickchartButtonEl.style.display =\n",
              "        google.colab.kernel.accessAllowed ? 'block' : 'none';\n",
              "    })();\n",
              "  </script>\n",
              "</div>\n",
              "\n",
              "  <div id=\"id_6d5b42cc-8ccd-48f3-a036-de321069b3ef\">\n",
              "    <style>\n",
              "      .colab-df-generate {\n",
              "        background-color: #E8F0FE;\n",
              "        border: none;\n",
              "        border-radius: 50%;\n",
              "        cursor: pointer;\n",
              "        display: none;\n",
              "        fill: #1967D2;\n",
              "        height: 32px;\n",
              "        padding: 0 0 0 0;\n",
              "        width: 32px;\n",
              "      }\n",
              "\n",
              "      .colab-df-generate:hover {\n",
              "        background-color: #E2EBFA;\n",
              "        box-shadow: 0px 1px 2px rgba(60, 64, 67, 0.3), 0px 1px 3px 1px rgba(60, 64, 67, 0.15);\n",
              "        fill: #174EA6;\n",
              "      }\n",
              "\n",
              "      [theme=dark] .colab-df-generate {\n",
              "        background-color: #3B4455;\n",
              "        fill: #D2E3FC;\n",
              "      }\n",
              "\n",
              "      [theme=dark] .colab-df-generate:hover {\n",
              "        background-color: #434B5C;\n",
              "        box-shadow: 0px 1px 3px 1px rgba(0, 0, 0, 0.15);\n",
              "        filter: drop-shadow(0px 1px 2px rgba(0, 0, 0, 0.3));\n",
              "        fill: #FFFFFF;\n",
              "      }\n",
              "    </style>\n",
              "    <button class=\"colab-df-generate\" onclick=\"generateWithVariable('full_results')\"\n",
              "            title=\"Generate code using this dataframe.\"\n",
              "            style=\"display:none;\">\n",
              "\n",
              "  <svg xmlns=\"http://www.w3.org/2000/svg\" height=\"24px\"viewBox=\"0 0 24 24\"\n",
              "       width=\"24px\">\n",
              "    <path d=\"M7,19H8.4L18.45,9,17,7.55,7,17.6ZM5,21V16.75L18.45,3.32a2,2,0,0,1,2.83,0l1.4,1.43a1.91,1.91,0,0,1,.58,1.4,1.91,1.91,0,0,1-.58,1.4L9.25,21ZM18.45,9,17,7.55Zm-12,3A5.31,5.31,0,0,0,4.9,8.1,5.31,5.31,0,0,0,1,6.5,5.31,5.31,0,0,0,4.9,4.9,5.31,5.31,0,0,0,6.5,1,5.31,5.31,0,0,0,8.1,4.9,5.31,5.31,0,0,0,12,6.5,5.46,5.46,0,0,0,6.5,12Z\"/>\n",
              "  </svg>\n",
              "    </button>\n",
              "    <script>\n",
              "      (() => {\n",
              "      const buttonEl =\n",
              "        document.querySelector('#id_6d5b42cc-8ccd-48f3-a036-de321069b3ef button.colab-df-generate');\n",
              "      buttonEl.style.display =\n",
              "        google.colab.kernel.accessAllowed ? 'block' : 'none';\n",
              "\n",
              "      buttonEl.onclick = () => {\n",
              "        google.colab.notebook.generateWithVariable('full_results');\n",
              "      }\n",
              "      })();\n",
              "    </script>\n",
              "  </div>\n",
              "\n",
              "    </div>\n",
              "  </div>\n"
            ],
            "application/vnd.google.colaboratory.intrinsic+json": {
              "type": "dataframe",
              "variable_name": "full_results",
              "summary": "{\n  \"name\": \"full_results\",\n  \"rows\": 3,\n  \"fields\": [\n    {\n      \"column\": \"loss\",\n      \"properties\": {\n        \"dtype\": \"number\",\n        \"std\": 0.2964832084150351,\n        \"min\": 6.376240936330989,\n        \"max\": 6.965263366699219,\n        \"num_unique_values\": 3,\n        \"samples\": [\n          6.965263366699219,\n          6.729881763458252,\n          6.376240936330989\n        ],\n        \"semantic_type\": \"\",\n        \"description\": \"\"\n      }\n    },\n    {\n      \"column\": \"mse\",\n      \"properties\": {\n        \"dtype\": \"number\",\n        \"std\": 0.2964832084150351,\n        \"min\": 6.376240936330989,\n        \"max\": 6.965263366699219,\n        \"num_unique_values\": 3,\n        \"samples\": [\n          6.965263366699219,\n          6.729881763458252,\n          6.376240936330989\n        ],\n        \"semantic_type\": \"\",\n        \"description\": \"\"\n      }\n    },\n    {\n      \"column\": \"mae\",\n      \"properties\": {\n        \"dtype\": \"number\",\n        \"std\": 0.1584814259295713,\n        \"min\": 1.6886738237842958,\n        \"max\": 2.005495548248291,\n        \"num_unique_values\": 3,\n        \"samples\": [\n          2.005495548248291,\n          1.838894248008728,\n          1.6886738237842958\n        ],\n        \"semantic_type\": \"\",\n        \"description\": \"\"\n      }\n    },\n    {\n      \"column\": \"mape_train\",\n      \"properties\": {\n        \"dtype\": \"number\",\n        \"std\": 0.015069743103697669,\n        \"min\": 0.036347241664538885,\n        \"max\": 0.06428714354650743,\n        \"num_unique_values\": 3,\n        \"samples\": [\n          0.06428714354650743,\n          0.06010559818323643,\n          0.036347241664538885\n        ],\n        \"semantic_type\": \"\",\n        \"description\": \"\"\n      }\n    },\n    {\n      \"column\": \"mape_test\",\n      \"properties\": {\n        \"dtype\": \"number\",\n        \"std\": 0.006464773615853109,\n        \"min\": 0.07661087335088482,\n        \"max\": 0.08952581065526793,\n        \"num_unique_values\": 3,\n        \"samples\": [\n          0.08952581065526793,\n          0.08253618645196235,\n          0.07661087335088482\n        ],\n        \"semantic_type\": \"\",\n        \"description\": \"\"\n      }\n    },\n    {\n      \"column\": \"r2-train\",\n      \"properties\": {\n        \"dtype\": \"number\",\n        \"std\": 0.03137485299738182,\n        \"min\": 0.9287887602341013,\n        \"max\": 0.9848507017126681,\n        \"num_unique_values\": 3,\n        \"samples\": [\n          0.9324078846674972,\n          0.9287887602341013,\n          0.9848507017126681\n        ],\n        \"semantic_type\": \"\",\n        \"description\": \"\"\n      }\n    },\n    {\n      \"column\": \"r2-test\",\n      \"properties\": {\n        \"dtype\": \"number\",\n        \"std\": 0.005839568936329537,\n        \"min\": 0.8628111159319911,\n        \"max\": 0.8744125720999134,\n        \"num_unique_values\": 3,\n        \"samples\": [\n          0.8628111159319911,\n          0.8674472165329055,\n          0.8744125720999134\n        ],\n        \"semantic_type\": \"\",\n        \"description\": \"\"\n      }\n    },\n    {\n      \"column\": \"model_name\",\n      \"properties\": {\n        \"dtype\": \"string\",\n        \"num_unique_values\": 3,\n        \"samples\": [\n          \"dnn_hp\",\n          \"dnn_early_stop\",\n          \"gradient_boost\"\n        ],\n        \"semantic_type\": \"\",\n        \"description\": \"\"\n      }\n    }\n  ]\n}"
            }
          },
          "metadata": {},
          "execution_count": 67
        }
      ]
    },
    {
      "cell_type": "code",
      "source": [
        "#Plotting the R-2 performances for each model and scaling method\n",
        "#Sorting the data according R2 on testing data\n",
        "fig, ax= plt.subplots(1,3, figsize=(12,5))\n",
        "full_results.sort_values(['r2-test'], ascending=False, inplace=True)\n",
        "bar=sns.barplot(data=full_results, x='model_name', y='r2-test', palette='Set2', ax=ax[0] )\n",
        "ax[0].set_xlabel(\"Model\")\n",
        "ax[0].set_title(\"Models' Performances Based on R-Squarred (R2)\")\n",
        "for container in bar.containers:\n",
        "  values = container.datavalues\n",
        "  labels = [\"{:.3f}\".format(val) for val in values]\n",
        "  bar.bar_label(container, labels=labels)\n",
        "\n",
        "full_results.sort_values(['mape_test'], ascending=True, inplace=True)\n",
        "bar=sns.barplot(data=full_results, x='model_name', y='mape_test', palette='Set2', ax=ax[1] )\n",
        "ax[1].set_xlabel(\"Model\")\n",
        "ax[1].set_title(\"Models' Performances Based on MAPE\")\n",
        "for container in bar.containers:\n",
        "  values = container.datavalues\n",
        "  labels = [\"{:.3f}\".format(val) for val in values]\n",
        "  bar.bar_label(container, labels=labels)\n",
        "\n",
        "full_results.sort_values(['mse'], ascending=True, inplace=True)\n",
        "bar=sns.barplot(data=full_results, x='model_name', y='mse', palette='Set2', ax=ax[2] )\n",
        "ax[2].set_xlabel(\"Model\")\n",
        "ax[2].set_title(\"Models' Performances Based on MSE\")\n",
        "for container in bar.containers:\n",
        "  values = container.datavalues\n",
        "  labels = [\"{:.3f}\".format(val) for val in values]\n",
        "  bar.bar_label(container, labels=labels)\n",
        "\n",
        "plt.tight_layout()  # Adjust layout to prevent overlap\n",
        "plt.show()"
      ],
      "metadata": {
        "colab": {
          "base_uri": "https://localhost:8080/",
          "height": 507
        },
        "outputId": "6404b491-7ad1-439e-ffbb-d02c89ba6030",
        "id": "EMSFOUAIwB2p"
      },
      "execution_count": null,
      "outputs": [
        {
          "output_type": "display_data",
          "data": {
            "text/plain": [
              "<Figure size 1200x500 with 3 Axes>"
            ],
            "image/png": "[encoded data removed]"
          },
          "metadata": {}
        }
      ]
    },
    {
      "cell_type": "markdown",
      "source": [
        "### Interpretation and Main Conclusions:\n",
        "\n",
        "1. **Performance Across Models**:\n",
        "   - **Gradient Boosting** demonstrates the best overall performance on the testing data, with the lowest **loss** (6.376), **MSE** (6.376), and **MAE** (1.689). It also achieves the highest **R² (Test)** of 0.8744 and the lowest **MAPE (Test)** of 0.0766.\n",
        "   - **DNN with Early Stopping** has slightly better performance than the **DNN with Best Hyperparameters**. It has lower **loss**, **MSE**, and **MAE**, as well as better **R² (Test)** and **MAPE (Test)**.\n",
        "   - **DNN with Best Hyperparameters** shows good performance but is outperformed by both the other models in all metrics.\n",
        "\n",
        "2. **Overfitting and Model Complexity**:\n",
        "   - **Gradient Boosting** shows very high **R² (Train)** of 0.9849, indicating it fits the training data exceptionally well. However, it still generalizes well to the testing data with an **R² (Test)** of 0.8744, suggesting minimal overfitting.\n",
        "   - The **DNN with Early Stopping** shows balanced performance, with no significant overfitting as indicated by similar **R²** values for training (0.9288) and testing (0.8674).\n",
        "   - The **DNN with Best Hyperparameters** also shows balanced performance but with slightly higher overfitting, indicated by the **R² (Train)** of 0.9324 and **R² (Test)** of 0.8628.\n",
        "\n",
        "3. **Impact of Early Stopping and Hyperparameters on DNN**:\n",
        "   - Early stopping helps prevent overfitting, leading to better generalization. The **DNN with Early Stopping** demonstrates this by achieving better performance metrics compared to the **DNN with Best Hyperparameters**.\n",
        "   - The patience value of 50 for early stopping proves to be effective in enhancing the performance of the DNN model.\n",
        "   - The **DNN with Best Hyperparameters** has a more complex architecture with more parameters (50,580) compared to the **DNN with Early Stopping** (4,884). Despite this, it does not outperform the simpler DNN model, suggesting that more complex architectures do not always yield better results.\n",
        "\n",
        "### Recommendations:\n",
        "\n",
        "- **Gradient Boosting** is preferred for this particular regression task, given its superior performance metrics.\n",
        "- **DNN with Early Stopping** is a good alternative if neural networks are preferred, as it shows balanced performance with a simpler architecture.\n",
        "- Further tuning and experiments could be conducted to explore if combining both methods (ensemble models) could yield even better results.\n"
      ],
      "metadata": {
        "id": "Z1ty2vo4Df6l"
      }
    },
    {
      "cell_type": "markdown",
      "source": [
        "# Task 6. Saving the best DNN model"
      ],
      "metadata": {
        "id": "WYDteqRZZpc_"
      }
    },
    {
      "cell_type": "markdown",
      "source": [
        "Call tf.keras.Model.save to save a model's architecture, weights, and training configuration in a single model.keras zip archive.\n",
        "\n",
        "An entire model can be saved in three different file formats (the new .keras format and two legacy formats: SavedModel, and HDF5). Saving a model as path/to/model.keras automatically saves in the latest format.\n",
        "Note: For Keras objects it's recommended to use the new high-level .keras format for richer, name-based saving and reloading, which is easier to debug. The low-level SavedModel format and legacy H5 format continue to be supported for existing code.\n",
        "\n",
        "You can switch to the SavedModel format by:\n",
        "\n",
        "    Passing save_format='tf' to save()\n",
        "    Passing a filename without an extension\n",
        "\n",
        "You can switch to the H5 format by:\n",
        "\n",
        "    Passing save_format='h5' to save()\n",
        "    Passing a filename that ends in .h5\n",
        "\n",
        "Saving a fully-functional model is very useful—you can load them in TensorFlow.js (Saved Model, HDF5) and then train and run them in web browsers, or convert them to run on mobile devices using TensorFlow Lite (Saved Model, HDF5)\n",
        "\n",
        "* Custom objects (for example, subclassed models or layers) require special attention when saving and loading. Refer to the Saving custom objects section below.\n",
        "see https://www.tensorflow.org/tutorials/keras/save_and_load"
      ],
      "metadata": {
        "id": "js-9trdvbEoP"
      }
    },
    {
      "cell_type": "code",
      "source": [
        "final_model = final_hp_model"
      ],
      "metadata": {
        "id": "dTGeWPzjQDqv"
      },
      "execution_count": null,
      "outputs": []
    },
    {
      "cell_type": "code",
      "source": [
        "!mkdir -p saved_model"
      ],
      "metadata": {
        "id": "KwJhnfH1eaqh"
      },
      "execution_count": null,
      "outputs": []
    },
    {
      "cell_type": "code",
      "source": [
        "final_model.save('save_model/dnn_model_MPG_reg-3', save_format=\"tf\") #saving in the newer format of keras => 'model.save('dnn_model_MPG_reg.keras')'\n"
      ],
      "metadata": {
        "id": "qLig58RWZi9f"
      },
      "execution_count": null,
      "outputs": []
    },
    {
      "cell_type": "code",
      "source": [
        "\n",
        "!ls save_model/dnn_model_MPG_reg-3\n"
      ],
      "metadata": {
        "id": "juqVdYJvetjc",
        "colab": {
          "base_uri": "https://localhost:8080/"
        },
        "outputId": "b4b56bfa-caae-42dc-ec9a-f5a4b168a26d"
      },
      "execution_count": null,
      "outputs": [
        {
          "output_type": "stream",
          "name": "stdout",
          "text": [
            "assets\tfingerprint.pb\tkeras_metadata.pb  saved_model.pb  variables\n"
          ]
        }
      ]
    },
    {
      "cell_type": "markdown",
      "source": [
        "Loading the model"
      ],
      "metadata": {
        "id": "-46Pz1UCcPbK"
      }
    },
    {
      "cell_type": "code",
      "source": [
        "# Recreate the exact same model, including its weights and the optimizer\n",
        "new_model = tf.keras.models.load_model('save_model/dnn_model_MPG_reg-3')\n"
      ],
      "metadata": {
        "id": "YUet87zrY1wz"
      },
      "execution_count": null,
      "outputs": []
    },
    {
      "cell_type": "code",
      "source": [
        "new_model.summary()"
      ],
      "metadata": {
        "colab": {
          "base_uri": "https://localhost:8080/"
        },
        "id": "j2U5zXJwdYlr",
        "outputId": "5fd02dd5-ad17-4727-d300-1220089e7aa0"
      },
      "execution_count": null,
      "outputs": [
        {
          "output_type": "stream",
          "name": "stdout",
          "text": [
            "Model: \"sequential_6\"\n",
            "_________________________________________________________________\n",
            " Layer (type)                Output Shape              Param #   \n",
            "=================================================================\n",
            " normalization_4 (Normaliza  (None, 9)                 19        \n",
            " tion)                                                           \n",
            "                                                                 \n",
            " dense_24 (Dense)            (None, 96)                960       \n",
            "                                                                 \n",
            " dense_25 (Dense)            (None, 256)               24832     \n",
            "                                                                 \n",
            " dense_26 (Dense)            (None, 96)                24672     \n",
            "                                                                 \n",
            " dense_27 (Dense)            (None, 1)                 97        \n",
            "                                                                 \n",
            "=================================================================\n",
            "Total params: 50580 (197.58 KB)\n",
            "Trainable params: 50561 (197.50 KB)\n",
            "Non-trainable params: 19 (80.00 Byte)\n",
            "_________________________________________________________________\n"
          ]
        }
      ]
    },
    {
      "cell_type": "code",
      "source": [
        "# Evaluate the restored model\n",
        "loss, mse, mae = new_model.evaluate(X_test, Y_test, verbose=2)\n",
        "y_pred_test = new_model.predict(X_test).flatten()\n",
        "r2_test = r2_score(Y_test, y_pred_test)\n",
        "mape_test = mean_absolute_percentage_error(Y_test, y_pred_test)\n",
        "\n",
        "print(f\"Testing set Mean Absolute Error {mae:.3f} MPG\")\n",
        "print(f\"Testing set Mean Squarred Error {mse:.3f} MPG\")\n",
        "print(f\"Testing set Mean Absolute Percentage Error {mape_test:.3f} MPG\")\n",
        "print(f\"Testing R-squarred {r2_test:.3f} MPG\")\n",
        "\n"
      ],
      "metadata": {
        "id": "WUO273RdcgqV",
        "colab": {
          "base_uri": "https://localhost:8080/"
        },
        "outputId": "653d37ff-fc94-4b9e-e101-bd20aa59ce8f"
      },
      "execution_count": null,
      "outputs": [
        {
          "output_type": "stream",
          "name": "stdout",
          "text": [
            "3/3 - 0s - loss: 6.9653 - mse: 6.9653 - mae: 2.0055 - 207ms/epoch - 69ms/step\n",
            "3/3 [==============================] - 0s 4ms/step\n",
            "Testing set Mean Absolute Error 2.005 MPG\n",
            "Testing set Mean Squarred Error 6.965 MPG\n",
            "Testing set Mean Absolute Percentage Error 0.090 MPG\n",
            "Testing R-squarred 0.863 MPG\n"
          ]
        }
      ]
    },
    {
      "cell_type": "markdown",
      "source": [
        "The model didn't lose its performances after the saving in the TF format.\n",
        "\n",
        "I have tested the keras and the h5 format but I got errors. In fact, when loading the saved model, the shape of the input data was lost. This is due to the Normalization layer. A bug report exists in this link https://github.com/keras-team/keras/issues/15348"
      ],
      "metadata": {
        "id": "tQR2uoilf4sj"
      }
    },
    {
      "cell_type": "code",
      "source": [],
      "metadata": {
        "id": "Cpmp8DWBPhAz"
      },
      "execution_count": null,
      "outputs": []
    }
  ]
}